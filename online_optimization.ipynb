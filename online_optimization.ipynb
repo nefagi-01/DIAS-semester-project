{
 "cells": [
  {
   "cell_type": "code",
   "execution_count": 1,
   "id": "8b78b715-f5b2-4b38-8f38-47ab79bf5574",
   "metadata": {},
   "outputs": [],
   "source": [
    "from sklearn.datasets import make_blobs\n",
    "import matplotlib.pyplot as plt\n",
    "import numpy as np\n",
    "import queue\n",
    "import threading\n",
    "import random"
   ]
  },
  {
   "cell_type": "code",
   "execution_count": 2,
   "id": "baa5270d-7565-4bf8-a313-75f83d013996",
   "metadata": {},
   "outputs": [],
   "source": [
    "# create artificial clusters\n",
    "\n",
    "def generate_clusters(n_clusters=3, d=2, n=100):\n",
    "    centers = np.random.rand(n_clusters,d)*15\n",
    "    cluster_std = np.random.normal(1, 0.2, n_clusters)\n",
    "    X, y = make_blobs(n_samples=n, cluster_std=cluster_std, centers=centers, n_features=d, random_state=1)\n",
    "    \n",
    "    print(\"2d plot\")\n",
    "    for cluster in range(n_clusters):\n",
    "        plt.scatter(X[y == cluster, 0], X[y == cluster, 1], s=10, label=f\"Cluster{cluster}\")  \n",
    "    return centers, cluster_std, X, y"
   ]
  },
  {
   "cell_type": "code",
   "execution_count": 3,
   "id": "9b335b08-42e3-4614-bc4b-24576d9c0dd6",
   "metadata": {},
   "outputs": [
    {
     "name": "stdout",
     "output_type": "stream",
     "text": [
      "2d plot\n"
     ]
    },
    {
     "data": {
      "image/png": "[encoded data removed]",
      "text/plain": [
       "<Figure size 432x288 with 1 Axes>"
      ]
     },
     "metadata": {
      "needs_background": "light"
     },
     "output_type": "display_data"
    }
   ],
   "source": [
    "centers, cluster_std, X, y = generate_clusters(4,2,200)"
   ]
  },
  {
   "cell_type": "code",
   "execution_count": 4,
   "id": "5e332bc2-0d52-4b67-ba76-4ff44878986f",
   "metadata": {},
   "outputs": [],
   "source": [
    "# assign cluster to datapoint\n",
    "def A(x, centers):\n",
    "    distances = np.linalg.norm(centers - x, 2, 1)\n",
    "    return int(np.argmin(distances))"
   ]
  },
  {
   "cell_type": "code",
   "execution_count": 5,
   "id": "12d2b029-0da0-4018-a1a7-f23676596762",
   "metadata": {},
   "outputs": [],
   "source": [
    "def update_center(x, center, count, add=True):\n",
    "    if add:\n",
    "        center = (center*count+x)/(count+1)\n",
    "        return center, count+1\n",
    "    else:\n",
    "        if (count - 1) > 0:\n",
    "            center = (center*count-x)/(count-1)\n",
    "        return center, max(0,count -1)"
   ]
  },
  {
   "cell_type": "code",
   "execution_count": 6,
   "id": "f846d5c5-546e-453f-9b37-17538d95917e",
   "metadata": {},
   "outputs": [],
   "source": [
    "# update centers\n",
    "def B(cluster_count, x, centers, id_cluster, previous_assignment, i):\n",
    "    if id_cluster != previous_assignment[i]:\n",
    "        # if not first assignment, then update center of previous cluster by removing x\n",
    "        if previous_assignment[i] != -1:\n",
    "            centers[previous_assignment[i]], cluster_count[previous_assignment[i]] = update_center(x,centers[previous_assignment[i]],cluster_count[previous_assignment[i]],add=False)\n",
    "            cluster_count[previous_assignment[i]] -= 1\n",
    "        # update center of new cluster assigned to\n",
    "        centers[id_cluster], cluster_count[id_cluster] = update_center(x,centers[id_cluster],cluster_count[id_cluster],add=True)\n",
    "        previous_assignment[i] = id_cluster\n",
    "    return cluster_count, centers, previous_assignment"
   ]
  },
  {
   "cell_type": "code",
   "execution_count": 7,
   "id": "a8e2cc7d-508f-4ac8-a2d6-dcffcab2b623",
   "metadata": {},
   "outputs": [],
   "source": [
    "def k_means(X, n_clusters, n_iterations, d):\n",
    "    centers = np.random.rand(n_clusters,d)*15\n",
    "    cluster_count = np.zeros(n_clusters)\n",
    "    previous_assignment = np.ones(n).astype(int)*(-1)\n",
    "    for j in range(n_iterations):\n",
    "        for i, x in enumerate(X):\n",
    "            id_cluster = A(x,centers)\n",
    "            cluster_count, centers, previous_assignment = B(cluster_count, x, centers, id_cluster, previous_assignment, i)\n",
    "    return cluster_count, centers, previous_assignment "
   ]
  },
  {
   "cell_type": "markdown",
   "id": "41536aa0-fc31-45f6-9ce0-e4088b0e9c29",
   "metadata": {},
   "source": [
    "# Parallel execution using queues"
   ]
  },
  {
   "cell_type": "code",
   "execution_count": 8,
   "id": "b86e8bcc-f368-4636-837f-f46e6ed10e9e",
   "metadata": {},
   "outputs": [],
   "source": [
    "def k_means_optimized(X, n_clusters, n_iterations, d):\n",
    "    n = len(X)\n",
    "    centers = np.random.rand(n_clusters,d)*15\n",
    "    cluster_count = np.zeros(n_clusters)\n",
    "    previous_assignment = np.ones(n).astype(int)*(-1)\n",
    "    queue_A = queue.Queue()\n",
    "    [queue_A.put((i,x)) for i, x in enumerate(X)];\n",
    "    queue_B = queue.Queue()\n",
    "    \n",
    "    def B_consumer():\n",
    "        for j in range(n*n_iterations):\n",
    "            i, x, id_cluster = queue_B.get()\n",
    "            if id_cluster != previous_assignment[i]:\n",
    "                # if not first assignment, then update center of previous cluster by removing x\n",
    "                if previous_assignment[i] != -1:\n",
    "                    centers[previous_assignment[i]], cluster_count[previous_assignment[i]] = update_center(x,centers[previous_assignment[i]],cluster_count[previous_assignment[i]],add=False)\n",
    "                    cluster_count[previous_assignment[i]] -= 1\n",
    "                # update center of new cluster assigned to\n",
    "                centers[id_cluster], cluster_count[id_cluster] = update_center(x,centers[id_cluster],cluster_count[id_cluster],add=True)\n",
    "                previous_assignment[i] = id_cluster\n",
    "            queue_A.put((i, x))\n",
    "\n",
    "    \n",
    "    def A_producer():\n",
    "        for j in range(n*n_iterations):\n",
    "            # .get() is a blocking operation\n",
    "            i, x = queue_A.get()\n",
    "            id_cluster = A(x, centers)\n",
    "            queue_B.put((i,x,id_cluster))\n",
    "        \n",
    "                \n",
    "   \n",
    "    \n",
    "    \n",
    "    # create a producer thread\n",
    "    producer_thread = threading.Thread(target=A_producer, args=())\n",
    "    # start the producer threa\n",
    "    producer_thread.start()\n",
    "    \n",
    "    # create a consumer thread\n",
    "    consumer_thread = threading.Thread(target=B_consumer, args=())\n",
    "    # start the consumer thread\n",
    "    consumer_thread.start()\n",
    "    \n",
    "    # wait for all threads to finish\n",
    "    producer_thread.join()\n",
    "    consumer_thread.join()\n",
    "    \n",
    "    return cluster_count, centers, previous_assignment \n",
    "    "
   ]
  },
  {
   "cell_type": "markdown",
   "id": "7da71cb5-d9ca-43d1-8e9f-e2964e050bb0",
   "metadata": {},
   "source": [
    "# Speculation on centers"
   ]
  },
  {
   "cell_type": "code",
   "execution_count": null,
   "id": "0ac49ffd-1a1b-4793-ae53-0c3cafc59737",
   "metadata": {},
   "outputs": [],
   "source": []
  },
  {
   "cell_type": "markdown",
   "id": "c7695628-dd2a-4cca-96d6-04dae253512f",
   "metadata": {
    "jp-MarkdownHeadingCollapsed": true,
    "tags": []
   },
   "source": [
    "# Simulation"
   ]
  },
  {
   "cell_type": "code",
   "execution_count": 9,
   "id": "94646fc9-20b3-4742-b17b-694c8ab03dad",
   "metadata": {},
   "outputs": [],
   "source": [
    "n_clusters = len(centers)\n",
    "d = 2\n",
    "true_centers = centers\n",
    "n = len(X)\n",
    "n_iterations = 100000"
   ]
  },
  {
   "cell_type": "code",
   "execution_count": 10,
   "id": "5f319833-cc77-4fe0-b548-25a2f591b55d",
   "metadata": {},
   "outputs": [
    {
     "name": "stdout",
     "output_type": "stream",
     "text": [
      "Wall time: 4min 4s\n"
     ]
    }
   ],
   "source": [
    "%%time\n",
    "\n",
    "cluster_count, result, previous_assignment  = k_means(X, n_clusters, n_iterations, d)"
   ]
  },
  {
   "cell_type": "code",
   "execution_count": 11,
   "id": "ff92571d-e99e-43d4-bb3b-efb11baa9c8a",
   "metadata": {},
   "outputs": [
    {
     "data": {
      "image/png": "[encoded data removed]",
      "text/plain": [
       "<Figure size 432x288 with 1 Axes>"
      ]
     },
     "metadata": {
      "needs_background": "light"
     },
     "output_type": "display_data"
    }
   ],
   "source": [
    "for cluster in range(n_clusters):\n",
    "        plt.scatter(X[y == cluster, 0], X[y == cluster, 1], s=10, label=f\"Cluster{cluster}\")  \n",
    "for center in result:\n",
    "    plt.scatter(center[0], center[1], s=50)"
   ]
  },
  {
   "cell_type": "markdown",
   "id": "f4213515-edad-450b-99c8-94a9c2c5d8c2",
   "metadata": {
    "tags": []
   },
   "source": [
    "# Simulation Optimized"
   ]
  },
  {
   "cell_type": "code",
   "execution_count": 12,
   "id": "94ac8b00-a862-4e60-b76a-a57f84431c3e",
   "metadata": {},
   "outputs": [
    {
     "name": "stdout",
     "output_type": "stream",
     "text": [
      "Wall time: 11min 50s\n"
     ]
    }
   ],
   "source": [
    "%%time\n",
    "cluster_count, centers, previous_assignment = k_means_optimized(X, n_clusters, n_iterations, d)"
   ]
  },
  {
   "cell_type": "code",
   "execution_count": 13,
   "id": "d701f502-638e-413e-8acc-8bf35b6fb655",
   "metadata": {},
   "outputs": [
    {
     "data": {
      "image/png": "[encoded data removed]",
      "text/plain": [
       "<Figure size 432x288 with 1 Axes>"
      ]
     },
     "metadata": {
      "needs_background": "light"
     },
     "output_type": "display_data"
    }
   ],
   "source": [
    "for cluster in range(n_clusters):\n",
    "        plt.scatter(X[y == cluster, 0], X[y == cluster, 1], s=10, label=f\"Cluster{cluster}\")  \n",
    "for center in centers:\n",
    "    plt.scatter(center[0], center[1], s=50)"
   ]
  },
  {
   "cell_type": "markdown",
   "id": "70140757-4730-4239-9a31-bc801ceaaf7f",
   "metadata": {
    "tags": []
   },
   "source": [
    "# Measurements"
   ]
  },
  {
   "cell_type": "code",
   "execution_count": 72,
   "id": "c6ee351a-bf90-4625-8f58-dc447a9f4f1a",
   "metadata": {},
   "outputs": [],
   "source": [
    "n = len(X)\n",
    "n_clusters = 4\n",
    "d = 2\n",
    "n_iterations = 10\n",
    "centers = np.random.rand(n_clusters,d)*15\n",
    "cluster_count = np.zeros(n_clusters)\n",
    "previous_assignment = np.ones(n).astype(int)*(-1)\n",
    "queue_A = queue.Queue()\n",
    "[queue_A.put((i,x)) for i, x in enumerate(X)];\n",
    "queue_B = queue.Queue()\n",
    "[queue_B.put((i,x, random.randint(0,n_clusters-1))) for i, x in enumerate(X)];\n",
    "\n",
    "def B_consumer():\n",
    "    while not queue_B.empty():\n",
    "        i, x, id_cluster = queue_B.get()\n",
    "        if id_cluster != previous_assignment[i]:\n",
    "            # if not first assignment, then update center of previous cluster by removing x\n",
    "            if previous_assignment[i] != -1:\n",
    "                centers[previous_assignment[i]], cluster_count[previous_assignment[i]] = update_center(x,centers[previous_assignment[i]],cluster_count[previous_assignment[i]],add=False)\n",
    "                cluster_count[previous_assignment[i]] -= 1\n",
    "            # update center of new cluster assigned to\n",
    "            centers[id_cluster], cluster_count[id_cluster] = update_center(x,centers[id_cluster],cluster_count[id_cluster],add=True)\n",
    "            previous_assignment[i] = id_cluster\n",
    "        \n",
    "\n",
    "\n",
    "def A_producer():\n",
    "    while not queue_A.empty():\n",
    "        # .get() is a blocking operation\n",
    "        i, x = queue_A.get()\n",
    "        id_cluster = A(x, centers)"
   ]
  },
  {
   "cell_type": "code",
   "execution_count": 73,
   "id": "da2cb4a7-8f9b-476c-9eb3-eb14f20e1215",
   "metadata": {},
   "outputs": [
    {
     "name": "stdout",
     "output_type": "stream",
     "text": [
      "Wall time: 51 ms\n"
     ]
    },
    {
     "name": "stderr",
     "output_type": "stream",
     "text": [
      "C:\\Users\\stefa\\AppData\\Local\\Temp/ipykernel_7680/1850516115.py:3: RuntimeWarning: divide by zero encountered in true_divide\n",
      "  center = (center*count+x)/(count+1)\n",
      "C:\\Users\\stefa\\AppData\\Local\\Temp/ipykernel_7680/1850516115.py:3: RuntimeWarning: invalid value encountered in multiply\n",
      "  center = (center*count+x)/(count+1)\n"
     ]
    }
   ],
   "source": [
    "%%time\n",
    "B_consumer()"
   ]
  },
  {
   "cell_type": "code",
   "execution_count": 74,
   "id": "7f00a991-5e3c-4890-bdb2-c5ee42186911",
   "metadata": {},
   "outputs": [
    {
     "name": "stdout",
     "output_type": "stream",
     "text": [
      "Wall time: 65 ms\n"
     ]
    }
   ],
   "source": [
    "%%time\n",
    "A_producer()"
   ]
  },
  {
   "cell_type": "code",
   "execution_count": null,
   "id": "e69b97e3-2015-4384-93f4-0f7ad6dba476",
   "metadata": {},
   "outputs": [],
   "source": []
  }
 ],
 "metadata": {
  "kernelspec": {
   "display_name": "Python 3 (ipykernel)",
   "language": "python",
   "name": "python3"
  },
  "language_info": {
   "codemirror_mode": {
    "name": "ipython",
    "version": 3
   },
   "file_extension": ".py",
   "mimetype": "text/x-python",
   "name": "python",
   "nbconvert_exporter": "python",
   "pygments_lexer": "ipython3",
   "version": "3.8.12"
  }
 },
 "nbformat": 4,
 "nbformat_minor": 5
}
