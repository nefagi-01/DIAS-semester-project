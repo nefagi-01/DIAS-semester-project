{
 "cells": [
  {
   "cell_type": "code",
   "execution_count": 3,
   "id": "2ad409d9-4170-40a7-8b60-a8cd83f63de2",
   "metadata": {},
   "outputs": [
    {
     "name": "stdout",
     "output_type": "stream",
     "text": [
      "The autoreload extension is already loaded. To reload it, use:\n",
      "  %reload_ext autoreload\n"
     ]
    }
   ],
   "source": [
    "%load_ext autoreload\n",
    "%autoreload 2\n",
    "from utils.KMeans import *\n",
    "from openml.datasets import list_datasets, get_datasets\n",
    "import pandas as pd\n",
    "import warnings\n",
    "import matplotlib.pyplot as plt\n",
    "import matplotlib.ticker as ticker\n",
    "import seaborn as sns\n",
    "from sklearn.linear_model import LinearRegression\n",
    "from scipy import stats\n",
    "from sklearn.datasets import make_blobs\n",
    "import gc\n",
    "from utils.helpers import load_datasets, clean_dataset\n",
    "from matplotlib import rc\n",
    "import matplotlib.pylab as plt\n",
    "import matplotlib \n",
    "matplotlib.rcParams['font.family'] = 'serif'\n",
    "matplotlib.rcParams['font.serif'] = ['Computer Modern']"
   ]
  },
  {
   "cell_type": "markdown",
   "id": "3722e734-1ae5-4067-9750-387578100c57",
   "metadata": {},
   "source": [
    "# 1. Plot (ratio,k)"
   ]
  },
  {
   "cell_type": "code",
   "execution_count": 4,
   "id": "28b9f60c-916e-46b8-881d-3635a919660e",
   "metadata": {},
   "outputs": [
    {
     "data": {
      "text/plain": [
       "Text(0.5, 1.0, 'Evolution ratio between Assignment and Update time of executions')"
      ]
     },
     "execution_count": 4,
     "metadata": {},
     "output_type": "execute_result"
    },
    {
     "data": {
      "image/png": "[encoded data removed]",
      "text/plain": [
       "<Figure size 504x360 with 1 Axes>"
      ]
     },
     "metadata": {
      "needs_background": "light"
     },
     "output_type": "display_data"
    }
   ],
   "source": [
    "# Import dataset    \n",
    "df = pd.read_csv('./data/measurements_1_1.csv')\n",
    "# Compute ratio\n",
    "df['ratio_AB_median'] = df['t_A_median']/df['t_B_median']\n",
    "# Clean dataset\n",
    "df_clean = clean_dataset(df)\n",
    "\n",
    "# Plot\n",
    "# Set Latex font\n",
    "rc('font', **{'family': 'serif', 'serif': ['Computer Modern']})\n",
    "rc('text', usetex=True)\n",
    "\n",
    "# Scatterplot\n",
    "fig, ax = plt.subplots(figsize = (7,5))\n",
    "sns.scatterplot(data=df_clean, x='n_clusters', y='ratio_AB_median', ax = ax)\n",
    "ax.set_xlabel('k (number of clusters)')\n",
    "ax.set_ylabel('Ratio')\n",
    "ax.set_title('Evolution ratio between Assignment and Update time of executions')"
   ]
  },
  {
   "cell_type": "markdown",
   "id": "71959676-17c8-4a31-87d5-a25e3edcccc3",
   "metadata": {},
   "source": [
    "# 2. Plot speculation vs basic kmeans"
   ]
  },
  {
   "cell_type": "code",
   "execution_count": 54,
   "id": "f89d2fe0-b001-4b2e-b419-f9e281ddcf96",
   "metadata": {},
   "outputs": [
    {
     "name": "stdout",
     "output_type": "stream",
     "text": [
      "The autoreload extension is already loaded. To reload it, use:\n",
      "  %reload_ext autoreload\n"
     ]
    }
   ],
   "source": [
    "%load_ext autoreload\n",
    "%autoreload 2\n",
    "from utils.helpers import extend_df, extend_array, generate_clusters, timeseries_plot, load_datasets, generate_complex_datasets, estimate_optimal_centroids, load_downloaded_datasets, agg_and_plot, fit_linear_regression, find_bad_initalization\n",
    "from utils.KMeans import KMeans, getLables, getCentroids, getAvgDist, KMeans_sketching\n",
    "import numpy as np\n",
    "import pandas as pd\n",
    "import matplotlib.pyplot as plt\n",
    "import time\n",
    "import seaborn as sns\n",
    "from sklearn.cluster import KMeans as KMeans_sk\n",
    "import pickle\n",
    "from time import process_time_ns"
   ]
  },
  {
   "cell_type": "code",
   "execution_count": 53,
   "id": "72629b7d-37ce-4b14-96b6-f4a327e4debd",
   "metadata": {},
   "outputs": [],
   "source": [
    "# load datasets\n",
    "query = \"NumberOfInstances > 10000 &\\\n",
    "         NumberOfInstances < 100000 &\\\n",
    "         NumberOfNumericFeatures > 5 &\\\n",
    "         NumberOfNumericFeatures < 50 &\\\n",
    "         NumberOfMissingValues == 0 &\\\n",
    "         NumberOfSymbolicFeatures == 0\"\n",
    "\n",
    "X_list = load_datasets(query, n_datasets = 10, search = False)"
   ]
  },
  {
   "cell_type": "code",
   "execution_count": 56,
   "id": "9239ccde-fc6d-4365-9f9f-64c04e4b5a1b",
   "metadata": {},
   "outputs": [
    {
     "name": "stderr",
     "output_type": "stream",
     "text": [
      "C:\\Users\\stefa\\PycharmProjects\\DIAS-semester-project\\utils\\KMeans.py:39: RuntimeWarning: invalid value encountered in true_divide\n",
      "  return np.apply_along_axis(fn, 0, X) / group_counts\n"
     ]
    },
    {
     "data": {
      "image/png": "[encoded data removed]",
      "text/plain": [
       "<Figure size 432x288 with 1 Axes>"
      ]
     },
     "metadata": {
      "needs_background": "light"
     },
     "output_type": "display_data"
    },
    {
     "data": {
      "text/plain": [
       "<AxesSubplot:xlabel='Step', ylabel='Inertia (Average squared distance)'>"
      ]
     },
     "execution_count": 56,
     "metadata": {},
     "output_type": "execute_result"
    }
   ],
   "source": [
    "# Set parameter\n",
    "seed = 0\n",
    "np.random.seed(seed)\n",
    "k = 5\n",
    "num_iter = 50\n",
    "subsample_size = 0.01\n",
    "tol = 0\n",
    "\n",
    "# Create dataset\n",
    "X = X_list[0]\n",
    "n, d = X.shape\n",
    "\n",
    "# Set output path\n",
    "path = './data/sketching/plot_2.csv'\n",
    "\n",
    "# Compute optimal centroids\n",
    "opt_centroids = estimate_optimal_centroids(X, k, seed=0, n_init=50, tol=1e-6)\n",
    "\n",
    "# Compute initial centroids\n",
    "np.random.seed(seed)\n",
    "initial_centroids = X[np.random.choice(n, k, replace=False)]  # (k, d)\n",
    "\n",
    "# Speculation execution\n",
    "labels, centroids = KMeans_sketching(X, k, num_iter=num_iter, seed=seed, subsample_size=subsample_size, save=True, path=path, measure=True, choose_best=True, resampling=True, trace=True, tol=tol, resample_centroid=False, centroids=initial_centroids)\n",
    "\n",
    "# Read .csv\n",
    "df = pd.read_csv(path)\n",
    "\n",
    "# Extend df to have num_iter rows\n",
    "df = extend_df(df, num_iter)\n",
    "\n",
    "# Define inertia_speculation\n",
    "df['inertia_speculation'] = df[['L_slow', 'L_fast']].min(axis=1)\n",
    "\n",
    "# Estimate optimal centroids\n",
    "opt_centroids = estimate_optimal_centroids(X, k, seed=0, n_init=50, tol=1e-6)\n",
    "\n",
    "# Add L_opt\n",
    "df['inertia_optimal'] = getAvgDist(X, opt_centroids)\n",
    "\n",
    "# Add basic execution\n",
    "_, _, inertia_basic = KMeans(X, k, num_iter=num_iter, seed=seed, tol=tol, centroids=initial_centroids, measure_inertia=True)\n",
    "df['inertia_basic'] = extend_array(inertia_basic, num_iter)\n",
    "\n",
    "# Timeseries plot\n",
    "timeseries_plot(df[['inertia_speculation', 'inertia_optimal', 'inertia_basic']], xlabel='Step', ylabel='Inertia (Average squared distance)')"
   ]
  },
  {
   "cell_type": "code",
   "execution_count": null,
   "id": "e5b47959-f33c-404e-bd90-e0dc75d207c9",
   "metadata": {},
   "outputs": [],
   "source": []
  }
 ],
 "metadata": {
  "kernelspec": {
   "display_name": "Python 3 (ipykernel)",
   "language": "python",
   "name": "python3"
  },
  "language_info": {
   "codemirror_mode": {
    "name": "ipython",
    "version": 3
   },
   "file_extension": ".py",
   "mimetype": "text/x-python",
   "name": "python",
   "nbconvert_exporter": "python",
   "pygments_lexer": "ipython3",
   "version": "3.8.12"
  }
 },
 "nbformat": 4,
 "nbformat_minor": 5
}
