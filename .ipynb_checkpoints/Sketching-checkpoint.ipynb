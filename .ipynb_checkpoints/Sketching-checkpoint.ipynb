{
 "cells": [
  {
   "cell_type": "markdown",
   "id": "b0bd24c5-07da-4280-ae5d-47ebe41a8d0d",
   "metadata": {},
   "source": [
    "# 1. Method description\n",
    "\n",
    "In this method we run 2 executions of KMeans in parallel:\n",
    "- The first one runs on the full dataset, and performs A, and then B. A -> B\n",
    "- The second one runs over a subset of the dataset, and performs A, and then B, multiple times. We describe this as a-> b -> a -> b -> ... -> b. We use small a,b to indicate we are using a subset of the dataset.\n",
    "\n",
    "We then compute:\n",
    "- L_slow, the average distance from each point to its centroid, using the centroids obtained from the first slow execution\n",
    "- L_fast, the average distance from each point to its centroid, using the centroids obtained from the second fast execution\n",
    "\n",
    "Afterwards, we compare L_slow and L_fast: we select the centroids of the lowest one.\n",
    "\n",
    "The idea is that we can distinguish 2 phases in KMeans:\n",
    "- the first phase we try to move the centroids from the initialization points near to the respective clusters. We may not need the whole dataset in this phase, and that's why the second and faster execution of KMeans may help\n",
    "- the second phase start when we almost found the correct position of the centroids and the respective clusters. We are not trying to converge by fixing the last datapoints which are not correctly classified. In this phase is more critical to use the whole dataset, since we need to make small updates of the centroids, which are critical for the convergence.\n",
    "\n",
    "Let's call L the average distance between datapoints and their centroids.\n",
    "\n",
    "We expect that:\n",
    "- L_slow is going to be greater than L_fast in the first phase, so we will benefit from the execution of the second fast run.\n",
    "- L_slow is going to be less than L_fast in the second phase, so we will no more benefit from the execution of the second fast run. *In this case we may switch to only data parallelism.*"
   ]
  },
  {
   "cell_type": "markdown",
   "id": "f5f4a16f-cd63-474e-9c1d-169daaf55e17",
   "metadata": {},
   "source": [
    "# 2. Measurements L_slow - L_fast \n",
    "\n",
    "In this section we study how L_slow - L_fast evolves during the KMeans execution.\n",
    "\n",
    "As we said before:\n",
    "We expect that:\n",
    "- L_slow is going to be greater than L_fast in the first phase, so we will benefit from the execution of the second fast run.\n",
    "- L_slow is going to be less than L_fast in the second phase, so we will no more benefit from the execution of the second fast run. \n",
    "\n",
    "Let's call L_diff = (L_slow - L_fast).\n",
    "\n",
    "We therefore **expect to see L_diff increasing** during the convergence of KMeans."
   ]
  },
  {
   "cell_type": "code",
   "execution_count": 1,
   "id": "89c88ace-a305-42d4-8b6f-9b4319419c89",
   "metadata": {},
   "outputs": [],
   "source": [
    "from utils.helpers import generate_clusters\n",
    "from KMeans import KMeans, getLables, getCentroids, getAvgDist\n",
    "import numpy as np"
   ]
  },
  {
   "cell_type": "code",
   "execution_count": 2,
   "id": "b1a29577-1478-4462-bc90-74d15e714af6",
   "metadata": {},
   "outputs": [],
   "source": [
    "# set seed = 0\n",
    "seed = 0\n",
    "np.random.seed(seed)\n",
    "# define parameters\n",
    "n = 10000\n",
    "d = 2\n",
    "k = 3\n",
    "# create synthetic dataset\n",
    "true_centroids, _, X, y = generate_clusters(n_clusters=k, d=d, n=n, seed = seed)"
   ]
  },
  {
   "cell_type": "code",
   "execution_count": 3,
   "id": "2c1bdf5e-75c6-431d-a566-047b9f78b3ac",
   "metadata": {},
   "outputs": [],
   "source": [
    "# initialize centroids\n",
    "np.random.seed(seed)\n",
    "centroids = X[np.random.choice(n, k, replace=False)]"
   ]
  },
  {
   "cell_type": "code",
   "execution_count": 5,
   "id": "6196feca-270a-45c0-824e-669d33d6e41b",
   "metadata": {},
   "outputs": [],
   "source": [
    "# slow execution\n",
    "\n",
    "# A - Assignment step\n",
    "labels = getLables(X, centroids) \n",
    "# B - Update step\n",
    "centroids = getCentroids(X, labels, k)\n",
    "# Compute avg distance\n",
    "L_slow = getAvgDist(X, centroids)"
   ]
  },
  {
   "cell_type": "code",
   "execution_count": 6,
   "id": "b0995719-3e8b-40cc-b8b2-ea48194ea2c9",
   "metadata": {},
   "outputs": [],
   "source": [
    "# fast execution\n",
    "\n",
    "# Subsampling\n",
    "np.random.seed(seed)\n",
    "subsample_size = 0.01\n",
    "mask = np.random.choice([True, False], size=X.shape[0], p=[subsample_size, 1-subsample_size])\n",
    "\n",
    "# Number of executions n_executions = 1/subsample_size\n",
    "n_executions = int(np.floor(1/subsample_size))\n",
    "\n",
    "# Execute a,b n_execution times\n",
    "for i in range(n_executions):\n",
    "    # A - Assignment step\n",
    "    labels = getLables(X[mask], centroids) \n",
    "    # B - Update step\n",
    "    centroids = getCentroids(X[mask], labels, k)\n",
    "    \n",
    "# Compute avg distance - we use the whole dataset X now!\n",
    "L_fast = getAvgDist(X, centroids)"
   ]
  },
  {
   "cell_type": "code",
   "execution_count": 7,
   "id": "aeea5ac1-a273-42f1-b21a-c22758812300",
   "metadata": {},
   "outputs": [
    {
     "data": {
      "text/plain": [
       "-0.38518182985632476"
      ]
     },
     "execution_count": 7,
     "metadata": {},
     "output_type": "execute_result"
    }
   ],
   "source": [
    "# compute L_diff\n",
    "\n",
    "L_fast - L_slow"
   ]
  },
  {
   "cell_type": "code",
   "execution_count": null,
   "id": "0192f3df-668a-4877-928b-807b0f0fb512",
   "metadata": {},
   "outputs": [],
   "source": []
  }
 ],
 "metadata": {
  "kernelspec": {
   "display_name": "Python 3 (ipykernel)",
   "language": "python",
   "name": "python3"
  },
  "language_info": {
   "codemirror_mode": {
    "name": "ipython",
    "version": 3
   },
   "file_extension": ".py",
   "mimetype": "text/x-python",
   "name": "python",
   "nbconvert_exporter": "python",
   "pygments_lexer": "ipython3",
   "version": "3.8.12"
  }
 },
 "nbformat": 4,
 "nbformat_minor": 5
}
