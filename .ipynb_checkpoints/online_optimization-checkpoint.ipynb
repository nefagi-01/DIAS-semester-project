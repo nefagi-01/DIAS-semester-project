{
 "cells": [
  {
   "cell_type": "code",
   "execution_count": 47,
   "id": "8b78b715-f5b2-4b38-8f38-47ab79bf5574",
   "metadata": {},
   "outputs": [],
   "source": [
    "from sklearn.datasets import make_blobs\n",
    "import matplotlib.pyplot as plt\n",
    "import numpy as np\n",
    "import queue\n",
    "import threading"
   ]
  },
  {
   "cell_type": "code",
   "execution_count": 2,
   "id": "baa5270d-7565-4bf8-a313-75f83d013996",
   "metadata": {},
   "outputs": [],
   "source": [
    "# create artificial clusters\n",
    "\n",
    "def generate_clusters(n_clusters=3, d=2, n=100):\n",
    "    centers = np.random.rand(n_clusters,d)*15\n",
    "    cluster_std = np.random.normal(1, 0.2, n_clusters)\n",
    "    X, y = make_blobs(n_samples=n, cluster_std=cluster_std, centers=centers, n_features=d, random_state=1)\n",
    "    \n",
    "    print(\"2d plot\")\n",
    "    for cluster in range(n_clusters):\n",
    "        plt.scatter(X[y == cluster, 0], X[y == cluster, 1], s=10, label=f\"Cluster{cluster}\")  \n",
    "    return centers, cluster_std, X, y"
   ]
  },
  {
   "cell_type": "code",
   "execution_count": 3,
   "id": "9b335b08-42e3-4614-bc4b-24576d9c0dd6",
   "metadata": {},
   "outputs": [
    {
     "name": "stdout",
     "output_type": "stream",
     "text": [
      "2d plot\n"
     ]
    },
    {
     "data": {
      "image/png": "[encoded data removed]",
      "text/plain": [
       "<Figure size 432x288 with 1 Axes>"
      ]
     },
     "metadata": {
      "needs_background": "light"
     },
     "output_type": "display_data"
    }
   ],
   "source": [
    "centers, cluster_std, X, y = generate_clusters(4,2,200)"
   ]
  },
  {
   "cell_type": "code",
   "execution_count": 4,
   "id": "5e332bc2-0d52-4b67-ba76-4ff44878986f",
   "metadata": {},
   "outputs": [],
   "source": [
    "# assign cluster to datapoint\n",
    "def A(x, centers):\n",
    "    distances = np.linalg.norm(centers - x, 2, 1)\n",
    "    return int(np.argmin(distances))"
   ]
  },
  {
   "cell_type": "code",
   "execution_count": 5,
   "id": "12d2b029-0da0-4018-a1a7-f23676596762",
   "metadata": {},
   "outputs": [],
   "source": [
    "def update_center(x, center, count, add=True):\n",
    "    if add:\n",
    "        center = (center*count+x)/(count+1)\n",
    "        return center, count+1\n",
    "    else:\n",
    "        center = (center*count-x)/(count-1)\n",
    "        return center, count-1"
   ]
  },
  {
   "cell_type": "code",
   "execution_count": 6,
   "id": "f846d5c5-546e-453f-9b37-17538d95917e",
   "metadata": {},
   "outputs": [],
   "source": [
    "# update centers\n",
    "def B(cluster_count, x, centers, id_cluster, previous_assignment, i):\n",
    "    if id_cluster != previous_assignment[i]:\n",
    "        # if not first assignment, then update center of previous cluster by removing x\n",
    "        if previous_assignment[i] != -1:\n",
    "            centers[previous_assignment[i]], cluster_count[previous_assignment[i]] = update_center(x,centers[previous_assignment[i]],cluster_count[previous_assignment[i]],add=False)\n",
    "            cluster_count[previous_assignment[i]] -= 1\n",
    "        # update center of new cluster assigned to\n",
    "        centers[id_cluster], cluster_count[id_cluster] = update_center(x,centers[id_cluster],cluster_count[id_cluster],add=True)\n",
    "        previous_assignment[i] = id_cluster\n",
    "    return cluster_count, centers, previous_assignment"
   ]
  },
  {
   "cell_type": "code",
   "execution_count": 35,
   "id": "a8e2cc7d-508f-4ac8-a2d6-dcffcab2b623",
   "metadata": {},
   "outputs": [],
   "source": [
    "def k_means(X, n_clusters, n_iterations, d):\n",
    "    centers = np.random.rand(n_clusters,d)*15\n",
    "    cluster_count = np.zeros(n_clusters)\n",
    "    previous_assignment = np.ones(n).astype(int)*(-1)\n",
    "    for j in range(n_iterations):\n",
    "        for i, x in enumerate(X):\n",
    "            id_cluster = A(x,centers)\n",
    "            cluster_count, centers, previous_assignment = B(cluster_count, x, centers, id_cluster, previous_assignment, i)\n",
    "    return cluster_count, centers, previous_assignment "
   ]
  },
  {
   "cell_type": "code",
   "execution_count": 36,
   "id": "bb8cefb2-8105-45d9-a6d0-96948a60b493",
   "metadata": {},
   "outputs": [],
   "source": [
    "def A_producer():\n",
    "    print(\n",
    "    while True:\n",
    "        i, x = queue_A.get()\n",
    "        id_cluster = A(x, centers)\n",
    "        queue_B.put((i,x,id_cluster))\n",
    "        if counter > n*n_iterations:\n",
    "            break"
   ]
  },
  {
   "cell_type": "code",
   "execution_count": 37,
   "id": "9bc4c2d0-db7f-4de3-8001-1fe227ac7c0f",
   "metadata": {},
   "outputs": [],
   "source": [
    "def B_consumer():\n",
    "    while True:\n",
    "        i, x, id_cluster = queue_B.get()\n",
    "        if id_cluster != previous_assignment[i]:\n",
    "            # if not first assignment, then update center of previous cluster by removing x\n",
    "            if previous_assignment[i] != -1:\n",
    "                centers[previous_assignment[i]], cluster_count[previous_assignment[i]] = update_center(x,centers[previous_assignment[i]],cluster_count[previous_assignment[i]],add=False)\n",
    "                cluster_count[previous_assignment[i]] -= 1\n",
    "            # update center of new cluster assigned to\n",
    "            centers[id_cluster], cluster_count[id_cluster] = update_center(x,centers[id_cluster],cluster_count[id_cluster],add=True)\n",
    "            previous_assignment[i] = id_cluster\n",
    "        queue_A.put((i, x))\n",
    "        counter += 1\n",
    "        if counter > n*n_iterations:\n",
    "            break"
   ]
  },
  {
   "cell_type": "code",
   "execution_count": 51,
   "id": "b86e8bcc-f368-4636-837f-f46e6ed10e9e",
   "metadata": {},
   "outputs": [],
   "source": [
    "def k_means_optimized(X, n_clusters, n_iterations, d):\n",
    "    prova = \"ciao\"\n",
    "    n = len(X)\n",
    "    counter = 0\n",
    "    centers = np.random.rand(n_clusters,d)*15\n",
    "    cluster_count = np.zeros(n_clusters)\n",
    "    previous_assignment = np.ones(n).astype(int)*(-1)\n",
    "    queue_A = queue.Queue()\n",
    "    [queue_A.put((i,x)) for i, x in enumerate(X)];\n",
    "    queue_B = queue.Queue()\n",
    "    \n",
    "    # create a producer thread\n",
    "    producer_thread = threading.Thread(target=A_producer, args=())\n",
    "    # start the producer threa\n",
    "    producer_thread.start()\n",
    "    \n",
    "    # create a consumer thread\n",
    "    consumer_thread = threading.Thread(target=B_consumer, args=())\n",
    "    # start the consumer thread\n",
    "    consumer_thread.start()\n",
    "    "
   ]
  },
  {
   "cell_type": "markdown",
   "id": "c7695628-dd2a-4cca-96d6-04dae253512f",
   "metadata": {
    "jp-MarkdownHeadingCollapsed": true,
    "tags": []
   },
   "source": [
    "# Simulation"
   ]
  },
  {
   "cell_type": "code",
   "execution_count": 193,
   "id": "94646fc9-20b3-4742-b17b-694c8ab03dad",
   "metadata": {},
   "outputs": [],
   "source": [
    "n_clusters = len(centers)\n",
    "d = 2\n",
    "true_centers = centers\n",
    "n = len(X)\n",
    "n_iterations = 100000"
   ]
  },
  {
   "cell_type": "code",
   "execution_count": 194,
   "id": "5f319833-cc77-4fe0-b548-25a2f591b55d",
   "metadata": {},
   "outputs": [],
   "source": [
    "cluster_count, result, previous_assignment  = k_means(X, n_clusters, n_iterations)"
   ]
  },
  {
   "cell_type": "code",
   "execution_count": 195,
   "id": "4913000b-9f50-48d2-801d-76b2f56b37b7",
   "metadata": {},
   "outputs": [
    {
     "data": {
      "text/plain": [
       "array([[ 5.30629963,  4.86812171],\n",
       "       [12.80133696, 14.43322706],\n",
       "       [13.17633957,  4.94782954],\n",
       "       [ 0.3524593 , 11.90697139]])"
      ]
     },
     "execution_count": 195,
     "metadata": {},
     "output_type": "execute_result"
    }
   ],
   "source": [
    "true_centers"
   ]
  },
  {
   "cell_type": "code",
   "execution_count": 196,
   "id": "ff92571d-e99e-43d4-bb3b-efb11baa9c8a",
   "metadata": {},
   "outputs": [
    {
     "data": {
      "image/png": "[encoded data removed]",
      "text/plain": [
       "<Figure size 432x288 with 1 Axes>"
      ]
     },
     "metadata": {
      "needs_background": "light"
     },
     "output_type": "display_data"
    }
   ],
   "source": [
    "for cluster in range(n_clusters):\n",
    "        plt.scatter(X[y == cluster, 0], X[y == cluster, 1], s=10, label=f\"Cluster{cluster}\")  \n",
    "for center in result:\n",
    "    plt.scatter(center[0], center[1], s=50)"
   ]
  },
  {
   "cell_type": "code",
   "execution_count": 197,
   "id": "32d7ebef-6d02-47c3-8d8a-b2a775cf420a",
   "metadata": {},
   "outputs": [
    {
     "data": {
      "text/plain": [
       "array([ 50., 100.,   0.,  50.])"
      ]
     },
     "execution_count": 197,
     "metadata": {},
     "output_type": "execute_result"
    }
   ],
   "source": [
    "cluster_count"
   ]
  },
  {
   "cell_type": "code",
   "execution_count": 198,
   "id": "4a16204d-9f1a-4176-bcd1-92aaa0c29b7f",
   "metadata": {},
   "outputs": [
    {
     "data": {
      "text/plain": [
       "array([[ 5.41546446,  4.85501343],\n",
       "       [13.11844284,  9.74611868],\n",
       "       [ 0.42538306,  3.68938167],\n",
       "       [ 0.3088645 , 11.90847778]])"
      ]
     },
     "execution_count": 198,
     "metadata": {},
     "output_type": "execute_result"
    }
   ],
   "source": [
    "result"
   ]
  },
  {
   "cell_type": "code",
   "execution_count": 199,
   "id": "3c597927-5484-4b38-8f97-de5728fb8d02",
   "metadata": {},
   "outputs": [
    {
     "data": {
      "text/plain": [
       "array([0, 3, 1, 1, 3, 3, 1, 1, 3, 1, 0, 3, 1, 0, 3, 1, 3, 1, 3, 3, 1, 0,\n",
       "       1, 0, 0, 1, 0, 1, 1, 3, 1, 3, 1, 3, 1, 1, 1, 3, 0, 3, 0, 1, 1, 0,\n",
       "       1, 1, 1, 3, 1, 3, 0, 0, 1, 1, 1, 3, 3, 1, 3, 1, 3, 1, 1, 1, 0, 1,\n",
       "       1, 0, 3, 1, 3, 1, 1, 0, 3, 1, 3, 1, 0, 1, 1, 1, 3, 0, 1, 0, 1, 3,\n",
       "       1, 3, 1, 1, 1, 0, 1, 1, 1, 1, 0, 1, 3, 0, 0, 1, 0, 0, 1, 0, 1, 1,\n",
       "       1, 1, 3, 3, 1, 1, 1, 3, 1, 0, 0, 3, 1, 1, 1, 0, 1, 3, 0, 1, 1, 3,\n",
       "       0, 0, 3, 1, 3, 0, 1, 1, 1, 0, 3, 0, 0, 1, 0, 1, 3, 0, 1, 0, 1, 1,\n",
       "       0, 1, 3, 1, 3, 1, 0, 1, 3, 1, 1, 0, 3, 0, 0, 1, 1, 3, 1, 0, 0, 1,\n",
       "       1, 3, 0, 1, 1, 3, 3, 3, 1, 0, 1, 1, 1, 3, 1, 1, 0, 0, 1, 0, 1, 3,\n",
       "       3, 1])"
      ]
     },
     "execution_count": 199,
     "metadata": {},
     "output_type": "execute_result"
    }
   ],
   "source": [
    "previous_assignment"
   ]
  },
  {
   "cell_type": "markdown",
   "id": "f4213515-edad-450b-99c8-94a9c2c5d8c2",
   "metadata": {},
   "source": [
    "# Simulation Optimized"
   ]
  },
  {
   "cell_type": "code",
   "execution_count": 52,
   "id": "b3a881c6-ecb3-4ade-bc96-2318ba2448e5",
   "metadata": {},
   "outputs": [
    {
     "name": "stderr",
     "output_type": "stream",
     "text": [
      "Exception in thread Thread-10:\n",
      "Traceback (most recent call last):\n",
      "  File \"C:\\Users\\stefa\\anaconda3\\lib\\threading.py\", line 932, in _bootstrap_inner\n",
      "Exception in thread Thread-11:\n",
      "Traceback (most recent call last):\n",
      "  File \"C:\\Users\\stefa\\anaconda3\\lib\\threading.py\", line 932, in _bootstrap_inner\n",
      "    self.run()\n",
      "      File \"C:\\Users\\stefa\\anaconda3\\lib\\threading.py\", line 870, in run\n",
      "self.run()\n",
      "  File \"C:\\Users\\stefa\\anaconda3\\lib\\threading.py\", line 870, in run\n",
      "    self._target(*self._args, **self._kwargs)\n",
      "  File \"C:\\Users\\stefa\\AppData\\Local\\Temp/ipykernel_36068/3028683691.py\", line 3, in A_producer\n",
      "    self._target(*self._args, **self._kwargs)\n",
      "  File \"C:\\Users\\stefa\\AppData\\Local\\Temp/ipykernel_36068/3082936202.py\", line 3, in B_consumer\n",
      "NameErrorNameError: name 'queue_B' is not defined\n",
      ": name 'queue_A' is not defined\n"
     ]
    }
   ],
   "source": [
    "k_means_optimized(X, 4, 200, 2)"
   ]
  },
  {
   "cell_type": "code",
   "execution_count": null,
   "id": "1ce23641-cb59-40ab-a6eb-25b764202de0",
   "metadata": {},
   "outputs": [],
   "source": []
  }
 ],
 "metadata": {
  "kernelspec": {
   "display_name": "Python 3 (ipykernel)",
   "language": "python",
   "name": "python3"
  },
  "language_info": {
   "codemirror_mode": {
    "name": "ipython",
    "version": 3
   },
   "file_extension": ".py",
   "mimetype": "text/x-python",
   "name": "python",
   "nbconvert_exporter": "python",
   "pygments_lexer": "ipython3",
   "version": "3.8.12"
  }
 },
 "nbformat": 4,
 "nbformat_minor": 5
}
