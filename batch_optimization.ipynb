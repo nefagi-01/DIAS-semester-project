{
 "cells": [
  {
   "cell_type": "code",
   "execution_count": 1,
   "id": "99ee20aa-1b98-40b0-80ce-d6c39dd122cd",
   "metadata": {},
   "outputs": [],
   "source": [
    "from sklearn.datasets import make_blobs\n",
    "import matplotlib.pyplot as plt\n",
    "import numpy as np\n",
    "import queue\n",
    "import threading\n",
    "import random\n",
    "import pandas as pd\n",
    "from importAirbnb import *\n",
    "from KMeans import *"
   ]
  },
  {
   "cell_type": "markdown",
   "id": "e7cbee40-4aa9-445a-b4b7-a1fc57d0b336",
   "metadata": {},
   "source": [
    "# Import dataset Airbnb"
   ]
  },
  {
   "cell_type": "code",
   "execution_count": 2,
   "id": "f142429c-7109-4902-b778-d8c79fe24dd2",
   "metadata": {},
   "outputs": [],
   "source": [
    "X = importAirbnb('./data/AB_NYC_2019.csv')"
   ]
  },
  {
   "cell_type": "code",
   "execution_count": 3,
   "id": "7ad9f41f-ae9a-461b-89a6-7df8417c4cd5",
   "metadata": {},
   "outputs": [],
   "source": [
    "n, d = X.shape\n",
    "# chosen\n",
    "n_clusters = 4"
   ]
  },
  {
   "cell_type": "markdown",
   "id": "eefd4e80-efde-4c29-a6e2-f658095d5ffc",
   "metadata": {
    "tags": []
   },
   "source": [
    "# k-Means implementation"
   ]
  },
  {
   "cell_type": "code",
   "execution_count": 4,
   "id": "63a5c62b-46d8-440f-bbc0-d9740b70c7b0",
   "metadata": {},
   "outputs": [],
   "source": [
    "kmeans = KMeans(X, n_clusters=n_clusters)"
   ]
  },
  {
   "cell_type": "code",
   "execution_count": 5,
   "id": "4a9e7e65-6672-4f96-b0a0-0b3d2595fc21",
   "metadata": {},
   "outputs": [],
   "source": [
    "kmeans_speculation = KMeans_Speculation(X, n_clusters)"
   ]
  },
  {
   "cell_type": "code",
   "execution_count": null,
   "id": "6c6268c1-0fdc-4b54-ba16-bedae94f46ab",
   "metadata": {},
   "outputs": [],
   "source": [
    "kmeans_speculation.fit()"
   ]
  },
  {
   "cell_type": "markdown",
   "id": "2f8ba929-4086-42a6-8b8c-63e555cc953e",
   "metadata": {},
   "source": [
    "# Fit k-Means speculated"
   ]
  },
  {
   "cell_type": "code",
   "execution_count": 7,
   "id": "c4c9088a-98db-4df5-8b68-be8071bb4767",
   "metadata": {},
   "outputs": [],
   "source": [
    "# kmeans_s = KMeans_Speculation(n_clusters)\n",
    "# kmeans_s.fit(X)"
   ]
  },
  {
   "cell_type": "code",
   "execution_count": 8,
   "id": "ad5acdb5-6758-4b5b-8d34-d24219049e63",
   "metadata": {},
   "outputs": [],
   "source": [
    "# for cluster in range(n_clusters):\n",
    "#         plt.scatter(X[kmeans_s.labels == cluster, 0], X[kmeans_s.labels == cluster, 1], s=10, label=f\"Cluster{cluster}\")  \n",
    "# for center in kmeans_s.centroids:\n",
    "#     plt.scatter(center[0], center[1], s=50)"
   ]
  },
  {
   "cell_type": "markdown",
   "id": "30a2cec2-726c-48ed-81c8-9f36dae52ed4",
   "metadata": {
    "tags": []
   },
   "source": [
    "# TEST"
   ]
  },
  {
   "cell_type": "markdown",
   "id": "bf01a7c1-4b7a-43df-9eaf-b1a0b322bb7e",
   "metadata": {},
   "source": [
    "## Initialize both methods\n",
    "\n",
    "In both cases:\n",
    "- start with the same initial centroids\n",
    "- do a first assignment, this way they start with the same assignments"
   ]
  },
  {
   "cell_type": "code",
   "execution_count": 9,
   "id": "d703bbb5-5c29-480a-b8da-de083bc03b5d",
   "metadata": {},
   "outputs": [],
   "source": [
    "kmeans = KMeans(n_clusters)"
   ]
  },
  {
   "cell_type": "code",
   "execution_count": 10,
   "id": "a88ae8e4-887b-43c7-83c2-2cf60be40bb4",
   "metadata": {},
   "outputs": [],
   "source": [
    "kmeans_speculation = KMeans_Speculation(n_clusters)"
   ]
  },
  {
   "cell_type": "markdown",
   "id": "db870f7b-38b4-4351-85de-85135fc50efd",
   "metadata": {
    "tags": []
   },
   "source": [
    "---\n",
    "#### Same initial centroids"
   ]
  },
  {
   "cell_type": "code",
   "execution_count": 11,
   "id": "455069e4-67cd-446c-b1e0-1f70f461f4ea",
   "metadata": {},
   "outputs": [
    {
     "data": {
      "text/plain": [
       "array([[ 40.65587, -73.94187,  45.     ,   3.     ,   0.     ,   4.     ,\n",
       "        332.     ],\n",
       "       [ 40.69315, -73.9565 , 180.     ,   3.     ,   1.     ,   1.     ,\n",
       "          0.     ],\n",
       "       [ 40.68171, -73.92085, 110.     ,  10.     ,  58.     ,   1.     ,\n",
       "        282.     ],\n",
       "       [ 40.71527, -73.89829,  70.     ,   1.     ,   1.     ,   1.     ,\n",
       "        364.     ]])"
      ]
     },
     "execution_count": 11,
     "metadata": {},
     "output_type": "execute_result"
    }
   ],
   "source": [
    "kmeans.centroids"
   ]
  },
  {
   "cell_type": "code",
   "execution_count": 12,
   "id": "1c0e8a5c-e9b4-4cd8-9c87-1a5bcbb9591c",
   "metadata": {},
   "outputs": [
    {
     "data": {
      "text/plain": [
       "array([[ 40.80564, -73.94198,  65.     ,   2.     ,  15.     ,   2.     ,\n",
       "        292.     ],\n",
       "       [ 40.71425, -73.84503, 100.     ,  14.     ,   0.     ,   1.     ,\n",
       "          0.     ],\n",
       "       [ 40.76097, -73.99959, 200.     ,   4.     ,  38.     ,   1.     ,\n",
       "        159.     ],\n",
       "       [ 40.68282, -73.92934, 335.     ,   2.     ,  21.     ,   1.     ,\n",
       "        304.     ]])"
      ]
     },
     "execution_count": 12,
     "metadata": {},
     "output_type": "execute_result"
    }
   ],
   "source": [
    "kmeans_speculation.centroids"
   ]
  },
  {
   "cell_type": "code",
   "execution_count": 13,
   "id": "1796d553-ee7e-46fe-a8a6-59716c4832b5",
   "metadata": {},
   "outputs": [],
   "source": [
    "kmeans_speculation.centroids = kmeans.centroids "
   ]
  },
  {
   "cell_type": "markdown",
   "id": "70835709-b37d-42dd-9b0f-2d37d20a2b31",
   "metadata": {
    "tags": []
   },
   "source": [
    "---\n",
    "#### Perform assignment on both"
   ]
  },
  {
   "cell_type": "code",
   "execution_count": 14,
   "id": "1de55d29-fd9c-4d71-bbe5-e52b3bc44984",
   "metadata": {},
   "outputs": [],
   "source": [
    "kmeans.labels = kmeans.predict(X)"
   ]
  },
  {
   "cell_type": "code",
   "execution_count": 15,
   "id": "46244776-9f8b-47cd-9df1-71a6ce5751ce",
   "metadata": {},
   "outputs": [],
   "source": [
    "kmeans_speculation.labels, kmeans_speculation.e = kmeans_speculation.predict(X)"
   ]
  },
  {
   "cell_type": "code",
   "execution_count": 16,
   "id": "d3b2059e-e959-4859-bc3f-118a81837f8e",
   "metadata": {},
   "outputs": [
    {
     "data": {
      "text/plain": [
       "0"
      ]
     },
     "execution_count": 16,
     "metadata": {},
     "output_type": "execute_result"
    }
   ],
   "source": [
    "(kmeans.labels != kmeans_speculation.labels).sum()"
   ]
  },
  {
   "cell_type": "markdown",
   "id": "9bd22f2a-97dd-4e5e-bb46-3c42c19b26cc",
   "metadata": {},
   "source": [
    "---"
   ]
  },
  {
   "cell_type": "markdown",
   "id": "e42295a7-8cc4-460e-8873-6479ac070736",
   "metadata": {
    "tags": []
   },
   "source": [
    "#### Normal k-means\n",
    "- update centroids\n",
    "- perform assignment"
   ]
  },
  {
   "cell_type": "code",
   "execution_count": 17,
   "id": "c8ac9eec-7710-498d-a97d-0add035ce638",
   "metadata": {},
   "outputs": [
    {
     "name": "stdout",
     "output_type": "stream",
     "text": [
      "Wall time: 8.01 ms\n"
     ]
    }
   ],
   "source": [
    "%%time\n",
    "kmeans.update_centroid(X)\n"
   ]
  },
  {
   "cell_type": "code",
   "execution_count": 18,
   "id": "a3f4bccd-2bc0-4498-9864-b24b28a1dc7a",
   "metadata": {},
   "outputs": [
    {
     "name": "stdout",
     "output_type": "stream",
     "text": [
      "Wall time: 616 ms\n"
     ]
    }
   ],
   "source": [
    "%%time\n",
    "kmeans.labels = kmeans.predict(X)"
   ]
  },
  {
   "cell_type": "markdown",
   "id": "cd4b670d-fcb7-4c15-a4c2-26d10fc3ba84",
   "metadata": {},
   "source": [
    "---"
   ]
  },
  {
   "cell_type": "markdown",
   "id": "7b983692-fe2c-47fc-81f5-8b65373a4bab",
   "metadata": {},
   "source": [
    "#### Speculated k-means\n",
    "- speculate centroids\n",
    "- do assignment on speculated centroids\n",
    "- compute correct centroids\n",
    "- correct assignments"
   ]
  },
  {
   "cell_type": "markdown",
   "id": "8632ac9c-13bf-41aa-b3b1-02705e763558",
   "metadata": {},
   "source": [
    "##### Speculate centroids"
   ]
  },
  {
   "cell_type": "code",
   "execution_count": 19,
   "id": "c9dc5d55-8abf-4c14-b3f2-f2f1f01addde",
   "metadata": {},
   "outputs": [],
   "source": [
    "kmeans_speculation.mask = np.random.choice([True, False], size=X.shape[0], p=[kmeans_speculation.subsample_size, (1-kmeans_speculation.subsample_size)])"
   ]
  },
  {
   "cell_type": "code",
   "execution_count": 20,
   "id": "7e2d127d-edf6-47f5-9087-fd2b29e03a0c",
   "metadata": {},
   "outputs": [
    {
     "name": "stdout",
     "output_type": "stream",
     "text": [
      "Wall time: 3.03 ms\n"
     ]
    }
   ],
   "source": [
    "%%time\n",
    "kmeans_speculation.speculate_centroid(X)"
   ]
  },
  {
   "cell_type": "code",
   "execution_count": 21,
   "id": "70c1a18e-7131-481d-bb01-a3e284b67857",
   "metadata": {},
   "outputs": [
    {
     "data": {
      "text/plain": [
       "array([[ 40.72111199, -73.93310276,  49.0255102 ,  14.77040816,\n",
       "         14.37244898,  12.48469388, 319.10204082],\n",
       "       [ 40.73073732, -73.95594933, 151.35891089,   5.29733911,\n",
       "         15.9897896 ,   2.35086634,  26.57116337],\n",
       "       [ 40.72850502, -73.95084804, 173.68853821,   9.8961794 ,\n",
       "         45.64700997,  19.55398671, 250.55730897],\n",
       "       [ 40.7282793 , -73.94355656, 101.81111111,   8.70740741,\n",
       "          9.70740741,  12.71851852, 355.59259259]])"
      ]
     },
     "execution_count": 21,
     "metadata": {},
     "output_type": "execute_result"
    }
   ],
   "source": [
    "kmeans_speculation.centroids"
   ]
  },
  {
   "cell_type": "markdown",
   "id": "0124c125-56c0-4fdf-a1bb-66208898d708",
   "metadata": {},
   "source": [
    "##### Do assignment on speculated centroids"
   ]
  },
  {
   "cell_type": "code",
   "execution_count": 22,
   "id": "c0328bae-15a7-4eaa-93a2-e51154996803",
   "metadata": {},
   "outputs": [],
   "source": [
    "kmeans_speculation.prev_labels = kmeans_speculation.labels"
   ]
  },
  {
   "cell_type": "code",
   "execution_count": 23,
   "id": "8d2ba126-20c2-4ed8-82a5-fbd17c48601f",
   "metadata": {},
   "outputs": [
    {
     "name": "stdout",
     "output_type": "stream",
     "text": [
      "Wall time: 984 ms\n"
     ]
    }
   ],
   "source": [
    "%%time\n",
    "kmeans_speculation.labels, kmeans_speculation.e = kmeans_speculation.predict(X)"
   ]
  },
  {
   "cell_type": "markdown",
   "id": "cf8ab892-d9e9-4daa-8ddd-484a36cf5076",
   "metadata": {},
   "source": [
    "##### Compute correct centroids"
   ]
  },
  {
   "cell_type": "code",
   "execution_count": 24,
   "id": "5ef081ef-627b-4974-97a4-66b4f4dd3713",
   "metadata": {},
   "outputs": [],
   "source": [
    "kmeans_speculation.speculated_centroids = kmeans_speculation.centroids"
   ]
  },
  {
   "cell_type": "code",
   "execution_count": 25,
   "id": "9b019422-c033-48cf-a981-5ee62faa8867",
   "metadata": {},
   "outputs": [
    {
     "name": "stdout",
     "output_type": "stream",
     "text": [
      "Wall time: 11 ms\n"
     ]
    }
   ],
   "source": [
    "%%time\n",
    "kmeans_speculation.update_centroid(X, kmeans_speculation.prev_labels)"
   ]
  },
  {
   "cell_type": "code",
   "execution_count": 26,
   "id": "62d17c0c-d7c8-4aa3-82a7-a926edd46653",
   "metadata": {},
   "outputs": [
    {
     "name": "stdout",
     "output_type": "stream",
     "text": [
      "Difference between speculated centroids and correct centroids in norm-2:\n"
     ]
    },
    {
     "data": {
      "text/plain": [
       "array([4.64093004, 6.14175291, 6.15399589, 3.56358869])"
      ]
     },
     "execution_count": 26,
     "metadata": {},
     "output_type": "execute_result"
    }
   ],
   "source": [
    "print(\"Difference between speculated centroids and correct centroids in norm-2:\")\n",
    "np.linalg.norm(kmeans_speculation.speculated_centroids - kmeans_speculation.centroids, 2, 1)"
   ]
  },
  {
   "cell_type": "markdown",
   "id": "b16e1b59-cd58-413a-a58f-822ec1a52a70",
   "metadata": {},
   "source": [
    "##### Correct assignments"
   ]
  },
  {
   "cell_type": "code",
   "execution_count": 27,
   "id": "2731c484-cd17-4128-9174-fdad7d5260a6",
   "metadata": {},
   "outputs": [],
   "source": [
    "kmeans_speculation.previous_labels = kmeans_speculation.labels"
   ]
  },
  {
   "cell_type": "code",
   "execution_count": 28,
   "id": "ca5fda46-0cc6-415d-88de-a67c24557f96",
   "metadata": {},
   "outputs": [
    {
     "name": "stdout",
     "output_type": "stream",
     "text": [
      "Wall time: 114 ms\n"
     ]
    }
   ],
   "source": [
    "%%time\n",
    "kmeans_speculation.correct(X)"
   ]
  },
  {
   "cell_type": "code",
   "execution_count": 29,
   "id": "28ee7c67-7a53-458b-95d2-471e8a08ab94",
   "metadata": {},
   "outputs": [
    {
     "name": "stdout",
     "output_type": "stream",
     "text": [
      "Number of datapoints that changed assignment after correction:\n"
     ]
    },
    {
     "data": {
      "text/plain": [
       "0"
      ]
     },
     "execution_count": 29,
     "metadata": {},
     "output_type": "execute_result"
    }
   ],
   "source": [
    "print(\"Number of datapoints that changed assignment after correction:\")\n",
    "(kmeans_speculation.labels != kmeans_speculation.previous_labels).sum()"
   ]
  },
  {
   "cell_type": "markdown",
   "id": "1db4bd74-aff8-43d8-b708-37baf6a866a0",
   "metadata": {},
   "source": [
    "---"
   ]
  },
  {
   "cell_type": "markdown",
   "id": "52ad76e8-cf8b-43e6-a37c-0a1805e5409e",
   "metadata": {},
   "source": [
    "#### Check both methods finally give same assignments"
   ]
  },
  {
   "cell_type": "code",
   "execution_count": 30,
   "id": "977d9d0e-ca85-4f66-a4a6-2d519a425e6e",
   "metadata": {},
   "outputs": [
    {
     "name": "stdout",
     "output_type": "stream",
     "text": [
      "Number of different assignmented between the 2 methods:\n"
     ]
    },
    {
     "data": {
      "text/plain": [
       "0"
      ]
     },
     "execution_count": 30,
     "metadata": {},
     "output_type": "execute_result"
    }
   ],
   "source": [
    "print(\"Number of different assignmented between the 2 methods:\")\n",
    "(kmeans.labels != kmeans_speculation.labels).sum()"
   ]
  },
  {
   "cell_type": "markdown",
   "id": "c8ff7e8e-21fc-4942-954b-5d391229a770",
   "metadata": {
    "jp-MarkdownHeadingCollapsed": true,
    "tags": []
   },
   "source": [
    "# Plot"
   ]
  },
  {
   "cell_type": "code",
   "execution_count": 31,
   "id": "31f56e24-7736-4970-8c7f-36d17a7b5c35",
   "metadata": {},
   "outputs": [
    {
     "ename": "NameError",
     "evalue": "name 'y' is not defined",
     "output_type": "error",
     "traceback": [
      "\u001b[1;31m---------------------------------------------------------------------------\u001b[0m",
      "\u001b[1;31mNameError\u001b[0m                                 Traceback (most recent call last)",
      "\u001b[1;32m~\\AppData\\Local\\Temp/ipykernel_32600/4081215714.py\u001b[0m in \u001b[0;36m<module>\u001b[1;34m\u001b[0m\n\u001b[0;32m      1\u001b[0m \u001b[1;32mfor\u001b[0m \u001b[0mcluster\u001b[0m \u001b[1;32min\u001b[0m \u001b[0mrange\u001b[0m\u001b[1;33m(\u001b[0m\u001b[0mn_clusters\u001b[0m\u001b[1;33m)\u001b[0m\u001b[1;33m:\u001b[0m\u001b[1;33m\u001b[0m\u001b[1;33m\u001b[0m\u001b[0m\n\u001b[1;32m----> 2\u001b[1;33m         \u001b[0mplt\u001b[0m\u001b[1;33m.\u001b[0m\u001b[0mscatter\u001b[0m\u001b[1;33m(\u001b[0m\u001b[0mX\u001b[0m\u001b[1;33m[\u001b[0m\u001b[0my\u001b[0m \u001b[1;33m==\u001b[0m \u001b[0mcluster\u001b[0m\u001b[1;33m,\u001b[0m \u001b[1;36m0\u001b[0m\u001b[1;33m]\u001b[0m\u001b[1;33m,\u001b[0m \u001b[0mX\u001b[0m\u001b[1;33m[\u001b[0m\u001b[0my\u001b[0m \u001b[1;33m==\u001b[0m \u001b[0mcluster\u001b[0m\u001b[1;33m,\u001b[0m \u001b[1;36m1\u001b[0m\u001b[1;33m]\u001b[0m\u001b[1;33m,\u001b[0m \u001b[0ms\u001b[0m\u001b[1;33m=\u001b[0m\u001b[1;36m10\u001b[0m\u001b[1;33m,\u001b[0m \u001b[0mlabel\u001b[0m\u001b[1;33m=\u001b[0m\u001b[1;34mf\"Cluster{cluster}\"\u001b[0m\u001b[1;33m)\u001b[0m\u001b[1;33m\u001b[0m\u001b[1;33m\u001b[0m\u001b[0m\n\u001b[0m\u001b[0;32m      3\u001b[0m \u001b[1;32mfor\u001b[0m \u001b[0mcenter\u001b[0m \u001b[1;32min\u001b[0m \u001b[0mkmeans\u001b[0m\u001b[1;33m.\u001b[0m\u001b[0mcentroids\u001b[0m\u001b[1;33m:\u001b[0m\u001b[1;33m\u001b[0m\u001b[1;33m\u001b[0m\u001b[0m\n\u001b[0;32m      4\u001b[0m     \u001b[0mplt\u001b[0m\u001b[1;33m.\u001b[0m\u001b[0mscatter\u001b[0m\u001b[1;33m(\u001b[0m\u001b[0mcenter\u001b[0m\u001b[1;33m[\u001b[0m\u001b[1;36m0\u001b[0m\u001b[1;33m]\u001b[0m\u001b[1;33m,\u001b[0m \u001b[0mcenter\u001b[0m\u001b[1;33m[\u001b[0m\u001b[1;36m1\u001b[0m\u001b[1;33m]\u001b[0m\u001b[1;33m,\u001b[0m \u001b[0ms\u001b[0m\u001b[1;33m=\u001b[0m\u001b[1;36m50\u001b[0m\u001b[1;33m)\u001b[0m\u001b[1;33m\u001b[0m\u001b[1;33m\u001b[0m\u001b[0m\n",
      "\u001b[1;31mNameError\u001b[0m: name 'y' is not defined"
     ]
    }
   ],
   "source": [
    "for cluster in range(n_clusters):\n",
    "        plt.scatter(X[y == cluster, 0], X[y == cluster, 1], s=10, label=f\"Cluster{cluster}\")  \n",
    "for center in kmeans.centroids:\n",
    "    plt.scatter(center[0], center[1], s=50)"
   ]
  },
  {
   "cell_type": "markdown",
   "id": "0b4a73d9-a634-4670-9b69-b0e747cd415c",
   "metadata": {
    "tags": []
   },
   "source": [
    "# Artificial data generation"
   ]
  },
  {
   "cell_type": "code",
   "execution_count": null,
   "id": "08252b12-7cdf-453f-8611-27e650abb987",
   "metadata": {},
   "outputs": [],
   "source": [
    "# create artificial clusters\n",
    "\n",
    "def generate_clusters(n_clusters=3, d=2, n=100):\n",
    "    centers = np.random.rand(n_clusters,d)*15\n",
    "    cluster_std = np.random.normal(1, 0.5, n_clusters)\n",
    "    X, y = make_blobs(n_samples=n, cluster_std=cluster_std, centers=centers, n_features=d, random_state=1)\n",
    "    \n",
    "    print(\"2d plot\")\n",
    "    for cluster in range(n_clusters):\n",
    "        plt.scatter(X[y == cluster, 0], X[y == cluster, 1], s=10, label=f\"Cluster{cluster}\")  \n",
    "    return centers, cluster_std, X, y"
   ]
  },
  {
   "cell_type": "code",
   "execution_count": null,
   "id": "f03bf833-84d1-48ab-9e76-830594593b95",
   "metadata": {},
   "outputs": [],
   "source": [
    "n_clusters, d, n = 4, 3, 1000"
   ]
  },
  {
   "cell_type": "code",
   "execution_count": null,
   "id": "7def18c1-f4c0-4b78-8ff0-b5b8635ebb21",
   "metadata": {},
   "outputs": [],
   "source": [
    "centers, cluster_std, X, y = generate_clusters(n_clusters, d, n)"
   ]
  },
  {
   "cell_type": "markdown",
   "id": "d397394f-7f3c-4b89-a8f6-23e0c9359176",
   "metadata": {
    "tags": []
   },
   "source": [
    "# Fit k-Means speculated"
   ]
  },
  {
   "cell_type": "code",
   "execution_count": null,
   "id": "757382e8-0691-446a-a081-a57775efa676",
   "metadata": {},
   "outputs": [],
   "source": [
    "kmeans_s = KMeans_Speculation(n_clusters)"
   ]
  },
  {
   "cell_type": "code",
   "execution_count": null,
   "id": "13b58385-cfee-43fa-b895-3e2b406b2bad",
   "metadata": {},
   "outputs": [],
   "source": [
    "kmeans_s.fit(X)"
   ]
  },
  {
   "cell_type": "code",
   "execution_count": null,
   "id": "49b92171-d51c-4c8a-b0b8-3b2e25898959",
   "metadata": {},
   "outputs": [],
   "source": [
    "for cluster in range(n_clusters):\n",
    "        plt.scatter(X[kmeans_s.labels == cluster, 0], X[kmeans_s.labels == cluster, 1], s=10, label=f\"Cluster{cluster}\")  \n",
    "for center in kmeans_s.centroids:\n",
    "    plt.scatter(center[0], center[1], s=50)"
   ]
  }
 ],
 "metadata": {
  "kernelspec": {
   "display_name": "Python 3 (ipykernel)",
   "language": "python",
   "name": "python3"
  },
  "language_info": {
   "codemirror_mode": {
    "name": "ipython",
    "version": 3
   },
   "file_extension": ".py",
   "mimetype": "text/x-python",
   "name": "python",
   "nbconvert_exporter": "python",
   "pygments_lexer": "ipython3",
   "version": "3.8.12"
  }
 },
 "nbformat": 4,
 "nbformat_minor": 5
}
