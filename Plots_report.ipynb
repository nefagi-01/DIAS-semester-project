{
 "cells": [
  {
   "cell_type": "code",
   "execution_count": 2,
   "id": "2ad409d9-4170-40a7-8b60-a8cd83f63de2",
   "metadata": {},
   "outputs": [],
   "source": [
    "%load_ext autoreload\n",
    "%autoreload 2\n",
    "from utils.KMeans import *\n",
    "from openml.datasets import list_datasets, get_datasets\n",
    "import pandas as pd\n",
    "import warnings\n",
    "import matplotlib.pyplot as plt\n",
    "import matplotlib.ticker as ticker\n",
    "import seaborn as sns\n",
    "from sklearn.linear_model import LinearRegression\n",
    "from scipy import stats\n",
    "from sklearn.datasets import make_blobs\n",
    "import gc\n",
    "from utils.helpers import load_datasets, clean_dataset\n",
    "from matplotlib import rc\n",
    "import matplotlib.pylab as plt\n",
    "import matplotlib \n",
    "matplotlib.rcParams['font.family'] = 'serif'\n",
    "matplotlib.rcParams['font.serif'] = ['Computer Modern']\n",
    "\n",
    "# Set Latex font\n",
    "rc('font', **{'family': 'serif', 'serif': ['Computer Modern']})\n",
    "rc('text', usetex=True)\n"
   ]
  },
  {
   "cell_type": "code",
   "execution_count": 3,
   "id": "f89d2fe0-b001-4b2e-b419-f9e281ddcf96",
   "metadata": {},
   "outputs": [
    {
     "name": "stdout",
     "output_type": "stream",
     "text": [
      "The autoreload extension is already loaded. To reload it, use:\n",
      "  %reload_ext autoreload\n"
     ]
    }
   ],
   "source": [
    "%load_ext autoreload\n",
    "%autoreload 2\n",
    "from utils.helpers import extend_df, extend_array, generate_clusters, timeseries_plot, load_datasets, generate_complex_datasets, estimate_optimal_centroids, load_downloaded_datasets, agg_and_plot, fit_linear_regression, find_bad_initalization, addScatterPlot\n",
    "from utils.KMeans import KMeans, getLables, getCentroids, getAvgDist, KMeans_sketching\n",
    "import numpy as np\n",
    "import pandas as pd\n",
    "import matplotlib.pyplot as plt\n",
    "import time\n",
    "import seaborn as sns\n",
    "from sklearn.cluster import KMeans as KMeans_sk\n",
    "import pickle\n",
    "from time import process_time_ns"
   ]
  },
  {
   "cell_type": "markdown",
   "id": "3722e734-1ae5-4067-9750-387578100c57",
   "metadata": {
    "tags": []
   },
   "source": [
    "# 1. Plot (ratio,k)"
   ]
  },
  {
   "cell_type": "code",
   "execution_count": 2,
   "id": "28b9f60c-916e-46b8-881d-3635a919660e",
   "metadata": {},
   "outputs": [
    {
     "data": {
      "text/plain": [
       "Text(0.5, 1.0, 'Evolution ratio between Assignment and Update time of executions')"
      ]
     },
     "execution_count": 2,
     "metadata": {},
     "output_type": "execute_result"
    },
    {
     "data": {
      "image/png": "[encoded data removed]",
      "text/plain": [
       "<Figure size 504x360 with 1 Axes>"
      ]
     },
     "metadata": {
      "needs_background": "light"
     },
     "output_type": "display_data"
    }
   ],
   "source": [
    "# Import dataset    \n",
    "df = pd.read_csv('./data/measurements_1_1.csv')\n",
    "# Compute ratio\n",
    "df['ratio_AB_median'] = df['t_A_median']/df['t_B_median']\n",
    "# Clean dataset\n",
    "df_clean = clean_dataset(df)\n",
    "\n",
    "# Plot\n",
    "\n",
    "# Scatterplot\n",
    "fig, ax = plt.subplots(figsize = (7,5))\n",
    "sns.scatterplot(data=df_clean, x='n_clusters', y='ratio_AB_median', ax = ax)\n",
    "ax.set_xlabel('k (number of clusters)')\n",
    "ax.set_ylabel('Ratio')\n",
    "ax.set_title('Evolution ratio between Assignment and Update time of executions')"
   ]
  },
  {
   "cell_type": "markdown",
   "id": "71959676-17c8-4a31-87d5-a25e3edcccc3",
   "metadata": {
    "jp-MarkdownHeadingCollapsed": true,
    "tags": []
   },
   "source": [
    "# 2. Plot speculation vs basic kmeans"
   ]
  },
  {
   "cell_type": "code",
   "execution_count": 8,
   "id": "61ffb898-44f8-4eb8-b84d-cdb27b2b4b4c",
   "metadata": {},
   "outputs": [],
   "source": [
    "# load datasets\n",
    "query = \"NumberOfInstances > 10000 &\\\n",
    "         NumberOfInstances < 100000 &\\\n",
    "         NumberOfNumericFeatures > 5 &\\\n",
    "         NumberOfNumericFeatures < 50 &\\\n",
    "         NumberOfMissingValues == 0 &\\\n",
    "         NumberOfSymbolicFeatures == 0\"\n",
    "\n",
    "X_list, meta = load_datasets(query, n_datasets = 10, search = True, return_meta=True)"
   ]
  },
  {
   "cell_type": "markdown",
   "id": "cbd602f8-a137-4ad3-8e4a-3e08cb79ff7b",
   "metadata": {},
   "source": [
    "## 2.1 Run without trace"
   ]
  },
  {
   "cell_type": "code",
   "execution_count": 6,
   "id": "9239ccde-fc6d-4365-9f9f-64c04e4b5a1b",
   "metadata": {},
   "outputs": [],
   "source": [
    "# Set parameter\n",
    "seed = 0\n",
    "np.random.seed(seed)\n",
    "k = 8\n",
    "num_iter = 50\n",
    "subsample_size = 0.01\n",
    "tol = 0\n",
    "\n",
    "# Create dataset\n",
    "dataset_index = 0\n",
    "X = X_list[dataset_index]\n",
    "n, d = X.shape\n",
    "\n",
    "# Set output path\n",
    "path = './data/report/vanilla_speculation_comparison.csv'\n",
    "\n",
    "# Compute optimal centroids\n",
    "opt_centroids = estimate_optimal_centroids(X, k, seed=0, n_init=50, tol=1e-6)\n",
    "\n",
    "# Compute initial centroids\n",
    "np.random.seed(seed)\n",
    "initial_centroids = X[np.random.choice(n, k, replace=False)]  # (k, d)\n",
    "\n",
    "# Speculation execution\n",
    "labels, centroids = KMeans_sketching(X, k, num_iter=num_iter, seed=seed, subsample_size=subsample_size, save=True, path=path, measure=True, choose_best=True, resampling=True, trace=False, tol=tol, resample_centroid=False, centroids=initial_centroids)\n",
    "\n",
    "# Read .csv\n",
    "df = pd.read_csv(path)\n",
    "\n",
    "# Extend df to have num_iter rows\n",
    "df = extend_df(df, num_iter)\n",
    "\n",
    "# Define inertia_speculation\n",
    "df['inertia_speculation'] = df[['L_slow', 'L_fast']].min(axis=1)\n",
    "\n",
    "# Estimate optimal centroids\n",
    "opt_centroids = estimate_optimal_centroids(X, k, seed=0, n_init=50, tol=1e-6)\n",
    "\n",
    "# Add L_opt\n",
    "df['inertia_optimal'] = getAvgDist(X, opt_centroids)\n",
    "\n",
    "# Add basic execution\n",
    "_, _, inertia_basic = KMeans(X, k, num_iter=num_iter, seed=seed, tol=tol, centroids=initial_centroids, measure_inertia=True)\n",
    "df['inertia_vanilla'] = extend_array(inertia_basic, num_iter)\n",
    "\n",
    "df.to_csv(path, index=False)"
   ]
  },
  {
   "cell_type": "markdown",
   "id": "26da2fc0-9c66-4d48-b24d-20836e08d6ec",
   "metadata": {},
   "source": [
    "https://www.openml.org/d/23395\n",
    "The dataset used is an ARFF dataset called COMET_MC_SAMPLE, version 2, uploaded on April 22nd, 2016. It is publicly available and can be downloaded from the URL provided. It contains 6 features and 89640 instances, and can be found on OpenML with the ID 23395."
   ]
  },
  {
   "cell_type": "code",
   "execution_count": 80,
   "id": "713e31fb-fc4f-4a32-932e-43728e20d94c",
   "metadata": {},
   "outputs": [
    {
     "ename": "FileNotFoundError",
     "evalue": "[Errno 2] No such file or directory: './data/report/vanilla_speculation_comparison.csv'",
     "output_type": "error",
     "traceback": [
      "\u001b[1;31m---------------------------------------------------------------------------\u001b[0m",
      "\u001b[1;31mFileNotFoundError\u001b[0m                         Traceback (most recent call last)",
      "\u001b[1;32m~\\AppData\\Local\\Temp/ipykernel_1896/4254464761.py\u001b[0m in \u001b[0;36m<module>\u001b[1;34m\u001b[0m\n\u001b[0;32m      2\u001b[0m \u001b[1;33m\u001b[0m\u001b[0m\n\u001b[0;32m      3\u001b[0m \u001b[1;31m# import df\u001b[0m\u001b[1;33m\u001b[0m\u001b[1;33m\u001b[0m\u001b[1;33m\u001b[0m\u001b[0m\n\u001b[1;32m----> 4\u001b[1;33m \u001b[0mdf\u001b[0m \u001b[1;33m=\u001b[0m \u001b[0mpd\u001b[0m\u001b[1;33m.\u001b[0m\u001b[0mread_csv\u001b[0m\u001b[1;33m(\u001b[0m\u001b[0mpath\u001b[0m\u001b[1;33m)\u001b[0m\u001b[1;33m\u001b[0m\u001b[1;33m\u001b[0m\u001b[0m\n\u001b[0m\u001b[0;32m      5\u001b[0m \u001b[1;33m\u001b[0m\u001b[0m\n\u001b[0;32m      6\u001b[0m \u001b[1;31m# Timeseries plot\u001b[0m\u001b[1;33m\u001b[0m\u001b[1;33m\u001b[0m\u001b[1;33m\u001b[0m\u001b[0m\n",
      "\u001b[1;32m~\\anaconda3\\lib\\site-packages\\pandas\\util\\_decorators.py\u001b[0m in \u001b[0;36mwrapper\u001b[1;34m(*args, **kwargs)\u001b[0m\n\u001b[0;32m    309\u001b[0m                     \u001b[0mstacklevel\u001b[0m\u001b[1;33m=\u001b[0m\u001b[0mstacklevel\u001b[0m\u001b[1;33m,\u001b[0m\u001b[1;33m\u001b[0m\u001b[1;33m\u001b[0m\u001b[0m\n\u001b[0;32m    310\u001b[0m                 )\n\u001b[1;32m--> 311\u001b[1;33m             \u001b[1;32mreturn\u001b[0m \u001b[0mfunc\u001b[0m\u001b[1;33m(\u001b[0m\u001b[1;33m*\u001b[0m\u001b[0margs\u001b[0m\u001b[1;33m,\u001b[0m \u001b[1;33m**\u001b[0m\u001b[0mkwargs\u001b[0m\u001b[1;33m)\u001b[0m\u001b[1;33m\u001b[0m\u001b[1;33m\u001b[0m\u001b[0m\n\u001b[0m\u001b[0;32m    312\u001b[0m \u001b[1;33m\u001b[0m\u001b[0m\n\u001b[0;32m    313\u001b[0m         \u001b[1;32mreturn\u001b[0m \u001b[0mwrapper\u001b[0m\u001b[1;33m\u001b[0m\u001b[1;33m\u001b[0m\u001b[0m\n",
      "\u001b[1;32m~\\anaconda3\\lib\\site-packages\\pandas\\io\\parsers\\readers.py\u001b[0m in \u001b[0;36mread_csv\u001b[1;34m(filepath_or_buffer, sep, delimiter, header, names, index_col, usecols, squeeze, prefix, mangle_dupe_cols, dtype, engine, converters, true_values, false_values, skipinitialspace, skiprows, skipfooter, nrows, na_values, keep_default_na, na_filter, verbose, skip_blank_lines, parse_dates, infer_datetime_format, keep_date_col, date_parser, dayfirst, cache_dates, iterator, chunksize, compression, thousands, decimal, lineterminator, quotechar, quoting, doublequote, escapechar, comment, encoding, encoding_errors, dialect, error_bad_lines, warn_bad_lines, on_bad_lines, delim_whitespace, low_memory, memory_map, float_precision, storage_options)\u001b[0m\n\u001b[0;32m    584\u001b[0m     \u001b[0mkwds\u001b[0m\u001b[1;33m.\u001b[0m\u001b[0mupdate\u001b[0m\u001b[1;33m(\u001b[0m\u001b[0mkwds_defaults\u001b[0m\u001b[1;33m)\u001b[0m\u001b[1;33m\u001b[0m\u001b[1;33m\u001b[0m\u001b[0m\n\u001b[0;32m    585\u001b[0m \u001b[1;33m\u001b[0m\u001b[0m\n\u001b[1;32m--> 586\u001b[1;33m     \u001b[1;32mreturn\u001b[0m \u001b[0m_read\u001b[0m\u001b[1;33m(\u001b[0m\u001b[0mfilepath_or_buffer\u001b[0m\u001b[1;33m,\u001b[0m \u001b[0mkwds\u001b[0m\u001b[1;33m)\u001b[0m\u001b[1;33m\u001b[0m\u001b[1;33m\u001b[0m\u001b[0m\n\u001b[0m\u001b[0;32m    587\u001b[0m \u001b[1;33m\u001b[0m\u001b[0m\n\u001b[0;32m    588\u001b[0m \u001b[1;33m\u001b[0m\u001b[0m\n",
      "\u001b[1;32m~\\anaconda3\\lib\\site-packages\\pandas\\io\\parsers\\readers.py\u001b[0m in \u001b[0;36m_read\u001b[1;34m(filepath_or_buffer, kwds)\u001b[0m\n\u001b[0;32m    480\u001b[0m \u001b[1;33m\u001b[0m\u001b[0m\n\u001b[0;32m    481\u001b[0m     \u001b[1;31m# Create the parser.\u001b[0m\u001b[1;33m\u001b[0m\u001b[1;33m\u001b[0m\u001b[1;33m\u001b[0m\u001b[0m\n\u001b[1;32m--> 482\u001b[1;33m     \u001b[0mparser\u001b[0m \u001b[1;33m=\u001b[0m \u001b[0mTextFileReader\u001b[0m\u001b[1;33m(\u001b[0m\u001b[0mfilepath_or_buffer\u001b[0m\u001b[1;33m,\u001b[0m \u001b[1;33m**\u001b[0m\u001b[0mkwds\u001b[0m\u001b[1;33m)\u001b[0m\u001b[1;33m\u001b[0m\u001b[1;33m\u001b[0m\u001b[0m\n\u001b[0m\u001b[0;32m    483\u001b[0m \u001b[1;33m\u001b[0m\u001b[0m\n\u001b[0;32m    484\u001b[0m     \u001b[1;32mif\u001b[0m \u001b[0mchunksize\u001b[0m \u001b[1;32mor\u001b[0m \u001b[0miterator\u001b[0m\u001b[1;33m:\u001b[0m\u001b[1;33m\u001b[0m\u001b[1;33m\u001b[0m\u001b[0m\n",
      "\u001b[1;32m~\\anaconda3\\lib\\site-packages\\pandas\\io\\parsers\\readers.py\u001b[0m in \u001b[0;36m__init__\u001b[1;34m(self, f, engine, **kwds)\u001b[0m\n\u001b[0;32m    809\u001b[0m             \u001b[0mself\u001b[0m\u001b[1;33m.\u001b[0m\u001b[0moptions\u001b[0m\u001b[1;33m[\u001b[0m\u001b[1;34m\"has_index_names\"\u001b[0m\u001b[1;33m]\u001b[0m \u001b[1;33m=\u001b[0m \u001b[0mkwds\u001b[0m\u001b[1;33m[\u001b[0m\u001b[1;34m\"has_index_names\"\u001b[0m\u001b[1;33m]\u001b[0m\u001b[1;33m\u001b[0m\u001b[1;33m\u001b[0m\u001b[0m\n\u001b[0;32m    810\u001b[0m \u001b[1;33m\u001b[0m\u001b[0m\n\u001b[1;32m--> 811\u001b[1;33m         \u001b[0mself\u001b[0m\u001b[1;33m.\u001b[0m\u001b[0m_engine\u001b[0m \u001b[1;33m=\u001b[0m \u001b[0mself\u001b[0m\u001b[1;33m.\u001b[0m\u001b[0m_make_engine\u001b[0m\u001b[1;33m(\u001b[0m\u001b[0mself\u001b[0m\u001b[1;33m.\u001b[0m\u001b[0mengine\u001b[0m\u001b[1;33m)\u001b[0m\u001b[1;33m\u001b[0m\u001b[1;33m\u001b[0m\u001b[0m\n\u001b[0m\u001b[0;32m    812\u001b[0m \u001b[1;33m\u001b[0m\u001b[0m\n\u001b[0;32m    813\u001b[0m     \u001b[1;32mdef\u001b[0m \u001b[0mclose\u001b[0m\u001b[1;33m(\u001b[0m\u001b[0mself\u001b[0m\u001b[1;33m)\u001b[0m\u001b[1;33m:\u001b[0m\u001b[1;33m\u001b[0m\u001b[1;33m\u001b[0m\u001b[0m\n",
      "\u001b[1;32m~\\anaconda3\\lib\\site-packages\\pandas\\io\\parsers\\readers.py\u001b[0m in \u001b[0;36m_make_engine\u001b[1;34m(self, engine)\u001b[0m\n\u001b[0;32m   1038\u001b[0m             )\n\u001b[0;32m   1039\u001b[0m         \u001b[1;31m# error: Too many arguments for \"ParserBase\"\u001b[0m\u001b[1;33m\u001b[0m\u001b[1;33m\u001b[0m\u001b[1;33m\u001b[0m\u001b[0m\n\u001b[1;32m-> 1040\u001b[1;33m         \u001b[1;32mreturn\u001b[0m \u001b[0mmapping\u001b[0m\u001b[1;33m[\u001b[0m\u001b[0mengine\u001b[0m\u001b[1;33m]\u001b[0m\u001b[1;33m(\u001b[0m\u001b[0mself\u001b[0m\u001b[1;33m.\u001b[0m\u001b[0mf\u001b[0m\u001b[1;33m,\u001b[0m \u001b[1;33m**\u001b[0m\u001b[0mself\u001b[0m\u001b[1;33m.\u001b[0m\u001b[0moptions\u001b[0m\u001b[1;33m)\u001b[0m  \u001b[1;31m# type: ignore[call-arg]\u001b[0m\u001b[1;33m\u001b[0m\u001b[1;33m\u001b[0m\u001b[0m\n\u001b[0m\u001b[0;32m   1041\u001b[0m \u001b[1;33m\u001b[0m\u001b[0m\n\u001b[0;32m   1042\u001b[0m     \u001b[1;32mdef\u001b[0m \u001b[0m_failover_to_python\u001b[0m\u001b[1;33m(\u001b[0m\u001b[0mself\u001b[0m\u001b[1;33m)\u001b[0m\u001b[1;33m:\u001b[0m\u001b[1;33m\u001b[0m\u001b[1;33m\u001b[0m\u001b[0m\n",
      "\u001b[1;32m~\\anaconda3\\lib\\site-packages\\pandas\\io\\parsers\\c_parser_wrapper.py\u001b[0m in \u001b[0;36m__init__\u001b[1;34m(self, src, **kwds)\u001b[0m\n\u001b[0;32m     49\u001b[0m \u001b[1;33m\u001b[0m\u001b[0m\n\u001b[0;32m     50\u001b[0m         \u001b[1;31m# open handles\u001b[0m\u001b[1;33m\u001b[0m\u001b[1;33m\u001b[0m\u001b[1;33m\u001b[0m\u001b[0m\n\u001b[1;32m---> 51\u001b[1;33m         \u001b[0mself\u001b[0m\u001b[1;33m.\u001b[0m\u001b[0m_open_handles\u001b[0m\u001b[1;33m(\u001b[0m\u001b[0msrc\u001b[0m\u001b[1;33m,\u001b[0m \u001b[0mkwds\u001b[0m\u001b[1;33m)\u001b[0m\u001b[1;33m\u001b[0m\u001b[1;33m\u001b[0m\u001b[0m\n\u001b[0m\u001b[0;32m     52\u001b[0m         \u001b[1;32massert\u001b[0m \u001b[0mself\u001b[0m\u001b[1;33m.\u001b[0m\u001b[0mhandles\u001b[0m \u001b[1;32mis\u001b[0m \u001b[1;32mnot\u001b[0m \u001b[1;32mNone\u001b[0m\u001b[1;33m\u001b[0m\u001b[1;33m\u001b[0m\u001b[0m\n\u001b[0;32m     53\u001b[0m \u001b[1;33m\u001b[0m\u001b[0m\n",
      "\u001b[1;32m~\\anaconda3\\lib\\site-packages\\pandas\\io\\parsers\\base_parser.py\u001b[0m in \u001b[0;36m_open_handles\u001b[1;34m(self, src, kwds)\u001b[0m\n\u001b[0;32m    220\u001b[0m         \u001b[0mLet\u001b[0m \u001b[0mthe\u001b[0m \u001b[0mreaders\u001b[0m \u001b[0mopen\u001b[0m \u001b[0mIOHandles\u001b[0m \u001b[0mafter\u001b[0m \u001b[0mthey\u001b[0m \u001b[0mare\u001b[0m \u001b[0mdone\u001b[0m \u001b[1;32mwith\u001b[0m \u001b[0mtheir\u001b[0m \u001b[0mpotential\u001b[0m \u001b[0mraises\u001b[0m\u001b[1;33m.\u001b[0m\u001b[1;33m\u001b[0m\u001b[1;33m\u001b[0m\u001b[0m\n\u001b[0;32m    221\u001b[0m         \"\"\"\n\u001b[1;32m--> 222\u001b[1;33m         self.handles = get_handle(\n\u001b[0m\u001b[0;32m    223\u001b[0m             \u001b[0msrc\u001b[0m\u001b[1;33m,\u001b[0m\u001b[1;33m\u001b[0m\u001b[1;33m\u001b[0m\u001b[0m\n\u001b[0;32m    224\u001b[0m             \u001b[1;34m\"r\"\u001b[0m\u001b[1;33m,\u001b[0m\u001b[1;33m\u001b[0m\u001b[1;33m\u001b[0m\u001b[0m\n",
      "\u001b[1;32m~\\anaconda3\\lib\\site-packages\\pandas\\io\\common.py\u001b[0m in \u001b[0;36mget_handle\u001b[1;34m(path_or_buf, mode, encoding, compression, memory_map, is_text, errors, storage_options)\u001b[0m\n\u001b[0;32m    700\u001b[0m         \u001b[1;32mif\u001b[0m \u001b[0mioargs\u001b[0m\u001b[1;33m.\u001b[0m\u001b[0mencoding\u001b[0m \u001b[1;32mand\u001b[0m \u001b[1;34m\"b\"\u001b[0m \u001b[1;32mnot\u001b[0m \u001b[1;32min\u001b[0m \u001b[0mioargs\u001b[0m\u001b[1;33m.\u001b[0m\u001b[0mmode\u001b[0m\u001b[1;33m:\u001b[0m\u001b[1;33m\u001b[0m\u001b[1;33m\u001b[0m\u001b[0m\n\u001b[0;32m    701\u001b[0m             \u001b[1;31m# Encoding\u001b[0m\u001b[1;33m\u001b[0m\u001b[1;33m\u001b[0m\u001b[1;33m\u001b[0m\u001b[0m\n\u001b[1;32m--> 702\u001b[1;33m             handle = open(\n\u001b[0m\u001b[0;32m    703\u001b[0m                 \u001b[0mhandle\u001b[0m\u001b[1;33m,\u001b[0m\u001b[1;33m\u001b[0m\u001b[1;33m\u001b[0m\u001b[0m\n\u001b[0;32m    704\u001b[0m                 \u001b[0mioargs\u001b[0m\u001b[1;33m.\u001b[0m\u001b[0mmode\u001b[0m\u001b[1;33m,\u001b[0m\u001b[1;33m\u001b[0m\u001b[1;33m\u001b[0m\u001b[0m\n",
      "\u001b[1;31mFileNotFoundError\u001b[0m: [Errno 2] No such file or directory: './data/report/vanilla_speculation_comparison.csv'"
     ]
    }
   ],
   "source": [
    "path = './data/report/vanilla_speculation_comparison.csv'\n",
    "\n",
    "# import df\n",
    "df = pd.read_csv(path)\n",
    "\n",
    "# Timeseries plot\n",
    "fig, ax = plt.subplots()\n",
    "timeseries_plot(df[['inertia_speculation', 'inertia_optimal', 'inertia_vanilla']], xlabel='Stage', ylabel='Inertia (Average squared distance)', title = 'Vanilla K-Means, Speculation K-Means comparison', ax = ax, show = False)\n",
    "addScatterPlot(ax, df['L_slow'], 'red', 'inertia_slow_execution', size = 5)\n",
    "addScatterPlot(ax, df['L_fast'], 'black', 'inertia_fast_execution', size = 5)\n",
    "plt.show()\n",
    "meta[dataset_index]"
   ]
  },
  {
   "cell_type": "markdown",
   "id": "ec563570-d5eb-4fcf-a529-3b58c1b14fed",
   "metadata": {},
   "source": [
    "## 2.2 Run with trace"
   ]
  },
  {
   "cell_type": "code",
   "execution_count": 37,
   "id": "5a55f241-5ca4-41fd-81fb-0d1a132c439a",
   "metadata": {},
   "outputs": [],
   "source": [
    "path = './data/report/vanilla_speculation_comparison_trace.csv'"
   ]
  },
  {
   "cell_type": "code",
   "execution_count": 38,
   "id": "1c20bf18-fdd1-4217-a5ee-d54de6cae9da",
   "metadata": {},
   "outputs": [],
   "source": [
    "df.to_csv(path, index=False)"
   ]
  },
  {
   "cell_type": "code",
   "execution_count": 32,
   "id": "83f72372-f71f-4dfa-90fc-e6ba9257b7d9",
   "metadata": {},
   "outputs": [],
   "source": [
    "# Set parameter\n",
    "seed = 0\n",
    "np.random.seed(seed)\n",
    "k = 8\n",
    "num_iter = 50\n",
    "subsample_size = 0.01\n",
    "tol = 0\n",
    "\n",
    "# Create dataset\n",
    "dataset_index = 0\n",
    "X = X_list[dataset_index]\n",
    "n, d = X.shape\n",
    "\n",
    "# Set output path\n",
    "path = './data/sketching/plot_2.csv'\n",
    "\n",
    "# Compute optimal centroids\n",
    "opt_centroids = estimate_optimal_centroids(X, k, seed=0, n_init=50, tol=1e-6)\n",
    "\n",
    "# Compute initial centroids\n",
    "np.random.seed(seed)\n",
    "initial_centroids = X[np.random.choice(n, k, replace=False)]  # (k, d)\n",
    "\n",
    "# Speculation execution\n",
    "labels, centroids = KMeans_sketching(X, k, num_iter=num_iter, seed=seed, subsample_size=subsample_size, save=True, path=path, measure=True, choose_best=True, resampling=True, trace=True, tol=tol, resample_centroid=False, centroids=initial_centroids, p = 0.5, q = 0.5)\n",
    "\n",
    "# Read .csv\n",
    "df = pd.read_csv(path)\n",
    "\n",
    "# Extend df to have num_iter rows\n",
    "df = extend_df(df, num_iter)\n",
    "\n",
    "# Define inertia_speculation\n",
    "df['inertia_speculation'] = df[['L_slow', 'L_fast']].min(axis=1)\n",
    "\n",
    "# Estimate optimal centroids\n",
    "opt_centroids = estimate_optimal_centroids(X, k, seed=0, n_init=50, tol=1e-6)\n",
    "\n",
    "# Add L_opt\n",
    "df['inertia_optimal'] = getAvgDist(X, opt_centroids)\n",
    "\n",
    "# Add basic execution\n",
    "_, _, inertia_basic = KMeans(X, k, num_iter=num_iter, seed=seed, tol=tol, centroids=initial_centroids, measure_inertia=True)\n",
    "df['inertia_vanilla'] = extend_array(inertia_basic, num_iter)\n",
    "\n",
    "df.to_csv(path, index=False)"
   ]
  },
  {
   "cell_type": "markdown",
   "id": "94ca4a6f-526b-4dde-8768-6fd90dcb0e55",
   "metadata": {},
   "source": [
    "https://www.openml.org/d/23395\n",
    "The dataset used is an ARFF dataset called COMET_MC_SAMPLE, version 2, uploaded on April 22nd, 2016. It is publicly available and can be downloaded from the URL provided. It contains 6 features and 89640 instances, and can be found on OpenML with the ID 23395."
   ]
  },
  {
   "cell_type": "code",
   "execution_count": 79,
   "id": "5a506148-2e53-4b88-8b1f-df4cfb2f6202",
   "metadata": {},
   "outputs": [
    {
     "data": {
      "image/png": "[encoded data removed]",
      "text/plain": [
       "<Figure size 432x288 with 1 Axes>"
      ]
     },
     "metadata": {
      "needs_background": "light"
     },
     "output_type": "display_data"
    },
    {
     "ename": "NameError",
     "evalue": "name 'meta' is not defined",
     "output_type": "error",
     "traceback": [
      "\u001b[1;31m---------------------------------------------------------------------------\u001b[0m",
      "\u001b[1;31mNameError\u001b[0m                                 Traceback (most recent call last)",
      "\u001b[1;32m~\\AppData\\Local\\Temp/ipykernel_1896/1549014851.py\u001b[0m in \u001b[0;36m<module>\u001b[1;34m\u001b[0m\n\u001b[0;32m     10\u001b[0m \u001b[0maddScatterPlot\u001b[0m\u001b[1;33m(\u001b[0m\u001b[0max\u001b[0m\u001b[1;33m,\u001b[0m \u001b[0mdf\u001b[0m\u001b[1;33m[\u001b[0m\u001b[1;34m'L_fast'\u001b[0m\u001b[1;33m]\u001b[0m\u001b[1;33m,\u001b[0m \u001b[1;34m'black'\u001b[0m\u001b[1;33m,\u001b[0m \u001b[1;34m'inertia_fast_execution'\u001b[0m\u001b[1;33m,\u001b[0m \u001b[0msize\u001b[0m \u001b[1;33m=\u001b[0m \u001b[1;36m5\u001b[0m\u001b[1;33m)\u001b[0m\u001b[1;33m\u001b[0m\u001b[1;33m\u001b[0m\u001b[0m\n\u001b[0;32m     11\u001b[0m \u001b[0mplt\u001b[0m\u001b[1;33m.\u001b[0m\u001b[0mshow\u001b[0m\u001b[1;33m(\u001b[0m\u001b[1;33m)\u001b[0m\u001b[1;33m\u001b[0m\u001b[1;33m\u001b[0m\u001b[0m\n\u001b[1;32m---> 12\u001b[1;33m \u001b[0mmeta\u001b[0m\u001b[1;33m[\u001b[0m\u001b[0mdataset_index\u001b[0m\u001b[1;33m]\u001b[0m\u001b[1;33m\u001b[0m\u001b[1;33m\u001b[0m\u001b[0m\n\u001b[0m",
      "\u001b[1;31mNameError\u001b[0m: name 'meta' is not defined"
     ]
    }
   ],
   "source": [
    "path = './data/report/vanilla_speculation_comparison_trace.csv'\n",
    "\n",
    "# import df\n",
    "df = pd.read_csv(path)\n",
    "\n",
    "# Timeseries plot\n",
    "fig, ax = plt.subplots()\n",
    "timeseries_plot(df[['inertia_speculation', 'inertia_optimal', 'inertia_vanilla']], xlabel='Stage', ylabel='Inertia (Average squared distance)', title = 'Trace: Vanilla K-Means, Speculation K-Means comparison', ax = ax, show = False)\n",
    "addScatterPlot(ax, df['L_slow'], 'red', 'inertia_slow_execution', size = 5)\n",
    "addScatterPlot(ax, df['L_fast'], 'black', 'inertia_fast_execution', size = 5)\n",
    "plt.show()\n",
    "meta[dataset_index]"
   ]
  },
  {
   "cell_type": "markdown",
   "id": "052f0e02-a627-4cb1-9553-074ff523ab83",
   "metadata": {},
   "source": [
    "## 2.3 Resampling centroids "
   ]
  },
  {
   "cell_type": "code",
   "execution_count": 45,
   "id": "e909ee12-fee5-4446-b9c8-70ba78a38e47",
   "metadata": {},
   "outputs": [],
   "source": [
    "path = './data/report/vanilla_speculation_comparison_resampling.csv'"
   ]
  },
  {
   "cell_type": "code",
   "execution_count": 41,
   "id": "5ddf48c5-5711-465d-8990-fdaa307af178",
   "metadata": {},
   "outputs": [],
   "source": [
    "# Set parameter\n",
    "seed = 0\n",
    "np.random.seed(seed)\n",
    "k = 8\n",
    "num_iter = 50\n",
    "subsample_size = 0.01\n",
    "tol = 0\n",
    "\n",
    "# Create dataset\n",
    "dataset_index = 0\n",
    "X = X_list[dataset_index]\n",
    "n, d = X.shape\n",
    "\n",
    "# Set output path\n",
    "path = './data/sketching/plot_2.csv'\n",
    "\n",
    "# Compute optimal centroids\n",
    "opt_centroids = estimate_optimal_centroids(X, k, seed=0, n_init=50, tol=1e-6)\n",
    "\n",
    "# Compute initial centroids\n",
    "np.random.seed(seed)\n",
    "initial_centroids = X[np.random.choice(n, k, replace=False)]  # (k, d)\n",
    "\n",
    "# Speculation execution\n",
    "labels, centroids = KMeans_sketching(X, k, num_iter=num_iter, seed=seed, subsample_size=subsample_size, save=True, path=path, measure=True, choose_best=True, resampling=True, trace=False, tol=tol, resample_centroid=True, centroids=initial_centroids, p = 0.8, q = 0.5)\n",
    "\n",
    "# Read .csv\n",
    "df = pd.read_csv(path)\n",
    "\n",
    "# Extend df to have num_iter rows\n",
    "df = extend_df(df, num_iter)\n",
    "\n",
    "# Define inertia_speculation\n",
    "df['inertia_speculation'] = df[['L_slow', 'L_fast']].min(axis=1)\n",
    "\n",
    "# Estimate optimal centroids\n",
    "opt_centroids = estimate_optimal_centroids(X, k, seed=0, n_init=50, tol=1e-6)\n",
    "\n",
    "# Add L_opt\n",
    "df['inertia_optimal'] = getAvgDist(X, opt_centroids)\n",
    "\n",
    "# Add basic execution\n",
    "_, _, inertia_basic = KMeans(X, k, num_iter=num_iter, seed=seed, tol=tol, centroids=initial_centroids, measure_inertia=True)\n",
    "df['inertia_vanilla'] = extend_array(inertia_basic, num_iter)\n",
    "\n",
    "df.to_csv(path, index=False)"
   ]
  },
  {
   "cell_type": "markdown",
   "id": "a6ff4811-92eb-4e39-bb52-e70ec285c8de",
   "metadata": {},
   "source": [
    "https://www.openml.org/d/23395\n",
    "The dataset used is an ARFF dataset called COMET_MC_SAMPLE, version 2, uploaded on April 22nd, 2016. It is publicly available and can be downloaded from the URL provided. It contains 6 features and 89640 instances, and can be found on OpenML with the ID 23395."
   ]
  },
  {
   "cell_type": "code",
   "execution_count": 78,
   "id": "a135ccea-b54d-4c0d-983f-1d8bcf9180f6",
   "metadata": {},
   "outputs": [
    {
     "data": {
      "image/png": "[encoded data removed]",
      "text/plain": [
       "<Figure size 432x288 with 1 Axes>"
      ]
     },
     "metadata": {
      "needs_background": "light"
     },
     "output_type": "display_data"
    },
    {
     "ename": "NameError",
     "evalue": "name 'meta' is not defined",
     "output_type": "error",
     "traceback": [
      "\u001b[1;31m---------------------------------------------------------------------------\u001b[0m",
      "\u001b[1;31mNameError\u001b[0m                                 Traceback (most recent call last)",
      "\u001b[1;32m~\\AppData\\Local\\Temp/ipykernel_1896/2763638598.py\u001b[0m in \u001b[0;36m<module>\u001b[1;34m\u001b[0m\n\u001b[0;32m     10\u001b[0m \u001b[0maddScatterPlot\u001b[0m\u001b[1;33m(\u001b[0m\u001b[0max\u001b[0m\u001b[1;33m,\u001b[0m \u001b[0mdf\u001b[0m\u001b[1;33m[\u001b[0m\u001b[1;34m'L_fast'\u001b[0m\u001b[1;33m]\u001b[0m\u001b[1;33m,\u001b[0m \u001b[1;34m'black'\u001b[0m\u001b[1;33m,\u001b[0m \u001b[1;34m'inertia_fast_execution'\u001b[0m\u001b[1;33m,\u001b[0m \u001b[0msize\u001b[0m \u001b[1;33m=\u001b[0m \u001b[1;36m5\u001b[0m\u001b[1;33m)\u001b[0m\u001b[1;33m\u001b[0m\u001b[1;33m\u001b[0m\u001b[0m\n\u001b[0;32m     11\u001b[0m \u001b[0mplt\u001b[0m\u001b[1;33m.\u001b[0m\u001b[0mshow\u001b[0m\u001b[1;33m(\u001b[0m\u001b[1;33m)\u001b[0m\u001b[1;33m\u001b[0m\u001b[1;33m\u001b[0m\u001b[0m\n\u001b[1;32m---> 12\u001b[1;33m \u001b[0mmeta\u001b[0m\u001b[1;33m[\u001b[0m\u001b[0mdataset_index\u001b[0m\u001b[1;33m]\u001b[0m\u001b[1;33m\u001b[0m\u001b[1;33m\u001b[0m\u001b[0m\n\u001b[0m",
      "\u001b[1;31mNameError\u001b[0m: name 'meta' is not defined"
     ]
    }
   ],
   "source": [
    "\n",
    "path = './data/report/vanilla_speculation_comparison_resampling.csv'\n",
    "\n",
    "# import df\n",
    "df = pd.read_csv(path)\n",
    "\n",
    "# Timeseries plot\n",
    "fig, ax = plt.subplots()\n",
    "timeseries_plot(df[['inertia_speculation', 'inertia_optimal', 'inertia_vanilla']], xlabel='Stage', ylabel='Inertia (Average squared distance)', title = 'Centroid Resampling: Vanilla K-Means, Speculation K-Means comparison', ax = ax, show = False)\n",
    "addScatterPlot(ax, df['L_slow'], 'red', 'inertia_slow_execution', size = 5)\n",
    "addScatterPlot(ax, df['L_fast'], 'black', 'inertia_fast_execution', size = 5)\n",
    "plt.show()\n",
    "meta[dataset_index]"
   ]
  },
  {
   "cell_type": "markdown",
   "id": "25ddffad-612f-4586-a505-2008ddbc9d98",
   "metadata": {},
   "source": [
    "# 3. Histogram reduced number of steps"
   ]
  },
  {
   "cell_type": "markdown",
   "id": "00781523-7b04-453a-bfa4-43c840596cc5",
   "metadata": {},
   "source": [
    "❗Query different from before!"
   ]
  },
  {
   "cell_type": "code",
   "execution_count": 3,
   "id": "9f1cc9f9-dfb5-4318-802a-fe6d1ebfc6c4",
   "metadata": {},
   "outputs": [],
   "source": [
    "# load datasets\n",
    "query = \"NumberOfInstances > 500000 &\\\n",
    "         NumberOfInstances < 10000000 &\\\n",
    "         NumberOfNumericFeatures > 5 &\\\n",
    "         NumberOfNumericFeatures < 50 &\\\n",
    "         NumberOfMissingValues == 0 &\\\n",
    "         NumberOfSymbolicFeatures == 0\"\n",
    "\n",
    "X_list, meta = load_datasets(query, n_datasets = 10, search = True, return_meta=True)"
   ]
  },
  {
   "cell_type": "code",
   "execution_count": null,
   "id": "3a60df07-a4cf-40fe-a8e5-fd996e00fda5",
   "metadata": {},
   "outputs": [],
   "source": [
    "# Set seed\n",
    "seed = 0\n",
    "subsample_size = 0.01\n",
    "run = True\n",
    "num_iter = 50\n",
    "tol = 1e-3\n",
    "measurements = []\n",
    "\n",
    "# Real datasets\n",
    "for i, X in enumerate(X_list):\n",
    "    # Set parameters\n",
    "    n, d = X.shape\n",
    "    print(f'\\nDataset {i}°:', end =\"\")\n",
    "    for j, k in enumerate(range(3,11)):\n",
    "        print(f' {k}', end = \"\")\n",
    "        \n",
    "        # Compute initial centroids\n",
    "        np.random.seed(seed)\n",
    "        initial_centroids = X[np.random.choice(n, k, replace=False)]  # (k, d)\n",
    "              \n",
    "        path = f'./data/report/histogram_steps_vanilla_id_{i}_k_{k}.csv'\n",
    "\n",
    "        # Vanilla K-Means\n",
    "        _, centroids_vanilla, steps_vanilla = KMeans_sketching(X, k, num_iter=num_iter, seed=seed, subsample_size=subsample_size, save=True, path=path, measure=True, choose_best=False, tol=tol, centroids=initial_centroids, return_steps = True)\n",
    "        inertia_vanilla = getAvgDist(X, centroids_vanilla)\n",
    "\n",
    "        path = f'./data/report/histogram_steps_speculative_id_{i}_k_{k}.csv'\n",
    "        # Speculative K-Means\n",
    "        _, centroids_speculation, steps_speculation = KMeans_sketching(X, k, num_iter=num_iter, seed=seed, subsample_size=subsample_size, return_steps = True, save=True, path=path, measure=True, choose_best=True, resampling=True, trace=True, tol=tol, resample_centroid=False, centroids=initial_centroids, p = 0.5, q = 0.5)\n",
    "        inertia_speculation = getAvgDist(X, centroids_speculation)\n",
    "\n",
    "        measurements.append({'n':n, 'd':d, 'k': k, 'i': i,'steps_vanilla':steps_vanilla, 'steps_speculation':steps_speculation, 'subsample_size':subsample_size, 'seed':seed, 'inertia_vanilla':inertia_vanilla, 'inertia_speculation':inertia_speculation})\n",
    "        \n",
    "# Save measurements to CSV file and compute ratio of steps for Speculative K-Means and Vanilla K-Means\n",
    "df = pd.DataFrame(measurements)\n",
    "df.to_csv('./data/report/histogram_steps.csv', index=False)"
   ]
  },
  {
   "cell_type": "code",
   "execution_count": 5,
   "id": "b130d8ff-2422-4bef-b8a2-703e7a1a2692",
   "metadata": {},
   "outputs": [
    {
     "data": {
      "text/plain": [
       "Text(0.5, 1.0, 'Histogram of ratio between speculation and vanilla K-Means of \\\\#stages and inertia')"
      ]
     },
     "execution_count": 5,
     "metadata": {},
     "output_type": "execute_result"
    },
    {
     "data": {
      "image/png": "[encoded data removed]",
      "text/plain": [
       "<Figure size 504x360 with 1 Axes>"
      ]
     },
     "metadata": {
      "needs_background": "light"
     },
     "output_type": "display_data"
    }
   ],
   "source": [
    "df = pd.read_csv('./data/report/histogram_steps.csv')\n",
    "df['Ratio \\#stages_speculation/\\#stages_vanilla'] = df['steps_speculation'] / df['steps_vanilla']\n",
    "df['Ratio inertia_speculation/inertia_vanilla'] = df['inertia_speculation'] / df['inertia_vanilla']\n",
    "\n",
    "fig, ax = plt.subplots(figsize = (7,5))\n",
    "sns.histplot(data=df[['Ratio inertia_speculation/inertia_vanilla', 'Ratio \\#stages_speculation/\\#stages_vanilla']], bins=30)\n",
    "ax.set_xlabel('Ratio')\n",
    "ax.set_ylabel('Count')\n",
    "ax.set_title(\"Histogram of ratio between speculation and vanilla K-Means of \\#stages and inertia\")"
   ]
  },
  {
   "cell_type": "markdown",
   "id": "806d4b21-a2a6-4023-b466-19065ae047a0",
   "metadata": {},
   "source": [
    "# 4. Histogram escape local minima"
   ]
  },
  {
   "cell_type": "code",
   "execution_count": 81,
   "id": "bfb5c83f-e10a-41e6-a648-b465c35b1501",
   "metadata": {},
   "outputs": [],
   "source": [
    "# load datasets\n",
    "query = \"NumberOfInstances > 500000 &\\\n",
    "         NumberOfInstances < 10000000 &\\\n",
    "         NumberOfNumericFeatures > 5 &\\\n",
    "         NumberOfNumericFeatures < 50 &\\\n",
    "         NumberOfMissingValues == 0 &\\\n",
    "         NumberOfSymbolicFeatures == 0\"\n",
    "\n",
    "X_list, meta = load_datasets(query, n_datasets = 10, search = True, return_meta=True)"
   ]
  },
  {
   "cell_type": "code",
   "execution_count": 8,
   "id": "7ac30a5f-00ea-466f-8cc0-3b79aa9d5c7f",
   "metadata": {},
   "outputs": [
    {
     "name": "stdout",
     "output_type": "stream",
     "text": [
      "\n",
      "Dataset 0°: 3 4"
     ]
    },
    {
     "ename": "KeyboardInterrupt",
     "evalue": "",
     "output_type": "error",
     "traceback": [
      "\u001b[1;31m---------------------------------------------------------------------------\u001b[0m",
      "\u001b[1;31mKeyboardInterrupt\u001b[0m                         Traceback (most recent call last)",
      "\u001b[1;32m<__array_function__ internals>\u001b[0m in \u001b[0;36mwhere\u001b[1;34m(*args, **kwargs)\u001b[0m\n",
      "\u001b[1;31mKeyboardInterrupt\u001b[0m: "
     ]
    },
    {
     "name": "stderr",
     "output_type": "stream",
     "text": [
      "Exception ignored in: 'sklearn.cluster._k_means_common._relocate_empty_clusters_dense'\n",
      "Traceback (most recent call last):\n",
      "  File \"<__array_function__ internals>\", line 2, in where\n",
      "KeyboardInterrupt: \n"
     ]
    },
    {
     "ename": "KeyboardInterrupt",
     "evalue": "",
     "output_type": "error",
     "traceback": [
      "\u001b[1;31m---------------------------------------------------------------------------\u001b[0m",
      "\u001b[1;31mKeyboardInterrupt\u001b[0m                         Traceback (most recent call last)",
      "\u001b[1;32m~\\AppData\\Local\\Temp/ipykernel_11972/1855611374.py\u001b[0m in \u001b[0;36m<module>\u001b[1;34m\u001b[0m\n\u001b[0;32m     32\u001b[0m \u001b[1;33m\u001b[0m\u001b[0m\n\u001b[0;32m     33\u001b[0m         \u001b[1;31m# Estimate optimal inertia\u001b[0m\u001b[1;33m\u001b[0m\u001b[1;33m\u001b[0m\u001b[1;33m\u001b[0m\u001b[0m\n\u001b[1;32m---> 34\u001b[1;33m         \u001b[0mopt_centroids\u001b[0m \u001b[1;33m=\u001b[0m \u001b[0mestimate_optimal_centroids\u001b[0m\u001b[1;33m(\u001b[0m\u001b[0mX\u001b[0m\u001b[1;33m,\u001b[0m \u001b[0mk\u001b[0m\u001b[1;33m,\u001b[0m \u001b[0mseed\u001b[0m\u001b[1;33m=\u001b[0m\u001b[0mseed\u001b[0m\u001b[1;33m,\u001b[0m \u001b[0mn_init\u001b[0m\u001b[1;33m=\u001b[0m\u001b[1;36m50\u001b[0m\u001b[1;33m,\u001b[0m \u001b[0mtol\u001b[0m\u001b[1;33m=\u001b[0m\u001b[1;36m1e-6\u001b[0m\u001b[1;33m)\u001b[0m\u001b[1;33m\u001b[0m\u001b[1;33m\u001b[0m\u001b[0m\n\u001b[0m\u001b[0;32m     35\u001b[0m         \u001b[0minertia_optimal\u001b[0m \u001b[1;33m=\u001b[0m \u001b[0mgetAvgDist\u001b[0m\u001b[1;33m(\u001b[0m\u001b[0mX\u001b[0m\u001b[1;33m,\u001b[0m \u001b[0mopt_centroids\u001b[0m\u001b[1;33m)\u001b[0m\u001b[1;33m\u001b[0m\u001b[1;33m\u001b[0m\u001b[0m\n\u001b[0;32m     36\u001b[0m \u001b[1;33m\u001b[0m\u001b[0m\n",
      "\u001b[1;32m~\\PycharmProjects\\DIAS-semester-project\\utils\\helpers.py\u001b[0m in \u001b[0;36mestimate_optimal_centroids\u001b[1;34m(X, k, seed, n_init, tol)\u001b[0m\n\u001b[0;32m     72\u001b[0m \u001b[1;33m\u001b[0m\u001b[0m\n\u001b[0;32m     73\u001b[0m \u001b[1;32mdef\u001b[0m \u001b[0mestimate_optimal_centroids\u001b[0m\u001b[1;33m(\u001b[0m\u001b[0mX\u001b[0m\u001b[1;33m,\u001b[0m \u001b[0mk\u001b[0m\u001b[1;33m,\u001b[0m \u001b[0mseed\u001b[0m \u001b[1;33m=\u001b[0m \u001b[1;36m0\u001b[0m\u001b[1;33m,\u001b[0m\u001b[0mn_init\u001b[0m \u001b[1;33m=\u001b[0m \u001b[1;36m50\u001b[0m\u001b[1;33m,\u001b[0m \u001b[0mtol\u001b[0m \u001b[1;33m=\u001b[0m \u001b[1;36m1e-6\u001b[0m\u001b[1;33m)\u001b[0m\u001b[1;33m:\u001b[0m\u001b[1;33m\u001b[0m\u001b[1;33m\u001b[0m\u001b[0m\n\u001b[1;32m---> 74\u001b[1;33m     \u001b[0mkmeans\u001b[0m \u001b[1;33m=\u001b[0m \u001b[0mKMeans\u001b[0m\u001b[1;33m(\u001b[0m\u001b[0mn_clusters\u001b[0m \u001b[1;33m=\u001b[0m \u001b[0mk\u001b[0m\u001b[1;33m,\u001b[0m \u001b[0mrandom_state\u001b[0m \u001b[1;33m=\u001b[0m \u001b[0mseed\u001b[0m \u001b[1;33m,\u001b[0m \u001b[0mn_init\u001b[0m \u001b[1;33m=\u001b[0m \u001b[0mn_init\u001b[0m\u001b[1;33m,\u001b[0m \u001b[0mtol\u001b[0m \u001b[1;33m=\u001b[0m \u001b[0mtol\u001b[0m\u001b[1;33m)\u001b[0m\u001b[1;33m.\u001b[0m\u001b[0mfit\u001b[0m\u001b[1;33m(\u001b[0m\u001b[0mX\u001b[0m\u001b[1;33m)\u001b[0m\u001b[1;33m\u001b[0m\u001b[1;33m\u001b[0m\u001b[0m\n\u001b[0m\u001b[0;32m     75\u001b[0m     \u001b[0mcentroids\u001b[0m \u001b[1;33m=\u001b[0m \u001b[0mkmeans\u001b[0m\u001b[1;33m.\u001b[0m\u001b[0mcluster_centers_\u001b[0m\u001b[1;33m\u001b[0m\u001b[1;33m\u001b[0m\u001b[0m\n\u001b[0;32m     76\u001b[0m     \u001b[1;32mreturn\u001b[0m \u001b[0mcentroids\u001b[0m\u001b[1;33m\u001b[0m\u001b[1;33m\u001b[0m\u001b[0m\n",
      "\u001b[1;32m~\\anaconda3\\lib\\site-packages\\sklearn\\cluster\\_kmeans.py\u001b[0m in \u001b[0;36mfit\u001b[1;34m(self, X, y, sample_weight)\u001b[0m\n\u001b[0;32m   1187\u001b[0m \u001b[1;33m\u001b[0m\u001b[0m\n\u001b[0;32m   1188\u001b[0m             \u001b[1;31m# run a k-means once\u001b[0m\u001b[1;33m\u001b[0m\u001b[1;33m\u001b[0m\u001b[1;33m\u001b[0m\u001b[0m\n\u001b[1;32m-> 1189\u001b[1;33m             labels, inertia, centers, n_iter_ = kmeans_single(\n\u001b[0m\u001b[0;32m   1190\u001b[0m                 \u001b[0mX\u001b[0m\u001b[1;33m,\u001b[0m\u001b[1;33m\u001b[0m\u001b[1;33m\u001b[0m\u001b[0m\n\u001b[0;32m   1191\u001b[0m                 \u001b[0msample_weight\u001b[0m\u001b[1;33m,\u001b[0m\u001b[1;33m\u001b[0m\u001b[1;33m\u001b[0m\u001b[0m\n",
      "\u001b[1;32m~\\anaconda3\\lib\\site-packages\\sklearn\\cluster\\_kmeans.py\u001b[0m in \u001b[0;36m_kmeans_single_elkan\u001b[1;34m(X, sample_weight, centers_init, max_iter, verbose, x_squared_norms, tol, n_threads)\u001b[0m\n\u001b[0;32m    492\u001b[0m         \u001b[1;31m# compute new pairwise distances between centers and closest other\u001b[0m\u001b[1;33m\u001b[0m\u001b[1;33m\u001b[0m\u001b[1;33m\u001b[0m\u001b[0m\n\u001b[0;32m    493\u001b[0m         \u001b[1;31m# center of each center for next iterations\u001b[0m\u001b[1;33m\u001b[0m\u001b[1;33m\u001b[0m\u001b[1;33m\u001b[0m\u001b[0m\n\u001b[1;32m--> 494\u001b[1;33m         \u001b[0mcenter_half_distances\u001b[0m \u001b[1;33m=\u001b[0m \u001b[0meuclidean_distances\u001b[0m\u001b[1;33m(\u001b[0m\u001b[0mcenters_new\u001b[0m\u001b[1;33m)\u001b[0m \u001b[1;33m/\u001b[0m \u001b[1;36m2\u001b[0m\u001b[1;33m\u001b[0m\u001b[1;33m\u001b[0m\u001b[0m\n\u001b[0m\u001b[0;32m    495\u001b[0m         distance_next_center = np.partition(\n\u001b[0;32m    496\u001b[0m             \u001b[0mnp\u001b[0m\u001b[1;33m.\u001b[0m\u001b[0masarray\u001b[0m\u001b[1;33m(\u001b[0m\u001b[0mcenter_half_distances\u001b[0m\u001b[1;33m)\u001b[0m\u001b[1;33m,\u001b[0m \u001b[0mkth\u001b[0m\u001b[1;33m=\u001b[0m\u001b[1;36m1\u001b[0m\u001b[1;33m,\u001b[0m \u001b[0maxis\u001b[0m\u001b[1;33m=\u001b[0m\u001b[1;36m0\u001b[0m\u001b[1;33m\u001b[0m\u001b[1;33m\u001b[0m\u001b[0m\n",
      "\u001b[1;31mKeyboardInterrupt\u001b[0m: "
     ]
    }
   ],
   "source": [
    "# Set seed\n",
    "seed = 0\n",
    "subsample_size = 0.01\n",
    "run = True\n",
    "num_iter = 50\n",
    "tol = 1e-3\n",
    "measurements = []\n",
    "\n",
    "# Real datasets\n",
    "for i, X in enumerate(X_list):\n",
    "    # Set parameters\n",
    "    n, d = X.shape\n",
    "    print(f'\\nDataset {i}°:', end =\"\")\n",
    "    for j, k in enumerate(range(3,11)):\n",
    "        print(f' {k}', end = \"\")\n",
    "        \n",
    "        # Compute initial centroids\n",
    "        np.random.seed(seed)\n",
    "        initial_centroids = X[np.random.choice(n, k, replace=False)]  # (k, d)\n",
    "              \n",
    "        # Vanilla K-Means\n",
    "        _, centroids_vanilla, steps_vanilla = KMeans(X, k, num_iter = num_iter, seed = seed, kmeans_pp = False, tol = tol, centroids = initial_centroids, return_steps = True)\n",
    "        inertia_vanilla = getAvgDist(X, centroids_vanilla)\n",
    "        \n",
    "        # K-Means++\n",
    "        _, centroids_pp, steps_pp = KMeans(X, k, num_iter = num_iter, seed = seed, kmeans_pp = True, tol = tol, return_steps = True)\n",
    "        inertia_pp = getAvgDist(X, centroids_pp)\n",
    "        \n",
    "        # Speculative K-Means\n",
    "        _, centroids_speculation, steps_speculation = KMeans_sketching(X, k, num_iter=num_iter, seed=seed, subsample_size=subsample_size, choose_best=True, resampling=True, trace=False, tol=tol, resample_centroid=True, return_steps = True, centroids=initial_centroids, p = 0.5, q = 0.5)\n",
    "        inertia_speculation = getAvgDist(X, centroids_speculation)\n",
    "        \n",
    "        # Estimate optimal inertia\n",
    "        opt_centroids = estimate_optimal_centroids(X, k, seed=seed, n_init=50, tol=1e-6)\n",
    "        inertia_optimal = getAvgDist(X, opt_centroids)\n",
    "        \n",
    "        measurements.append({'n':n, 'd':d, 'k': k, 'i': i, 'steps_vanilla':steps_vanilla, 'steps_speculation':steps_speculation, 'steps_pp': steps_pp, 'subsample_size':subsample_size, 'seed':seed, 'inertia_vanilla':inertia_vanilla, 'inertia_pp':inertia_pp, 'inertia_speculation':inertia_speculation, 'inertia_optimal':inertia_optimal})\n",
    "        \n",
    "# Save measurements to CSV file and compute ratio of steps for Speculative K-Means and Vanilla K-Means\n",
    "df = pd.DataFrame(measurements)\n",
    "df.to_csv('./data/report/histogram_escape_local_minima.csv', index=False)\n",
    "df['ratio_vanilla'] = df['inertia_vanilla'] / df['inertia_optimal']\n",
    "df['ratio_pp'] = df['inertia_pp'] / df['inertia_optimal']\n",
    "df['ratio_speculation'] = df['inertia_speculation'] / df['inertia_optimal']\n",
    "sns.histplot(data=df[['ratio_vanilla', 'ratio_pp', 'ratio_speculation']], bins=30)"
   ]
  },
  {
   "cell_type": "markdown",
   "id": "1d55d307-b56d-4bc6-a52a-6db1c467a1ed",
   "metadata": {},
   "source": [
    "# 5. Overall time execution"
   ]
  },
  {
   "cell_type": "code",
   "execution_count": null,
   "id": "a7a04bcf-7826-48ce-804f-579408263e45",
   "metadata": {},
   "outputs": [],
   "source": [
    "# load datasets\n",
    "query = \"NumberOfInstances > 500000 &\\\n",
    "         NumberOfInstances < 10000000 &\\\n",
    "         NumberOfNumericFeatures > 5 &\\\n",
    "         NumberOfNumericFeatures < 50 &\\\n",
    "         NumberOfMissingValues == 0 &\\\n",
    "         NumberOfSymbolicFeatures == 0\"\n",
    "\n",
    "X_list, meta = load_datasets(query, n_datasets = 10, search = True, return_meta=True)"
   ]
  },
  {
   "cell_type": "code",
   "execution_count": 21,
   "id": "d5d1c951-518c-4561-a875-f80c012500f3",
   "metadata": {},
   "outputs": [
    {
     "name": "stdout",
     "output_type": "stream",
     "text": [
      "\n",
      "Dataset 0°: 3 4 5"
     ]
    },
    {
     "ename": "KeyboardInterrupt",
     "evalue": "",
     "output_type": "error",
     "traceback": [
      "\u001b[1;31m---------------------------------------------------------------------------\u001b[0m",
      "\u001b[1;31mKeyboardInterrupt\u001b[0m                         Traceback (most recent call last)",
      "\u001b[1;32m~\\AppData\\Local\\Temp/ipykernel_11972/4191740351.py\u001b[0m in \u001b[0;36m<module>\u001b[1;34m\u001b[0m\n\u001b[0;32m     20\u001b[0m \u001b[1;33m\u001b[0m\u001b[0m\n\u001b[0;32m     21\u001b[0m         \u001b[1;31m# Vanilla K-Means\u001b[0m\u001b[1;33m\u001b[0m\u001b[1;33m\u001b[0m\u001b[1;33m\u001b[0m\u001b[0m\n\u001b[1;32m---> 22\u001b[1;33m         \u001b[0m_\u001b[0m\u001b[1;33m,\u001b[0m \u001b[0mcentroids_vanilla\u001b[0m\u001b[1;33m,\u001b[0m \u001b[0mt_A_array\u001b[0m\u001b[1;33m,\u001b[0m \u001b[0mt_B_array\u001b[0m\u001b[1;33m,\u001b[0m \u001b[0msteps_vanilla\u001b[0m \u001b[1;33m=\u001b[0m \u001b[0mKMeans\u001b[0m\u001b[1;33m(\u001b[0m\u001b[0mX\u001b[0m\u001b[1;33m,\u001b[0m \u001b[0mk\u001b[0m\u001b[1;33m,\u001b[0m \u001b[0mnum_iter\u001b[0m \u001b[1;33m=\u001b[0m \u001b[0mnum_iter\u001b[0m\u001b[1;33m,\u001b[0m \u001b[0mseed\u001b[0m \u001b[1;33m=\u001b[0m \u001b[0mseed\u001b[0m\u001b[1;33m,\u001b[0m \u001b[0mkmeans_pp\u001b[0m \u001b[1;33m=\u001b[0m \u001b[1;32mFalse\u001b[0m\u001b[1;33m,\u001b[0m \u001b[0mtol\u001b[0m \u001b[1;33m=\u001b[0m \u001b[0mtol\u001b[0m\u001b[1;33m,\u001b[0m \u001b[0mcentroids\u001b[0m \u001b[1;33m=\u001b[0m \u001b[0minitial_centroids\u001b[0m\u001b[1;33m,\u001b[0m \u001b[0mmeasure\u001b[0m \u001b[1;33m=\u001b[0m \u001b[1;32mTrue\u001b[0m\u001b[1;33m,\u001b[0m \u001b[0mreturn_steps\u001b[0m \u001b[1;33m=\u001b[0m \u001b[1;32mTrue\u001b[0m\u001b[1;33m)\u001b[0m\u001b[1;33m\u001b[0m\u001b[1;33m\u001b[0m\u001b[0m\n\u001b[0m\u001b[0;32m     23\u001b[0m         \u001b[0mtime_execution_vanilla\u001b[0m \u001b[1;33m=\u001b[0m \u001b[0mt_A_array\u001b[0m\u001b[1;33m.\u001b[0m\u001b[0msum\u001b[0m\u001b[1;33m(\u001b[0m\u001b[1;33m)\u001b[0m \u001b[1;33m+\u001b[0m \u001b[0mt_B_array\u001b[0m\u001b[1;33m.\u001b[0m\u001b[0msum\u001b[0m\u001b[1;33m(\u001b[0m\u001b[1;33m)\u001b[0m\u001b[1;33m\u001b[0m\u001b[1;33m\u001b[0m\u001b[0m\n\u001b[0;32m     24\u001b[0m         \u001b[0minertia_vanilla\u001b[0m \u001b[1;33m=\u001b[0m \u001b[0mgetAvgDist\u001b[0m\u001b[1;33m(\u001b[0m\u001b[0mX\u001b[0m\u001b[1;33m,\u001b[0m \u001b[0mcentroids_vanilla\u001b[0m\u001b[1;33m)\u001b[0m\u001b[1;33m\u001b[0m\u001b[1;33m\u001b[0m\u001b[0m\n",
      "\u001b[1;32m~\\PycharmProjects\\DIAS-semester-project\\utils\\KMeans.py\u001b[0m in \u001b[0;36mKMeans\u001b[1;34m(X, k, num_iter, seed, measure, kmeans_pp, tol, return_steps, centroids, measure_inertia)\u001b[0m\n\u001b[0;32m    101\u001b[0m         \u001b[1;32mif\u001b[0m \u001b[0mmeasure\u001b[0m\u001b[1;33m:\u001b[0m\u001b[1;33m\u001b[0m\u001b[1;33m\u001b[0m\u001b[0m\n\u001b[0;32m    102\u001b[0m                 \u001b[0mstart\u001b[0m \u001b[1;33m=\u001b[0m \u001b[0mprocess_time_ns\u001b[0m\u001b[1;33m(\u001b[0m\u001b[1;33m)\u001b[0m\u001b[1;33m\u001b[0m\u001b[1;33m\u001b[0m\u001b[0m\n\u001b[1;32m--> 103\u001b[1;33m         \u001b[0mlabels\u001b[0m\u001b[1;33m,\u001b[0m \u001b[0minertia\u001b[0m \u001b[1;33m=\u001b[0m \u001b[0mgetLables\u001b[0m\u001b[1;33m(\u001b[0m\u001b[0mX\u001b[0m\u001b[1;33m,\u001b[0m \u001b[0mcentroids\u001b[0m\u001b[1;33m,\u001b[0m \u001b[0mget_inertia\u001b[0m \u001b[1;33m=\u001b[0m \u001b[1;32mTrue\u001b[0m\u001b[1;33m)\u001b[0m\u001b[1;33m\u001b[0m\u001b[1;33m\u001b[0m\u001b[0m\n\u001b[0m\u001b[0;32m    104\u001b[0m         \u001b[1;32mif\u001b[0m \u001b[0mmeasure\u001b[0m\u001b[1;33m:\u001b[0m\u001b[1;33m\u001b[0m\u001b[1;33m\u001b[0m\u001b[0m\n\u001b[0;32m    105\u001b[0m                 \u001b[0mend\u001b[0m \u001b[1;33m=\u001b[0m \u001b[0mprocess_time_ns\u001b[0m\u001b[1;33m(\u001b[0m\u001b[1;33m)\u001b[0m\u001b[1;33m\u001b[0m\u001b[1;33m\u001b[0m\u001b[0m\n",
      "\u001b[1;32m~\\PycharmProjects\\DIAS-semester-project\\utils\\KMeans.py\u001b[0m in \u001b[0;36mgetLables\u001b[1;34m(X, centroids, get_e, get_inertia)\u001b[0m\n\u001b[0;32m     20\u001b[0m \u001b[1;33m\u001b[0m\u001b[0m\n\u001b[0;32m     21\u001b[0m \u001b[1;32mdef\u001b[0m \u001b[0mgetLables\u001b[0m\u001b[1;33m(\u001b[0m\u001b[0mX\u001b[0m\u001b[1;33m,\u001b[0m \u001b[0mcentroids\u001b[0m\u001b[1;33m,\u001b[0m \u001b[0mget_e\u001b[0m\u001b[1;33m=\u001b[0m\u001b[1;32mFalse\u001b[0m\u001b[1;33m,\u001b[0m \u001b[0mget_inertia\u001b[0m \u001b[1;33m=\u001b[0m \u001b[1;32mFalse\u001b[0m\u001b[1;33m)\u001b[0m\u001b[1;33m:\u001b[0m\u001b[1;33m\u001b[0m\u001b[1;33m\u001b[0m\u001b[0m\n\u001b[1;32m---> 22\u001b[1;33m     \u001b[0mdist\u001b[0m \u001b[1;33m=\u001b[0m \u001b[0mgetDist\u001b[0m\u001b[1;33m(\u001b[0m\u001b[0mX\u001b[0m\u001b[1;33m,\u001b[0m \u001b[0mcentroids\u001b[0m\u001b[1;33m)\u001b[0m\u001b[1;33m\u001b[0m\u001b[1;33m\u001b[0m\u001b[0m\n\u001b[0m\u001b[0;32m     23\u001b[0m     \u001b[0mlabels\u001b[0m \u001b[1;33m=\u001b[0m \u001b[0mdist\u001b[0m\u001b[1;33m.\u001b[0m\u001b[0margmin\u001b[0m\u001b[1;33m(\u001b[0m\u001b[1;36m1\u001b[0m\u001b[1;33m)\u001b[0m\u001b[1;33m\u001b[0m\u001b[1;33m\u001b[0m\u001b[0m\n\u001b[0;32m     24\u001b[0m     \u001b[1;32mif\u001b[0m \u001b[0mget_e\u001b[0m\u001b[1;33m:\u001b[0m\u001b[1;33m\u001b[0m\u001b[1;33m\u001b[0m\u001b[0m\n",
      "\u001b[1;32m~\\PycharmProjects\\DIAS-semester-project\\utils\\KMeans.py\u001b[0m in \u001b[0;36mgetDist\u001b[1;34m(X, centroids)\u001b[0m\n\u001b[0;32m     12\u001b[0m \u001b[1;31m# Return squared distances between all datapoint, centroid pairs\u001b[0m\u001b[1;33m\u001b[0m\u001b[1;33m\u001b[0m\u001b[1;33m\u001b[0m\u001b[0m\n\u001b[0;32m     13\u001b[0m \u001b[1;32mdef\u001b[0m \u001b[0mgetDist\u001b[0m\u001b[1;33m(\u001b[0m\u001b[0mX\u001b[0m\u001b[1;33m,\u001b[0m \u001b[0mcentroids\u001b[0m\u001b[1;33m)\u001b[0m\u001b[1;33m:\u001b[0m\u001b[1;33m\u001b[0m\u001b[1;33m\u001b[0m\u001b[0m\n\u001b[1;32m---> 14\u001b[1;33m     \u001b[0mdiff\u001b[0m \u001b[1;33m=\u001b[0m \u001b[0mX\u001b[0m\u001b[1;33m[\u001b[0m\u001b[1;33m:\u001b[0m\u001b[1;33m,\u001b[0m \u001b[1;32mNone\u001b[0m\u001b[1;33m]\u001b[0m \u001b[1;33m-\u001b[0m \u001b[0mcentroids\u001b[0m\u001b[1;33m[\u001b[0m\u001b[1;32mNone\u001b[0m\u001b[1;33m]\u001b[0m  \u001b[1;31m# (n, k, d)\u001b[0m\u001b[1;33m\u001b[0m\u001b[1;33m\u001b[0m\u001b[0m\n\u001b[0m\u001b[0;32m     15\u001b[0m     \u001b[1;32mreturn\u001b[0m \u001b[0mnp\u001b[0m\u001b[1;33m.\u001b[0m\u001b[0meinsum\u001b[0m\u001b[1;33m(\u001b[0m\u001b[1;34m'nkd,nkd->nk'\u001b[0m\u001b[1;33m,\u001b[0m \u001b[0mdiff\u001b[0m\u001b[1;33m,\u001b[0m \u001b[0mdiff\u001b[0m\u001b[1;33m)\u001b[0m\u001b[1;33m\u001b[0m\u001b[1;33m\u001b[0m\u001b[0m\n\u001b[0;32m     16\u001b[0m \u001b[1;33m\u001b[0m\u001b[0m\n",
      "\u001b[1;31mKeyboardInterrupt\u001b[0m: "
     ]
    }
   ],
   "source": [
    "# Set seed\n",
    "seed = 0\n",
    "subsample_size = 0.01\n",
    "run = True\n",
    "num_iter = 50\n",
    "tol = 1e-3\n",
    "measurements = []\n",
    "\n",
    "# Real datasets\n",
    "for i, X in enumerate(X_list):\n",
    "    # Set parameters\n",
    "    n, d = X.shape\n",
    "    print(f'\\nDataset {i}°:', end =\"\")\n",
    "    for j, k in enumerate(range(3,11)):\n",
    "        print(f' {k}', end = \"\")\n",
    "        \n",
    "        # Compute initial centroids\n",
    "        np.random.seed(seed)\n",
    "        initial_centroids = X[np.random.choice(n, k, replace=False)]  # (k, d)\n",
    "              \n",
    "        # Vanilla K-Means\n",
    "        _, centroids_vanilla, t_A_array, t_B_array, steps_vanilla = KMeans(X, k, num_iter = num_iter, seed = seed, kmeans_pp = False, tol = tol, centroids = initial_centroids, measure = True, return_steps = True)\n",
    "        time_execution_vanilla = t_A_array.sum() + t_B_array.sum()\n",
    "        inertia_vanilla = getAvgDist(X, centroids_vanilla)\n",
    "        \n",
    "        # Speculative K-Means\n",
    "        path = f'./data/report/histogram_time_execution_id_{i}_k_{k}.csv'\n",
    "        _, centroids_speculation, steps_speculation = KMeans_sketching(X, k, num_iter=num_iter, seed=seed, subsample_size=subsample_size, save=True, path=path, measure=True, choose_best=True, resampling=True, trace=True, tol=tol, resample_centroid=False, measure_time = True,centroids=initial_centroids, p = 0.5, q = 0.5, return_steps = True)\n",
    "        df_speculation = pd.read_csv(path)\n",
    "        time_execution_speculation = df_speculation[['t_A', 't_B','t_sampling','t_choose_best','t_get_avg','t_permutation']].to_numpy().sum()\n",
    "        inertia_speculation = getAvgDist(X, centroids_speculation)\n",
    "        \n",
    "        measurements.append({'n':n, 'd':d, 'k': k, 'i': i, 'time_execution_vanilla':time_execution_vanilla, 'time_execution_speculation':time_execution_speculation, 'subsample_size':subsample_size, 'seed':seed, 'steps_vanilla':steps_vanilla, 'steps_speculation':steps_speculation, 'inertia_vanilla':inertia_vanilla, 'inertia_speculation':inertia_speculation})\n",
    "        \n",
    "# Save measurements to CSV file and compute ratio of steps for Speculative K-Means and Vanilla K-Means\n",
    "df = pd.DataFrame(measurements)\n",
    "df.to_csv('./data/report/histogram_time_execution.csv', index=False)\n",
    "df['ratio_time'] = df['time_execution_speculation'] / df['time_execution_vanilla']\n",
    "df['ratio_steps'] = df['steps_speculation'] / df['steps_vanilla']\n",
    "sns.histplot(data=df['ratio_time'], bins=30)"
   ]
  },
  {
   "cell_type": "code",
   "execution_count": 22,
   "id": "624d1f73-5116-448d-8f91-ff7ddc39f736",
   "metadata": {},
   "outputs": [
    {
     "data": {
      "text/plain": [
       "[{'n': 7619400,\n",
       "  'd': 5,\n",
       "  'k': 3,\n",
       "  'i': 0,\n",
       "  'time_execution_vanilla': 3437.5,\n",
       "  'time_execution_speculation': 5828.125,\n",
       "  'subsample_size': 0.01,\n",
       "  'seed': 0,\n",
       "  'steps_vanilla': 3,\n",
       "  'steps_speculation': 1,\n",
       "  'inertia_vanilla': 688748.8632385718,\n",
       "  'inertia_speculation': 482910.51243060624},\n",
       " {'n': 7619400,\n",
       "  'd': 5,\n",
       "  'k': 4,\n",
       "  'i': 0,\n",
       "  'time_execution_vanilla': 10843.75,\n",
       "  'time_execution_speculation': 6546.875,\n",
       "  'subsample_size': 0.01,\n",
       "  'seed': 0,\n",
       "  'steps_vanilla': 10,\n",
       "  'steps_speculation': 1,\n",
       "  'inertia_vanilla': 464327.2180814811,\n",
       "  'inertia_speculation': 463860.79690286884}]"
      ]
     },
     "execution_count": 22,
     "metadata": {},
     "output_type": "execute_result"
    }
   ],
   "source": [
    "measurements"
   ]
  },
  {
   "cell_type": "markdown",
   "id": "2c7c06a7-ff93-4025-9c0c-21cae337e1b2",
   "metadata": {
    "jp-MarkdownHeadingCollapsed": true,
    "tags": []
   },
   "source": [
    "# Check"
   ]
  },
  {
   "cell_type": "code",
   "execution_count": 72,
   "id": "bb4fe04d-0295-47c7-aa34-9dd8e5892546",
   "metadata": {},
   "outputs": [
    {
     "data": {
      "text/html": [
       "<div>\n",
       "<style scoped>\n",
       "    .dataframe tbody tr th:only-of-type {\n",
       "        vertical-align: middle;\n",
       "    }\n",
       "\n",
       "    .dataframe tbody tr th {\n",
       "        vertical-align: top;\n",
       "    }\n",
       "\n",
       "    .dataframe thead th {\n",
       "        text-align: right;\n",
       "    }\n",
       "</style>\n",
       "<table border=\"1\" class=\"dataframe\">\n",
       "  <thead>\n",
       "    <tr style=\"text-align: right;\">\n",
       "      <th></th>\n",
       "      <th>n</th>\n",
       "      <th>d</th>\n",
       "      <th>k</th>\n",
       "      <th>i</th>\n",
       "      <th>steps_vanilla</th>\n",
       "      <th>steps_speculation</th>\n",
       "      <th>subsample_size</th>\n",
       "      <th>seed</th>\n",
       "      <th>ratio</th>\n",
       "    </tr>\n",
       "  </thead>\n",
       "  <tbody>\n",
       "    <tr>\n",
       "      <th>14</th>\n",
       "      <td>104820</td>\n",
       "      <td>7</td>\n",
       "      <td>9</td>\n",
       "      <td>1</td>\n",
       "      <td>5</td>\n",
       "      <td>7</td>\n",
       "      <td>0.01</td>\n",
       "      <td>0</td>\n",
       "      <td>1.4</td>\n",
       "    </tr>\n",
       "    <tr>\n",
       "      <th>15</th>\n",
       "      <td>104820</td>\n",
       "      <td>7</td>\n",
       "      <td>10</td>\n",
       "      <td>1</td>\n",
       "      <td>5</td>\n",
       "      <td>7</td>\n",
       "      <td>0.01</td>\n",
       "      <td>0</td>\n",
       "      <td>1.4</td>\n",
       "    </tr>\n",
       "    <tr>\n",
       "      <th>24</th>\n",
       "      <td>111753</td>\n",
       "      <td>9</td>\n",
       "      <td>3</td>\n",
       "      <td>3</td>\n",
       "      <td>1</td>\n",
       "      <td>1</td>\n",
       "      <td>0.01</td>\n",
       "      <td>0</td>\n",
       "      <td>1.0</td>\n",
       "    </tr>\n",
       "    <tr>\n",
       "      <th>25</th>\n",
       "      <td>111753</td>\n",
       "      <td>9</td>\n",
       "      <td>4</td>\n",
       "      <td>3</td>\n",
       "      <td>1</td>\n",
       "      <td>1</td>\n",
       "      <td>0.01</td>\n",
       "      <td>0</td>\n",
       "      <td>1.0</td>\n",
       "    </tr>\n",
       "    <tr>\n",
       "      <th>26</th>\n",
       "      <td>111753</td>\n",
       "      <td>9</td>\n",
       "      <td>5</td>\n",
       "      <td>3</td>\n",
       "      <td>1</td>\n",
       "      <td>1</td>\n",
       "      <td>0.01</td>\n",
       "      <td>0</td>\n",
       "      <td>1.0</td>\n",
       "    </tr>\n",
       "    <tr>\n",
       "      <th>27</th>\n",
       "      <td>111753</td>\n",
       "      <td>9</td>\n",
       "      <td>6</td>\n",
       "      <td>3</td>\n",
       "      <td>1</td>\n",
       "      <td>2</td>\n",
       "      <td>0.01</td>\n",
       "      <td>0</td>\n",
       "      <td>2.0</td>\n",
       "    </tr>\n",
       "    <tr>\n",
       "      <th>28</th>\n",
       "      <td>111753</td>\n",
       "      <td>9</td>\n",
       "      <td>7</td>\n",
       "      <td>3</td>\n",
       "      <td>1</td>\n",
       "      <td>2</td>\n",
       "      <td>0.01</td>\n",
       "      <td>0</td>\n",
       "      <td>2.0</td>\n",
       "    </tr>\n",
       "    <tr>\n",
       "      <th>29</th>\n",
       "      <td>111753</td>\n",
       "      <td>9</td>\n",
       "      <td>8</td>\n",
       "      <td>3</td>\n",
       "      <td>2</td>\n",
       "      <td>3</td>\n",
       "      <td>0.01</td>\n",
       "      <td>0</td>\n",
       "      <td>1.5</td>\n",
       "    </tr>\n",
       "    <tr>\n",
       "      <th>30</th>\n",
       "      <td>111753</td>\n",
       "      <td>9</td>\n",
       "      <td>9</td>\n",
       "      <td>3</td>\n",
       "      <td>2</td>\n",
       "      <td>3</td>\n",
       "      <td>0.01</td>\n",
       "      <td>0</td>\n",
       "      <td>1.5</td>\n",
       "    </tr>\n",
       "  </tbody>\n",
       "</table>\n",
       "</div>"
      ],
      "text/plain": [
       "         n  d   k  i  steps_vanilla  steps_speculation  subsample_size  seed  \\\n",
       "14  104820  7   9  1              5                  7            0.01     0   \n",
       "15  104820  7  10  1              5                  7            0.01     0   \n",
       "24  111753  9   3  3              1                  1            0.01     0   \n",
       "25  111753  9   4  3              1                  1            0.01     0   \n",
       "26  111753  9   5  3              1                  1            0.01     0   \n",
       "27  111753  9   6  3              1                  2            0.01     0   \n",
       "28  111753  9   7  3              1                  2            0.01     0   \n",
       "29  111753  9   8  3              2                  3            0.01     0   \n",
       "30  111753  9   9  3              2                  3            0.01     0   \n",
       "\n",
       "    ratio  \n",
       "14    1.4  \n",
       "15    1.4  \n",
       "24    1.0  \n",
       "25    1.0  \n",
       "26    1.0  \n",
       "27    2.0  \n",
       "28    2.0  \n",
       "29    1.5  \n",
       "30    1.5  "
      ]
     },
     "execution_count": 72,
     "metadata": {},
     "output_type": "execute_result"
    }
   ],
   "source": [
    "df[df.ratio >= 1]"
   ]
  },
  {
   "cell_type": "code",
   "execution_count": 70,
   "id": "5706db0c-7104-4cbe-9090-30ebcb49adb3",
   "metadata": {},
   "outputs": [],
   "source": [
    "k=6\n",
    "i=3\n",
    "\n",
    "X = X_list[i]\n",
    "n, d = X.shape\n",
    "\n",
    "# import df\n",
    "df_vanilla = pd.read_csv(f'./data/report/histogram_steps_vanilla_id_{i}_k_{k}.csv')\n",
    "# Extend df to have num_iter rows\n",
    "df_vanilla = extend_df(df_vanilla, num_iter)\n",
    "# import df\n",
    "df_speculation = pd.read_csv(f'./data/report/histogram_steps_speculative_id_{i}_k_{k}.csv')\n",
    "# Extend df to have num_iter rows\n",
    "df_speculation = extend_df(df_speculation, num_iter)\n",
    "\n",
    "# create empty df\n",
    "df_plot = pd.DataFrame()\n",
    "# Define inertia_speculation\n",
    "df_plot['inertia_speculation'] = df_speculation[['L_slow', 'L_fast']].min(axis=1)\n",
    "\n",
    "df_plot['inertia_vanilla'] = df_vanilla['L_slow']\n",
    "\n",
    "# Compute initial centroids\n",
    "np.random.seed(seed)\n",
    "initial_centroids = X[np.random.choice(n, k, replace=False)]  # (k, d)\n",
    "              \n",
    "# Estimate optimal centroids\n",
    "opt_centroids = estimate_optimal_centroids(X, k, seed=0, n_init=50, tol=1e-6)\n",
    "\n",
    "# Add L_opt\n",
    "df_plot['inertia_optimal'] = getAvgDist(X, opt_centroids)"
   ]
  },
  {
   "cell_type": "code",
   "execution_count": 71,
   "id": "05af8404-5f0e-4ec1-bdb8-5194cbbe0b6e",
   "metadata": {},
   "outputs": [
    {
     "data": {
      "image/png": "[encoded data removed]",
      "text/plain": [
       "<Figure size 432x288 with 1 Axes>"
      ]
     },
     "metadata": {
      "needs_background": "light"
     },
     "output_type": "display_data"
    }
   ],
   "source": [
    "# Timeseries plot\n",
    "fig, ax = plt.subplots()\n",
    "timeseries_plot(df_plot[['inertia_speculation', 'inertia_optimal', 'inertia_vanilla']], xlabel='Stage', ylabel='Inertia (Average squared distance)', title = 'Centroid Resampling: Vanilla K-Means, Speculation K-Means comparison', ax = ax, show = False)\n",
    "addScatterPlot(ax, df_speculation['L_slow'], 'red', 'inertia_slow_execution', size = 5)\n",
    "addScatterPlot(ax, df_speculation['L_fast'], 'black', 'inertia_fast_execution', size = 5)\n",
    "plt.show()"
   ]
  },
  {
   "cell_type": "code",
   "execution_count": null,
   "id": "012fcefc-f670-40e6-a641-062d076eb27c",
   "metadata": {},
   "outputs": [],
   "source": []
  }
 ],
 "metadata": {
  "kernelspec": {
   "display_name": "Python 3 (ipykernel)",
   "language": "python",
   "name": "python3"
  },
  "language_info": {
   "codemirror_mode": {
    "name": "ipython",
    "version": 3
   },
   "file_extension": ".py",
   "mimetype": "text/x-python",
   "name": "python",
   "nbconvert_exporter": "python",
   "pygments_lexer": "ipython3",
   "version": "3.8.12"
  }
 },
 "nbformat": 4,
 "nbformat_minor": 5
}
