{
 "cells": [
  {
   "cell_type": "code",
   "execution_count": 1,
   "id": "e2ff34cf-5292-4ec4-bee1-6fe6d68ca06d",
   "metadata": {},
   "outputs": [],
   "source": [
    "import numpy as np\n",
    "import pandas as pd\n",
    "from importAirbnb import *\n",
    "from KMeans import *\n",
    "from sklearn.datasets import make_blobs\n",
    "import matplotlib.pyplot as plt"
   ]
  },
  {
   "cell_type": "markdown",
   "id": "24991807-bee9-4096-aeb7-582c7cb576ed",
   "metadata": {
    "jp-MarkdownHeadingCollapsed": true,
    "tags": []
   },
   "source": [
    "## Import dataset"
   ]
  },
  {
   "cell_type": "code",
   "execution_count": 10,
   "id": "dfbaa57b-3e32-4620-b0ba-71e1822e4c08",
   "metadata": {},
   "outputs": [],
   "source": [
    "X = importAirbnb('./data/AB_NYC_2019.csv')\n",
    "K = 20"
   ]
  },
  {
   "cell_type": "markdown",
   "id": "7f716c04-5549-495a-aa6d-6baa6d52fe7e",
   "metadata": {
    "jp-MarkdownHeadingCollapsed": true,
    "tags": []
   },
   "source": [
    "## Implementation A"
   ]
  },
  {
   "cell_type": "code",
   "execution_count": 11,
   "id": "9d9dbb8f-25d6-4555-b6a4-5cb7528c7da2",
   "metadata": {},
   "outputs": [],
   "source": [
    "centroids = X[np.random.choice(len(X), K, replace=False)]"
   ]
  },
  {
   "cell_type": "code",
   "execution_count": 12,
   "id": "40509d6e-d965-4914-aa8a-43461724e3fc",
   "metadata": {},
   "outputs": [
    {
     "data": {
      "text/plain": [
       "((48895, 7), (20, 7))"
      ]
     },
     "execution_count": 12,
     "metadata": {},
     "output_type": "execute_result"
    }
   ],
   "source": [
    "X.shape, centroids.shape"
   ]
  },
  {
   "cell_type": "code",
   "execution_count": 13,
   "id": "9c23d6ab-99c3-4622-91a7-57d860e8078d",
   "metadata": {},
   "outputs": [],
   "source": [
    "diff = X[:, None] - centroids[None]  # (n, k, d)\n",
    "dist = np.einsum('nkd,nkd->nk', diff, diff)"
   ]
  },
  {
   "cell_type": "code",
   "execution_count": 14,
   "id": "34cc230b-23e9-4478-bfa8-1cf44f004a19",
   "metadata": {},
   "outputs": [
    {
     "data": {
      "text/plain": [
       "(48895, 20)"
      ]
     },
     "execution_count": 14,
     "metadata": {},
     "output_type": "execute_result"
    }
   ],
   "source": [
    "dist.shape"
   ]
  },
  {
   "cell_type": "markdown",
   "id": "02d7cb1e-0319-403a-bc55-7a225dbd5f8d",
   "metadata": {
    "tags": []
   },
   "source": [
    "### Separated execution"
   ]
  },
  {
   "cell_type": "code",
   "execution_count": 34,
   "id": "33e9307e-ad57-4101-9e99-c7e781e1edf6",
   "metadata": {},
   "outputs": [
    {
     "name": "stdout",
     "output_type": "stream",
     "text": [
      "Wall time: 29.8 ms\n"
     ]
    }
   ],
   "source": [
    "%%time\n",
    "X_expanded = np.repeat(X[...,None],K,axis=2)"
   ]
  },
  {
   "cell_type": "code",
   "execution_count": 35,
   "id": "c1d20202-50ea-4b04-9e29-ed64bc902d55",
   "metadata": {},
   "outputs": [
    {
     "name": "stdout",
     "output_type": "stream",
     "text": [
      "Wall time: 27.7 ms\n"
     ]
    }
   ],
   "source": [
    "%%time\n",
    "centroids_expanded = np.repeat(centroids[...,None],X.shape[0],axis=2).reshape(X_expanded.shape)"
   ]
  },
  {
   "cell_type": "code",
   "execution_count": 36,
   "id": "7e5523e0-aeea-45f0-adc1-d1911ccbe56e",
   "metadata": {},
   "outputs": [
    {
     "data": {
      "text/plain": [
       "((48895, 7, 20), (48895, 7, 20))"
      ]
     },
     "execution_count": 36,
     "metadata": {},
     "output_type": "execute_result"
    }
   ],
   "source": [
    "X_expanded.shape, centroids_expanded.shape"
   ]
  },
  {
   "cell_type": "code",
   "execution_count": 37,
   "id": "9aa0b6d4-73c6-44b1-8bc3-d1eb852686aa",
   "metadata": {},
   "outputs": [
    {
     "name": "stdout",
     "output_type": "stream",
     "text": [
      "Wall time: 17 ms\n"
     ]
    }
   ],
   "source": [
    "%%time\n",
    "diff = X_expanded - centroids_expanded"
   ]
  },
  {
   "cell_type": "code",
   "execution_count": 38,
   "id": "b9fd237b-9f3b-4fe9-906c-29b97f0da915",
   "metadata": {},
   "outputs": [
    {
     "name": "stdout",
     "output_type": "stream",
     "text": [
      "Wall time: 35.5 ms\n"
     ]
    }
   ],
   "source": [
    "%%time\n",
    "dist = np.linalg.norm(diff, 2, 1)"
   ]
  },
  {
   "cell_type": "code",
   "execution_count": 39,
   "id": "f9218f9c-e63c-4c13-965f-24108c771003",
   "metadata": {},
   "outputs": [
    {
     "name": "stdout",
     "output_type": "stream",
     "text": [
      "Wall time: 1.97 ms\n"
     ]
    }
   ],
   "source": [
    "%%time\n",
    "assignment = np.argmin(dist, 1)"
   ]
  },
  {
   "cell_type": "markdown",
   "id": "cfc02420-ef70-4c5b-bced-562ec5c5967e",
   "metadata": {},
   "source": [
    "### Correction and Speculation implementation"
   ]
  },
  {
   "cell_type": "code",
   "execution_count": 40,
   "id": "82f3b344-4e8e-4847-b119-2c1ffcf11f40",
   "metadata": {},
   "outputs": [
    {
     "data": {
      "text/plain": [
       "(48895, 20)"
      ]
     },
     "execution_count": 40,
     "metadata": {},
     "output_type": "execute_result"
    }
   ],
   "source": [
    "dist.shape"
   ]
  },
  {
   "cell_type": "code",
   "execution_count": 41,
   "id": "c9b807e0-166e-47e8-9316-74507f27a9a1",
   "metadata": {},
   "outputs": [
    {
     "name": "stdout",
     "output_type": "stream",
     "text": [
      "Wall time: 4.48 ms\n"
     ]
    }
   ],
   "source": [
    "%%time\n",
    "dist.sort(1)\n",
    "e = dist[:,1] - dist[:,0]"
   ]
  },
  {
   "cell_type": "code",
   "execution_count": 42,
   "id": "929bb11e-f148-42fd-8dff-6e60e495abc9",
   "metadata": {},
   "outputs": [],
   "source": [
    "n_bins = 10\n",
    "bins = np.linspace(0,30,n_bins)\n",
    "speculated_centroids = X[np.random.choice(len(X), K, replace=False)]"
   ]
  },
  {
   "cell_type": "code",
   "execution_count": 43,
   "id": "b16c3d72-42e2-4540-83fe-ca9c94d9cf7e",
   "metadata": {},
   "outputs": [
    {
     "name": "stdout",
     "output_type": "stream",
     "text": [
      "Wall time: 963 µs\n"
     ]
    },
    {
     "data": {
      "text/plain": [
       "array([ True,  True,  True, ...,  True,  True,  True])"
      ]
     },
     "execution_count": 43,
     "metadata": {},
     "output_type": "execute_result"
    }
   ],
   "source": [
    "%%time\n",
    "digitized = np.digitize(e, bins)\n",
    "D = np.max(np.nan_to_num(np.linalg.norm(centroids - speculated_centroids, 2, 1)))\n",
    "mask = (bins[digitized - 1] - 2*D) <= 0\n",
    "mask"
   ]
  },
  {
   "cell_type": "markdown",
   "id": "9203af06-3270-429f-a7a3-47f860e1f405",
   "metadata": {
    "tags": []
   },
   "source": [
    "### Complete execution\n",
    "\n",
    "We suppose that both X and centroids are already expanded:\n",
    "- X is expanded at the beginning of the algorithm\n",
    "- centroids are expanded at the beginning of the algorithm, and they updated correctly in B"
   ]
  },
  {
   "cell_type": "code",
   "execution_count": 44,
   "id": "5b8597f5-bbbf-46bb-88c1-7ddec57896b0",
   "metadata": {},
   "outputs": [],
   "source": [
    "centroids = X[np.random.choice(len(X), K, replace=False)]"
   ]
  },
  {
   "cell_type": "code",
   "execution_count": 45,
   "id": "97f31a8f-8f19-499c-94d0-db78b9ea8b92",
   "metadata": {},
   "outputs": [
    {
     "name": "stdout",
     "output_type": "stream",
     "text": [
      "Wall time: 58 ms\n"
     ]
    }
   ],
   "source": [
    "%%time\n",
    "X_expanded = np.repeat(X[...,None],K,axis=2)\n",
    "centroids_expanded = np.repeat(centroids.T.reshape(1, X.shape[1], K)[...,None],X.shape[0],axis=0).reshape(X_expanded.shape)"
   ]
  },
  {
   "cell_type": "code",
   "execution_count": 46,
   "id": "08fe0c2e-ee73-4801-af64-3ae5b745e197",
   "metadata": {},
   "outputs": [
    {
     "name": "stdout",
     "output_type": "stream",
     "text": [
      "Wall time: 66 ms\n"
     ]
    }
   ],
   "source": [
    "%%time\n",
    "assignment = np.argmin(np.linalg.norm(X_expanded - centroids_expanded, 2, 1), 1)"
   ]
  },
  {
   "cell_type": "code",
   "execution_count": 47,
   "id": "8fcfb3d0-43e8-4cc9-8b2c-1bd00a81f1f1",
   "metadata": {},
   "outputs": [
    {
     "data": {
      "text/plain": [
       "array([ 5,  5,  5, ...,  7, 16,  6], dtype=int64)"
      ]
     },
     "execution_count": 47,
     "metadata": {},
     "output_type": "execute_result"
    }
   ],
   "source": [
    "assignment"
   ]
  },
  {
   "cell_type": "code",
   "execution_count": 48,
   "id": "077d7e8b-e7a6-452f-a43c-65256866fd5b",
   "metadata": {},
   "outputs": [
    {
     "name": "stdout",
     "output_type": "stream",
     "text": [
      "Wall time: 9 ms\n"
     ]
    }
   ],
   "source": [
    "%%time\n",
    "new_centroids = np.array([np.mean(X[assignment == k], axis=0)  for k in range(K)])"
   ]
  },
  {
   "cell_type": "code",
   "execution_count": 49,
   "id": "4ebcf937-03e4-485a-9d5a-44e093f51927",
   "metadata": {},
   "outputs": [],
   "source": [
    "centroids_expanded = np.repeat(new_centroids.T.reshape(1, X.shape[1], K)[...,None],X.shape[0],axis=0).reshape(X_expanded.shape)"
   ]
  },
  {
   "cell_type": "markdown",
   "id": "7a971348-1b15-48ff-a15a-8530e433afbb",
   "metadata": {
    "tags": []
   },
   "source": [
    "### Comparison with KMeans class"
   ]
  },
  {
   "cell_type": "code",
   "execution_count": 50,
   "id": "5f4e6f58-3228-4afc-ba58-074c35d2bb5d",
   "metadata": {},
   "outputs": [],
   "source": [
    "kmeans = KMeans(X, n_clusters=K)\n",
    "kmeans.centroids = centroids"
   ]
  },
  {
   "cell_type": "code",
   "execution_count": 51,
   "id": "e472e9b2-e401-4deb-bd23-e9c95f302f71",
   "metadata": {},
   "outputs": [
    {
     "data": {
      "text/plain": [
       "True"
      ]
     },
     "execution_count": 51,
     "metadata": {},
     "output_type": "execute_result"
    }
   ],
   "source": [
    "(kmeans.predict(X) == assignment).all()"
   ]
  },
  {
   "cell_type": "markdown",
   "id": "460b2010-4cee-4217-8da6-6c1f98228825",
   "metadata": {
    "jp-MarkdownHeadingCollapsed": true,
    "tags": []
   },
   "source": [
    "## Implementation B"
   ]
  },
  {
   "cell_type": "code",
   "execution_count": 52,
   "id": "4132cb91-cd93-45ec-9c89-620d20d4f9dc",
   "metadata": {},
   "outputs": [
    {
     "name": "stdout",
     "output_type": "stream",
     "text": [
      "Wall time: 6.52 ms\n"
     ]
    },
    {
     "data": {
      "text/plain": [
       "(48895, 20)"
      ]
     },
     "execution_count": 52,
     "metadata": {},
     "output_type": "execute_result"
    }
   ],
   "source": [
    "%%time\n",
    "mask = np.repeat(np.arange(K).reshape(1,K)[...,None],X.shape[0],axis=0).reshape(X.shape[0], K)\n",
    "mask.shape"
   ]
  },
  {
   "cell_type": "code",
   "execution_count": 53,
   "id": "a4c54ce6-0afd-41b8-8804-f2cf8560e55b",
   "metadata": {},
   "outputs": [
    {
     "name": "stdout",
     "output_type": "stream",
     "text": [
      "Wall time: 7.63 ms\n"
     ]
    }
   ],
   "source": [
    "%%time\n",
    "assignment_expanded = np.repeat(assignment[...,None],K,axis=1)"
   ]
  },
  {
   "cell_type": "code",
   "execution_count": 54,
   "id": "d2f4466d-7867-43f0-80a2-6774530b6e93",
   "metadata": {},
   "outputs": [
    {
     "name": "stdout",
     "output_type": "stream",
     "text": [
      "Wall time: 3 ms\n"
     ]
    }
   ],
   "source": [
    "%%time\n",
    "mask = (assignment_expanded==mask)"
   ]
  },
  {
   "cell_type": "code",
   "execution_count": 22,
   "id": "d7e947f9-b1ad-42f1-a0ea-3bccf88b2635",
   "metadata": {},
   "outputs": [
    {
     "data": {
      "text/plain": [
       "(48895, 7, 20)"
      ]
     },
     "execution_count": 22,
     "metadata": {},
     "output_type": "execute_result"
    }
   ],
   "source": [
    "X_expanded.shape"
   ]
  },
  {
   "cell_type": "code",
   "execution_count": 23,
   "id": "98890139-dd3f-4e77-842c-28576d90ae6d",
   "metadata": {},
   "outputs": [
    {
     "name": "stdout",
     "output_type": "stream",
     "text": [
      "Wall time: 4.02 ms\n"
     ]
    }
   ],
   "source": [
    "%%time\n",
    "mask_expanded = np.repeat(mask.reshape(X.shape[0], 1, K)[...,None],X.shape[1],axis=1).reshape(X.shape[0], X.shape[1], K)"
   ]
  },
  {
   "cell_type": "code",
   "execution_count": 24,
   "id": "c7bc5c00-f7cb-43d6-8c6a-a5f8dcaa6268",
   "metadata": {},
   "outputs": [
    {
     "name": "stdout",
     "output_type": "stream",
     "text": [
      "Wall time: 40.2 ms\n"
     ]
    }
   ],
   "source": [
    "%%time\n",
    "result = (mask_expanded * X_expanded).sum(0)"
   ]
  },
  {
   "cell_type": "markdown",
   "id": "053276bd-1800-405b-a3d9-87bd78f0604f",
   "metadata": {
    "jp-MarkdownHeadingCollapsed": true,
    "tags": []
   },
   "source": [
    "## Check implementation fast kmeans"
   ]
  },
  {
   "cell_type": "code",
   "execution_count": 69,
   "id": "e8f3dbf1-a4f9-4622-9990-bae4e6de7f8e",
   "metadata": {},
   "outputs": [],
   "source": [
    "# create artificial clusters\n",
    "\n",
    "def generate_clusters(n_clusters=3, d=2, n=100):\n",
    "    centers = np.random.rand(n_clusters,d)*15\n",
    "    cluster_std = np.random.normal(1, 0.5, n_clusters)\n",
    "    X, y = make_blobs(n_samples=n, cluster_std=cluster_std, centers=centers, n_features=d, random_state=1)\n",
    "    \n",
    "    print(\"2d plot\")\n",
    "    for cluster in range(n_clusters):\n",
    "        plt.scatter(X[y == cluster, 0], X[y == cluster, 1], s=10, label=f\"Cluster{cluster}\")  \n",
    "    return centers, cluster_std, X, y"
   ]
  },
  {
   "cell_type": "code",
   "execution_count": 70,
   "id": "9d1c1895-2545-491b-8ae0-e8f9141020ef",
   "metadata": {},
   "outputs": [],
   "source": [
    "n_clusters, d, n = 4, 2, 1000"
   ]
  },
  {
   "cell_type": "code",
   "execution_count": 71,
   "id": "fbe2d918-9f6e-4733-b343-be787c6126a2",
   "metadata": {},
   "outputs": [
    {
     "name": "stdout",
     "output_type": "stream",
     "text": [
      "2d plot\n"
     ]
    },
    {
     "data": {
      "image/png": "[encoded data removed]",
      "text/plain": [
       "<Figure size 432x288 with 1 Axes>"
      ]
     },
     "metadata": {
      "needs_background": "light"
     },
     "output_type": "display_data"
    }
   ],
   "source": [
    "centers, cluster_std, X, y = generate_clusters(n_clusters, d, n)\n",
    "kmeans = KMeans_fast(X)"
   ]
  },
  {
   "cell_type": "code",
   "execution_count": 72,
   "id": "9661d849-40d9-4de3-a3b2-c655a8190e8b",
   "metadata": {},
   "outputs": [
    {
     "data": {
      "text/plain": [
       "<KMeans.KMeans_fast at 0x170bea187f0>"
      ]
     },
     "execution_count": 72,
     "metadata": {},
     "output_type": "execute_result"
    }
   ],
   "source": [
    "kmeans.fit()"
   ]
  },
  {
   "cell_type": "code",
   "execution_count": 73,
   "id": "a34654ad-a4d8-4977-a8c2-652cafa05bce",
   "metadata": {},
   "outputs": [
    {
     "data": {
      "image/png": "[encoded data removed]",
      "text/plain": [
       "<Figure size 432x288 with 1 Axes>"
      ]
     },
     "metadata": {
      "needs_background": "light"
     },
     "output_type": "display_data"
    }
   ],
   "source": [
    "for cluster in range(n_clusters):\n",
    "        plt.scatter(X[kmeans.labels == cluster, 0], X[kmeans.labels == cluster, 1], s=10, label=f\"Cluster{cluster}\")  \n",
    "for center in kmeans.centroids:\n",
    "    plt.scatter(center[0], center[1], s=50)"
   ]
  },
  {
   "cell_type": "markdown",
   "id": "4071cf2c-64b4-4169-bbe6-be6db33c5f31",
   "metadata": {
    "jp-MarkdownHeadingCollapsed": true,
    "tags": []
   },
   "source": [
    "## Check implementation speculated kmeans"
   ]
  },
  {
   "cell_type": "code",
   "execution_count": 2,
   "id": "d25c0310-cc85-4718-953b-ef72bfde52b0",
   "metadata": {},
   "outputs": [],
   "source": [
    "# create artificial clusters\n",
    "\n",
    "def generate_clusters(n_clusters=3, d=2, n=100):\n",
    "    centers = np.random.rand(n_clusters,d)*15\n",
    "    cluster_std = np.random.normal(1, 0.5, n_clusters)\n",
    "    X, y = make_blobs(n_samples=n, cluster_std=cluster_std, centers=centers, n_features=d, random_state=1)\n",
    "    \n",
    "    print(\"2d plot\")\n",
    "    for cluster in range(n_clusters):\n",
    "        plt.scatter(X[y == cluster, 0], X[y == cluster, 1], s=10, label=f\"Cluster{cluster}\")  \n",
    "    return centers, cluster_std, X, y"
   ]
  },
  {
   "cell_type": "code",
   "execution_count": 3,
   "id": "c51ac651-f0db-4dd2-be25-002cba278bb8",
   "metadata": {},
   "outputs": [],
   "source": [
    "n_clusters, d, n = 4, 2, 1000"
   ]
  },
  {
   "cell_type": "code",
   "execution_count": 4,
   "id": "7115ce20-a30e-4b99-bdc2-79919ace12fc",
   "metadata": {},
   "outputs": [
    {
     "name": "stdout",
     "output_type": "stream",
     "text": [
      "2d plot\n"
     ]
    },
    {
     "data": {
      "image/png": "[encoded data removed]",
      "text/plain": [
       "<Figure size 432x288 with 1 Axes>"
      ]
     },
     "metadata": {
      "needs_background": "light"
     },
     "output_type": "display_data"
    }
   ],
   "source": [
    "centers, cluster_std, X, y = generate_clusters(n_clusters, d, n)\n",
    "kmeans = KMeans_Speculation(X, subsample_size=0.01)"
   ]
  },
  {
   "cell_type": "code",
   "execution_count": 5,
   "id": "3116db89-cd68-452a-877d-9f735ce8680a",
   "metadata": {},
   "outputs": [
    {
     "data": {
      "text/plain": [
       "array([[ 1.71619927,  8.05673324],\n",
       "       [ 7.20556762, -0.68661214],\n",
       "       [ 8.76205424, -0.23665967],\n",
       "       [ 4.37409127,  2.84649387]])"
      ]
     },
     "execution_count": 5,
     "metadata": {},
     "output_type": "execute_result"
    }
   ],
   "source": [
    "kmeans.centroids"
   ]
  },
  {
   "cell_type": "code",
   "execution_count": 6,
   "id": "12ea5fd0-4c7d-4023-8862-997acb3ad443",
   "metadata": {},
   "outputs": [
    {
     "data": {
      "text/plain": [
       "False"
      ]
     },
     "execution_count": 6,
     "metadata": {},
     "output_type": "execute_result"
    }
   ],
   "source": [
    "(kmeans.labels == kmeans.prev_label).all()"
   ]
  },
  {
   "cell_type": "code",
   "execution_count": 7,
   "id": "847a3510-3e98-450c-bedc-dcb64c775202",
   "metadata": {},
   "outputs": [
    {
     "data": {
      "text/plain": [
       "False"
      ]
     },
     "execution_count": 7,
     "metadata": {},
     "output_type": "execute_result"
    }
   ],
   "source": [
    "np.all(kmeans.labels == kmeans.prev_label)"
   ]
  },
  {
   "cell_type": "code",
   "execution_count": 8,
   "id": "01ae79f8-d224-4276-a26e-1ab6656f135d",
   "metadata": {},
   "outputs": [],
   "source": [
    "kmeans.prev_label"
   ]
  },
  {
   "cell_type": "code",
   "execution_count": 9,
   "id": "a03b7704-aa64-43d7-8da1-285e1f7d21b0",
   "metadata": {},
   "outputs": [
    {
     "data": {
      "text/plain": [
       "array([[ 1.71619927,  8.05673324],\n",
       "       [ 7.20556762, -0.68661214],\n",
       "       [ 8.76205424, -0.23665967],\n",
       "       [ 4.37409127,  2.84649387]])"
      ]
     },
     "execution_count": 9,
     "metadata": {},
     "output_type": "execute_result"
    }
   ],
   "source": [
    "kmeans.centroids"
   ]
  },
  {
   "cell_type": "code",
   "execution_count": 10,
   "id": "46960c02-c68b-442a-a17f-e227af0b4d07",
   "metadata": {},
   "outputs": [
    {
     "name": "stderr",
     "output_type": "stream",
     "text": [
      "C:\\Users\\stefa\\anaconda3\\lib\\site-packages\\numpy\\core\\fromnumeric.py:3440: RuntimeWarning: Mean of empty slice.\n",
      "  return _methods._mean(a, axis=axis, dtype=dtype,\n",
      "C:\\Users\\stefa\\anaconda3\\lib\\site-packages\\numpy\\core\\_methods.py:181: RuntimeWarning: invalid value encountered in true_divide\n",
      "  ret = um.true_divide(\n"
     ]
    },
    {
     "data": {
      "text/plain": [
       "<KMeans.KMeans_Speculation at 0x2a1d5fe8dc0>"
      ]
     },
     "execution_count": 10,
     "metadata": {},
     "output_type": "execute_result"
    }
   ],
   "source": [
    "kmeans.fit()"
   ]
  },
  {
   "cell_type": "code",
   "execution_count": 11,
   "id": "34b1b4c6-811c-4bb5-9662-8b7b9e299761",
   "metadata": {},
   "outputs": [
    {
     "data": {
      "image/png": "[encoded data removed]",
      "text/plain": [
       "<Figure size 432x288 with 1 Axes>"
      ]
     },
     "metadata": {
      "needs_background": "light"
     },
     "output_type": "display_data"
    }
   ],
   "source": [
    "for cluster in range(n_clusters):\n",
    "        plt.scatter(X[kmeans.labels == cluster, 0], X[kmeans.labels == cluster, 1], s=10, label=f\"Cluster{cluster}\")  \n",
    "for center in kmeans.centroids:\n",
    "    plt.scatter(center[0], center[1], s=50)"
   ]
  },
  {
   "cell_type": "markdown",
   "id": "93364400-2e40-4de1-99f5-643145d4b415",
   "metadata": {
    "tags": []
   },
   "source": [
    "## Check implementation fast refactor kmeans"
   ]
  },
  {
   "cell_type": "code",
   "execution_count": 2,
   "id": "0d274a8c-b233-4994-98d0-e13cc66b7098",
   "metadata": {},
   "outputs": [],
   "source": [
    "# create artificial clusters\n",
    "\n",
    "def generate_clusters(n_clusters=3, d=2, n=100):\n",
    "    centers = np.random.rand(n_clusters,d)*15\n",
    "    cluster_std = np.random.normal(1, 0.5, n_clusters)\n",
    "    X, y = make_blobs(n_samples=n, cluster_std=cluster_std, centers=centers, n_features=d, random_state=1)\n",
    "    \n",
    "    print(\"2d plot\")\n",
    "    for cluster in range(n_clusters):\n",
    "        plt.scatter(X[y == cluster, 0], X[y == cluster, 1], s=10, label=f\"Cluster{cluster}\")  \n",
    "    return centers, cluster_std, X, y"
   ]
  },
  {
   "cell_type": "code",
   "execution_count": 3,
   "id": "662a6445-c425-4bd2-83b3-1cee39b73d06",
   "metadata": {},
   "outputs": [],
   "source": [
    "n_clusters, d, n = 4, 2, 1000"
   ]
  },
  {
   "cell_type": "code",
   "execution_count": 4,
   "id": "4f9b98b0-1047-4c07-a8e1-b35d1206d5c9",
   "metadata": {},
   "outputs": [
    {
     "name": "stdout",
     "output_type": "stream",
     "text": [
      "2d plot\n"
     ]
    },
    {
     "data": {
      "image/png": "[encoded data removed]",
      "text/plain": [
       "<Figure size 432x288 with 1 Axes>"
      ]
     },
     "metadata": {
      "needs_background": "light"
     },
     "output_type": "display_data"
    }
   ],
   "source": [
    "centers, cluster_std, X, y = generate_clusters(n_clusters, d, n)"
   ]
  },
  {
   "cell_type": "code",
   "execution_count": 5,
   "id": "450eef7d-32ee-40a3-ac68-6d8a3b83bc95",
   "metadata": {},
   "outputs": [
    {
     "name": "stdout",
     "output_type": "stream",
     "text": [
      "difference n2:\n",
      "0.8051538171408774\n",
      "46\n",
      "difference n2:\n",
      "1.1147217506992317\n",
      "46\n",
      "difference n2:\n",
      "1.068930028621754\n",
      "56\n",
      "difference n2:\n",
      "1.0465293556722202\n",
      "59\n",
      "difference n2:\n",
      "1.0336992923517976\n",
      "61\n",
      "difference n2:\n",
      "1.0222956235591516\n",
      "62\n",
      "difference n2:\n",
      "1.0179715385798551\n",
      "63\n",
      "difference n2:\n",
      "1.015350965262845\n",
      "65\n"
     ]
    },
    {
     "name": "stderr",
     "output_type": "stream",
     "text": [
      "C:\\Users\\stefa\\PycharmProjects\\DIAS-semester-project\\KMeans.py:18: RuntimeWarning: invalid value encountered in true_divide\n",
      "  return np.apply_along_axis(fn, 0, X) / group_counts\n"
     ]
    }
   ],
   "source": [
    "labels, centroids = KMeans_speculation(X, 4, num_iter=50, measure=False)"
   ]
  },
  {
   "cell_type": "code",
   "execution_count": 6,
   "id": "63891cfb-c3b9-4505-b3f8-c69467f8cc34",
   "metadata": {},
   "outputs": [
    {
     "data": {
      "image/png": "[encoded data removed]",
      "text/plain": [
       "<Figure size 432x288 with 1 Axes>"
      ]
     },
     "metadata": {
      "needs_background": "light"
     },
     "output_type": "display_data"
    }
   ],
   "source": [
    "for cluster in range(n_clusters):\n",
    "        plt.scatter(X[labels == cluster, 0], X[labels == cluster, 1], s=10, label=f\"Cluster{cluster}\")  \n",
    "for center in centroids:\n",
    "    plt.scatter(center[0], center[1], s=50)"
   ]
  },
  {
   "cell_type": "code",
   "execution_count": null,
   "id": "b7ea010a-91b5-4929-a11d-210d734b38c4",
   "metadata": {},
   "outputs": [],
   "source": []
  }
 ],
 "metadata": {
  "kernelspec": {
   "display_name": "Python 3 (ipykernel)",
   "language": "python",
   "name": "python3"
  },
  "language_info": {
   "codemirror_mode": {
    "name": "ipython",
    "version": 3
   },
   "file_extension": ".py",
   "mimetype": "text/x-python",
   "name": "python",
   "nbconvert_exporter": "python",
   "pygments_lexer": "ipython3",
   "version": "3.8.12"
  }
 },
 "nbformat": 4,
 "nbformat_minor": 5
}
