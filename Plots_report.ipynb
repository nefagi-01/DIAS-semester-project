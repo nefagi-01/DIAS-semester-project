{
 "cells": [
  {
   "cell_type": "code",
   "execution_count": 4,
   "id": "2ad409d9-4170-40a7-8b60-a8cd83f63de2",
   "metadata": {},
   "outputs": [
    {
     "name": "stdout",
     "output_type": "stream",
     "text": [
      "The autoreload extension is already loaded. To reload it, use:\n",
      "  %reload_ext autoreload\n"
     ]
    },
    {
     "ename": "ModuleNotFoundError",
     "evalue": "No module named 'utils'",
     "output_type": "error",
     "traceback": [
      "\u001B[1;31m---------------------------------------------------------------------------\u001B[0m",
      "\u001B[1;31mModuleNotFoundError\u001B[0m                       Traceback (most recent call last)",
      "\u001B[1;32m~\\AppData\\Local\\Temp/ipykernel_7624/3734731410.py\u001B[0m in \u001B[0;36m<module>\u001B[1;34m\u001B[0m\n\u001B[0;32m      1\u001B[0m \u001B[0mget_ipython\u001B[0m\u001B[1;33m(\u001B[0m\u001B[1;33m)\u001B[0m\u001B[1;33m.\u001B[0m\u001B[0mrun_line_magic\u001B[0m\u001B[1;33m(\u001B[0m\u001B[1;34m'load_ext'\u001B[0m\u001B[1;33m,\u001B[0m \u001B[1;34m'autoreload'\u001B[0m\u001B[1;33m)\u001B[0m\u001B[1;33m\u001B[0m\u001B[1;33m\u001B[0m\u001B[0m\n\u001B[0;32m      2\u001B[0m \u001B[0mget_ipython\u001B[0m\u001B[1;33m(\u001B[0m\u001B[1;33m)\u001B[0m\u001B[1;33m.\u001B[0m\u001B[0mrun_line_magic\u001B[0m\u001B[1;33m(\u001B[0m\u001B[1;34m'autoreload'\u001B[0m\u001B[1;33m,\u001B[0m \u001B[1;34m'2'\u001B[0m\u001B[1;33m)\u001B[0m\u001B[1;33m\u001B[0m\u001B[1;33m\u001B[0m\u001B[0m\n\u001B[1;32m----> 3\u001B[1;33m \u001B[1;32mfrom\u001B[0m \u001B[0mutils\u001B[0m\u001B[1;33m.\u001B[0m\u001B[0mKMeans\u001B[0m \u001B[1;32mimport\u001B[0m \u001B[1;33m*\u001B[0m\u001B[1;33m\u001B[0m\u001B[1;33m\u001B[0m\u001B[0m\n\u001B[0m\u001B[0;32m      4\u001B[0m \u001B[1;32mfrom\u001B[0m \u001B[0mopenml\u001B[0m\u001B[1;33m.\u001B[0m\u001B[0mdatasets\u001B[0m \u001B[1;32mimport\u001B[0m \u001B[0mlist_datasets\u001B[0m\u001B[1;33m,\u001B[0m \u001B[0mget_datasets\u001B[0m\u001B[1;33m\u001B[0m\u001B[1;33m\u001B[0m\u001B[0m\n\u001B[0;32m      5\u001B[0m \u001B[1;32mimport\u001B[0m \u001B[0mpandas\u001B[0m \u001B[1;32mas\u001B[0m \u001B[0mpd\u001B[0m\u001B[1;33m\u001B[0m\u001B[1;33m\u001B[0m\u001B[0m\n",
      "\u001B[1;31mModuleNotFoundError\u001B[0m: No module named 'utils'"
     ]
    }
   ],
   "source": [
    "%load_ext autoreload\n",
    "%autoreload 2\n",
    "from utils.KMeans import *\n",
    "from openml.datasets import list_datasets, get_datasets\n",
    "import pandas as pd\n",
    "import warnings\n",
    "import matplotlib.pyplot as plt\n",
    "import matplotlib.ticker as ticker\n",
    "import seaborn as sns\n",
    "from sklearn.linear_model import LinearRegression\n",
    "from scipy import stats\n",
    "from sklearn.datasets import make_blobs\n",
    "import gc\n",
    "from utils.helpers import load_datasets, clean_dataset\n",
    "from matplotlib import rc\n",
    "import matplotlib.pylab as plt\n",
    "import matplotlib \n",
    "# matplotlib.rcParams['font.family'] = 'serif'\n",
    "# matplotlib.rcParams['font.serif'] = ['Computer Modern']\n",
    "\n",
    "# # Set Latex font\n",
    "# rc('font', **{'family': 'serif', 'serif': ['Computer Modern']})\n",
    "# rc('text', usetex=True)\n"
   ]
  },
  {
   "cell_type": "code",
   "execution_count": 2,
   "id": "f89d2fe0-b001-4b2e-b419-f9e281ddcf96",
   "metadata": {},
   "outputs": [
    {
     "name": "stdout",
     "output_type": "stream",
     "text": [
      "The autoreload extension is already loaded. To reload it, use:\n",
      "  %reload_ext autoreload\n"
     ]
    }
   ],
   "source": [
    "%load_ext autoreload\n",
    "%autoreload 2\n",
    "from utils.helpers import extend_df, extend_array, generate_clusters, timeseries_plot, load_datasets, generate_complex_datasets, estimate_optimal_centroids, load_downloaded_datasets, agg_and_plot, fit_linear_regression, find_bad_initalization, addScatterPlot\n",
    "from utils.KMeans import KMeans, getLables, getCentroids, getAvgDist, KMeans_sketching\n",
    "import numpy as np\n",
    "import pandas as pd\n",
    "import matplotlib.pyplot as plt\n",
    "import time\n",
    "import seaborn as sns\n",
    "from sklearn.cluster import KMeans as KMeans_sk\n",
    "import pickle\n",
    "from time import process_time_ns"
   ]
  },
  {
   "cell_type": "markdown",
   "id": "3722e734-1ae5-4067-9750-387578100c57",
   "metadata": {
    "jp-MarkdownHeadingCollapsed": true,
    "tags": []
   },
   "source": [
    "# 1. Plot (ratio,k)"
   ]
  },
  {
   "cell_type": "code",
   "execution_count": 2,
   "id": "28b9f60c-916e-46b8-881d-3635a919660e",
   "metadata": {},
   "outputs": [
    {
     "data": {
      "text/plain": [
       "Text(0.5, 1.0, 'Evolution ratio between Assignment and Update time of executions')"
      ]
     },
     "execution_count": 2,
     "metadata": {},
     "output_type": "execute_result"
    },
    {
     "data": {
      "image/png": "[encoded data removed]",
      "text/plain": [
       "<Figure size 504x360 with 1 Axes>"
      ]
     },
     "metadata": {
      "needs_background": "light"
     },
     "output_type": "display_data"
    }
   ],
   "source": [
    "# Import dataset    \n",
    "df = pd.read_csv('./data/measurements_1_1.csv')\n",
    "# Compute ratio\n",
    "df['ratio_AB_median'] = df['t_A_median']/df['t_B_median']\n",
    "# Clean dataset\n",
    "df_clean = clean_dataset(df)\n",
    "\n",
    "# Plot\n",
    "\n",
    "# Scatterplot\n",
    "fig, ax = plt.subplots(figsize = (7,5))\n",
    "sns.scatterplot(data=df_clean, x='n_clusters', y='ratio_AB_median', ax = ax)\n",
    "ax.set_xlabel('k (number of clusters)')\n",
    "ax.set_ylabel('Ratio')\n",
    "ax.set_title('Evolution ratio between Assignment and Update time of executions')"
   ]
  },
  {
   "cell_type": "markdown",
   "id": "71959676-17c8-4a31-87d5-a25e3edcccc3",
   "metadata": {
    "jp-MarkdownHeadingCollapsed": true,
    "tags": []
   },
   "source": [
    "# 2. Plot Speculative vs. Vanilla K-means"
   ]
  },
  {
   "cell_type": "code",
   "execution_count": 97,
   "id": "61ffb898-44f8-4eb8-b84d-cdb27b2b4b4c",
   "metadata": {},
   "outputs": [],
   "source": [
    "# load datasets\n",
    "query = \"NumberOfInstances > 10000 &\\\n",
    "         NumberOfInstances < 100000 &\\\n",
    "         NumberOfNumericFeatures > 5 &\\\n",
    "         NumberOfNumericFeatures < 50 &\\\n",
    "         NumberOfMissingValues == 0 &\\\n",
    "         NumberOfSymbolicFeatures == 0\"\n",
    "\n",
    "X_list, meta = load_datasets(query, n_datasets = 10, search = True, return_meta=True)"
   ]
  },
  {
   "cell_type": "markdown",
   "id": "cbd602f8-a137-4ad3-8e4a-3e08cb79ff7b",
   "metadata": {
    "jp-MarkdownHeadingCollapsed": true,
    "tags": []
   },
   "source": [
    "## 2.1 Run without trace"
   ]
  },
  {
   "cell_type": "code",
   "execution_count": 107,
   "id": "9239ccde-fc6d-4365-9f9f-64c04e4b5a1b",
   "metadata": {},
   "outputs": [],
   "source": [
    "# Set parameter\n",
    "seed = 0\n",
    "np.random.seed(seed)\n",
    "k = 8\n",
    "num_iter = 50\n",
    "subsample_size = 0.01\n",
    "tol = 0\n",
    "\n",
    "# Create dataset\n",
    "dataset_index = 0\n",
    "X = X_list[dataset_index]\n",
    "n, d = X.shape\n",
    "\n",
    "# Set output path\n",
    "path = './data/report/vanilla_speculation_comparison.csv'\n",
    "\n",
    "# Compute optimal centroids\n",
    "opt_centroids = estimate_optimal_centroids(X, k, seed=0, n_init=50, tol=1e-6)\n",
    "\n",
    "# Compute initial centroids\n",
    "np.random.seed(seed)\n",
    "initial_centroids = X[np.random.choice(n, k, replace=False)]  # (k, d)\n",
    "\n",
    "# Speculative K-means execution\n",
    "labels, centroids = KMeans_sketching(X, k, num_iter=num_iter, seed=seed, subsample_size=subsample_size, save=True, path=path, measure=True, choose_best=True, resampling=True, trace=False, tol=tol, resample_centroid=False, centroids=initial_centroids)\n",
    "\n",
    "# Read .csv\n",
    "df = pd.read_csv(path)\n",
    "\n",
    "# Extend df to have num_iter rows\n",
    "df = extend_df(df, num_iter)\n",
    "\n",
    "# Define inertia_speculation\n",
    "df['inertia_speculation'] = df[['L_slow', 'L_fast']].min(axis=1)\n",
    "\n",
    "# Estimate optimal centroids\n",
    "opt_centroids = estimate_optimal_centroids(X, k, seed=0, n_init=50, tol=1e-6)\n",
    "\n",
    "# Add L_opt\n",
    "df['inertia_optimal'] = getAvgDist(X, opt_centroids)\n",
    "\n",
    "# Add Vanilla K-means execution\n",
    "_, _, inertia_basic = KMeans(X, k, num_iter=num_iter, seed=seed, tol=tol, centroids=initial_centroids, measure_inertia=True)\n",
    "df['inertia_vanilla'] = extend_array(inertia_basic, num_iter)\n",
    "\n",
    "# Add K-means++ execution\n",
    "_, _, inertia_pp = KMeans(X, k, num_iter=num_iter, seed=seed, tol = tol, kmeans_pp = True, measure_inertia=True)\n",
    "df['inertia_pp'] = extend_array(inertia_pp, num_iter)\n",
    "\n",
    "df.to_csv(path, index=False)"
   ]
  },
  {
   "cell_type": "markdown",
   "id": "26da2fc0-9c66-4d48-b24d-20836e08d6ec",
   "metadata": {},
   "source": [
    "https://www.openml.org/d/23395\n",
    "The dataset used is an ARFF dataset called COMET_MC_SAMPLE, version 2, uploaded on April 22nd, 2016. It is publicly available and can be downloaded from the URL provided. It contains 6 features and 89640 instances, and can be found on OpenML with the ID 23395."
   ]
  },
  {
   "cell_type": "code",
   "execution_count": 108,
   "id": "713e31fb-fc4f-4a32-932e-43728e20d94c",
   "metadata": {},
   "outputs": [
    {
     "data": {
      "image/png": "[encoded data removed]",
      "text/plain": [
       "<Figure size 432x288 with 1 Axes>"
      ]
     },
     "metadata": {
      "needs_background": "light"
     },
     "output_type": "display_data"
    }
   ],
   "source": [
    "path = './data/report/vanilla_speculation_comparison.csv'\n",
    "\n",
    "# import df\n",
    "df = pd.read_csv(path)\n",
    "\n",
    "# Timeseries plot\n",
    "fig, ax = plt.subplots()\n",
    "df = df.rename(columns={\"inertia_speculation\": \"Speculative K-means\", \"inertia_optimal\": \"Optimal solution\", \"inertia_vanilla\":\"Vanilla K-means\", \"inertia_pp\":\"K-means++\"})\n",
    "timeseries_plot(df[['Speculative K-means', 'Optimal solution', 'Vanilla K-means', 'K-means++']], xlabel='Stage', ylabel='Inertia (Average squared distance)', title = 'Vanilla K-Means, K-means++, Speculative K-Means comparison', ax = ax, show = False)\n",
    "addScatterPlot(ax, df['L_slow'], 'red', 'Slow Execution', size = 5)\n",
    "addScatterPlot(ax, df['L_fast'], 'black', 'Fast Execution', size = 5)\n",
    "\n",
    "plt.savefig(\"plot_1.svg\", format=\"svg\", bbox_inches='tight')\n",
    "# meta[dataset_index]"
   ]
  },
  {
   "cell_type": "markdown",
   "id": "ec563570-d5eb-4fcf-a529-3b58c1b14fed",
   "metadata": {
    "jp-MarkdownHeadingCollapsed": true,
    "tags": []
   },
   "source": [
    "## 2.2 Run with trace"
   ]
  },
  {
   "cell_type": "code",
   "execution_count": 116,
   "id": "83f72372-f71f-4dfa-90fc-e6ba9257b7d9",
   "metadata": {},
   "outputs": [],
   "source": [
    "# Set parameter\n",
    "seed = 0\n",
    "np.random.seed(seed)\n",
    "k = 8\n",
    "num_iter = 50\n",
    "subsample_size = 0.01\n",
    "tol = 0\n",
    "\n",
    "# Create dataset\n",
    "dataset_index = 0\n",
    "X = X_list[dataset_index]\n",
    "n, d = X.shape\n",
    "\n",
    "# Set output path\n",
    "path = './data/report/vanilla_speculation_comparison_trace.csv'\n",
    "\n",
    "# Compute optimal centroids\n",
    "opt_centroids = estimate_optimal_centroids(X, k, seed=0, n_init=50, tol=1e-6)\n",
    "\n",
    "# Compute initial centroids\n",
    "np.random.seed(seed)\n",
    "initial_centroids = X[np.random.choice(n, k, replace=False)]  # (k, d)\n",
    "\n",
    "# Speculation execution\n",
    "labels, centroids = KMeans_sketching(X, k, num_iter=num_iter, seed=seed, subsample_size=subsample_size, save=True, path=path, measure=True, choose_best=True, resampling=True, trace=True, tol=tol, resample_centroid=False, centroids=initial_centroids, p = 0.5, q = 0.5)\n",
    "\n",
    "# Read .csv\n",
    "df = pd.read_csv(path)\n",
    "\n",
    "# Extend df to have num_iter rows\n",
    "df = extend_df(df, num_iter)\n",
    "\n",
    "# Define inertia_speculation\n",
    "df['inertia_speculation'] = df[['L_slow', 'L_fast']].min(axis=1)\n",
    "\n",
    "# Estimate optimal centroids\n",
    "opt_centroids = estimate_optimal_centroids(X, k, seed=0, n_init=50, tol=1e-6)\n",
    "\n",
    "# Add L_opt\n",
    "df['inertia_optimal'] = getAvgDist(X, opt_centroids)\n",
    "\n",
    "# Add basic execution\n",
    "_, _, inertia_basic = KMeans(X, k, num_iter=num_iter, seed=seed, tol=tol, centroids=initial_centroids, measure_inertia=True)\n",
    "df['inertia_vanilla'] = extend_array(inertia_basic, num_iter)\n",
    "\n",
    "# Add K-means++ execution\n",
    "_, _, inertia_pp = KMeans(X, k, num_iter=num_iter, seed=seed, tol=tol, kmeans_pp = True, measure_inertia=True)\n",
    "df['inertia_pp'] = extend_array(inertia_pp, num_iter)\n",
    "\n",
    "df.to_csv(path, index=False)"
   ]
  },
  {
   "cell_type": "markdown",
   "id": "94ca4a6f-526b-4dde-8768-6fd90dcb0e55",
   "metadata": {},
   "source": [
    "https://www.openml.org/d/23395\n",
    "The dataset used is an ARFF dataset called COMET_MC_SAMPLE, version 2, uploaded on April 22nd, 2016. It is publicly available and can be downloaded from the URL provided. It contains 6 features and 89640 instances, and can be found on OpenML with the ID 23395."
   ]
  },
  {
   "cell_type": "code",
   "execution_count": 117,
   "id": "5a506148-2e53-4b88-8b1f-df4cfb2f6202",
   "metadata": {},
   "outputs": [
    {
     "data": {
      "image/png": "[encoded data removed]",
      "text/plain": [
       "<Figure size 432x288 with 1 Axes>"
      ]
     },
     "metadata": {
      "needs_background": "light"
     },
     "output_type": "display_data"
    },
    {
     "data": {
      "text/plain": [
       "OpenML Dataset\n",
       "==============\n",
       "Name..........: COMET_MC_SAMPLE\n",
       "Version.......: 2\n",
       "Format........: ARFF\n",
       "Upload Date...: 2016-04-22 16:57:59\n",
       "Licence.......: Public\n",
       "Download URL..: https://api.openml.org/data/v1/download/1956688/COMET_MC_SAMPLE.arff\n",
       "OpenML URL....: https://www.openml.org/d/23395\n",
       "# of features.: 6\n",
       "# of instances: 89640"
      ]
     },
     "execution_count": 117,
     "metadata": {},
     "output_type": "execute_result"
    }
   ],
   "source": [
    "path = './data/report/vanilla_speculation_comparison_trace.csv'\n",
    "\n",
    "# import df\n",
    "df = pd.read_csv(path)\n",
    "\n",
    "# Timeseries plot\n",
    "fig, ax = plt.subplots()\n",
    "df = df.rename(columns={\"inertia_speculation\": \"Speculative K-means\", \"inertia_optimal\": \"Optimal solution\", \"inertia_vanilla\":\"Vanilla K-means\", \"inertia_pp\":\"K-means++\"})\n",
    "timeseries_plot(df[['Speculative K-means', 'Optimal solution', 'Vanilla K-means', 'K-means++']], xlabel='Stage', ylabel='Inertia (Average squared distance)', title = 'Vanilla K-Means, K-means++, Speculative K-Means comparison', ax = ax, show = False)\n",
    "addScatterPlot(ax, df['L_slow'], 'red', 'Slow Execution', size = 5)\n",
    "addScatterPlot(ax, df['L_fast'], 'black', 'Fast Execution', size = 5)\n",
    "plt.show()\n",
    "meta[dataset_index]"
   ]
  },
  {
   "cell_type": "markdown",
   "id": "052f0e02-a627-4cb1-9553-074ff523ab83",
   "metadata": {
    "jp-MarkdownHeadingCollapsed": true,
    "tags": []
   },
   "source": [
    "## 2.3 Resampling centroids "
   ]
  },
  {
   "cell_type": "code",
   "execution_count": 113,
   "id": "5ddf48c5-5711-465d-8990-fdaa307af178",
   "metadata": {},
   "outputs": [],
   "source": [
    "# Set parameter\n",
    "seed = 0\n",
    "np.random.seed(seed)\n",
    "k = 8\n",
    "num_iter = 50\n",
    "subsample_size = 0.01\n",
    "tol = 0\n",
    "\n",
    "# Create dataset\n",
    "dataset_index = 0\n",
    "X = X_list[dataset_index]\n",
    "n, d = X.shape\n",
    "\n",
    "# Set output path\n",
    "path = './data/report/vanilla_speculation_comparison_resampling.csv'\n",
    "\n",
    "# Compute optimal centroids\n",
    "opt_centroids = estimate_optimal_centroids(X, k, seed=0, n_init=50, tol=1e-6)\n",
    "\n",
    "# Compute initial centroids\n",
    "np.random.seed(seed)\n",
    "initial_centroids = X[np.random.choice(n, k, replace=False)]  # (k, d)\n",
    "\n",
    "# Speculation execution\n",
    "labels, centroids = KMeans_sketching(X, k, num_iter=num_iter, seed=seed, subsample_size=subsample_size, save=True, path=path, measure=True, choose_best=True, resampling=True, trace=False, tol=tol, resample_centroid=True, centroids=initial_centroids, p = 0.8, q = 0.5)\n",
    "\n",
    "# Read .csv\n",
    "df = pd.read_csv(path)\n",
    "\n",
    "# Extend df to have num_iter rows\n",
    "df = extend_df(df, num_iter)\n",
    "\n",
    "# Define inertia_speculation\n",
    "df['inertia_speculation'] = df[['L_slow', 'L_fast']].min(axis=1)\n",
    "\n",
    "# Estimate optimal centroids\n",
    "opt_centroids = estimate_optimal_centroids(X, k, seed=0, n_init=50, tol=1e-6)\n",
    "\n",
    "# Add L_opt\n",
    "df['inertia_optimal'] = getAvgDist(X, opt_centroids)\n",
    "\n",
    "# Add basic execution\n",
    "_, _, inertia_basic = KMeans(X, k, num_iter=num_iter, seed=seed, tol=tol, centroids=initial_centroids, measure_inertia=True)\n",
    "df['inertia_vanilla'] = extend_array(inertia_basic, num_iter)\n",
    "\n",
    "# Add K-means++ execution\n",
    "_, _, inertia_pp = KMeans(X, k, num_iter=num_iter, seed=seed, tol=tol, kmeans_pp = True, measure_inertia=True)\n",
    "df['inertia_pp'] = extend_array(inertia_pp, num_iter)\n",
    "\n",
    "df.to_csv(path, index=False)"
   ]
  },
  {
   "cell_type": "markdown",
   "id": "a6ff4811-92eb-4e39-bb52-e70ec285c8de",
   "metadata": {},
   "source": [
    "https://www.openml.org/d/23395\n",
    "The dataset used is an ARFF dataset called COMET_MC_SAMPLE, version 2, uploaded on April 22nd, 2016. It is publicly available and can be downloaded from the URL provided. It contains 6 features and 89640 instances, and can be found on OpenML with the ID 23395."
   ]
  },
  {
   "cell_type": "code",
   "execution_count": 115,
   "id": "a135ccea-b54d-4c0d-983f-1d8bcf9180f6",
   "metadata": {},
   "outputs": [
    {
     "data": {
      "text/plain": [
       "OpenML Dataset\n",
       "==============\n",
       "Name..........: COMET_MC_SAMPLE\n",
       "Version.......: 2\n",
       "Format........: ARFF\n",
       "Upload Date...: 2016-04-22 16:57:59\n",
       "Licence.......: Public\n",
       "Download URL..: https://api.openml.org/data/v1/download/1956688/COMET_MC_SAMPLE.arff\n",
       "OpenML URL....: https://www.openml.org/d/23395\n",
       "# of features.: 6\n",
       "# of instances: 89640"
      ]
     },
     "execution_count": 115,
     "metadata": {},
     "output_type": "execute_result"
    },
    {
     "data": {
      "image/png": "[encoded data removed]",
      "text/plain": [
       "<Figure size 432x288 with 1 Axes>"
      ]
     },
     "metadata": {
      "needs_background": "light"
     },
     "output_type": "display_data"
    }
   ],
   "source": [
    "path = './data/report/vanilla_speculation_comparison_resampling.csv'\n",
    "\n",
    "# import df\n",
    "df = pd.read_csv(path)\n",
    "\n",
    "# Timeseries plot\n",
    "fig, ax = plt.subplots()\n",
    "df = df.rename(columns={\"inertia_speculation\": \"Speculative K-means\", \"inertia_optimal\": \"Optimal solution\", \"inertia_vanilla\":\"Vanilla K-means\", \"inertia_pp\":\"K-means++\"})\n",
    "timeseries_plot(df[['Speculative K-means', 'Optimal solution', 'Vanilla K-means', 'K-means++']], xlabel='Stage', ylabel='Inertia (Average squared distance)', title = 'Vanilla K-Means, K-means++, Speculative K-Means comparison', ax = ax, show = False)\n",
    "# addScatterPlot(ax, df['L_slow'], 'red', 'Slow Execution', size = 5)\n",
    "# addScatterPlot(ax, df['L_fast'], 'black', 'Fast Execution', size = 5)\n",
    "plt.savefig(\"plot_2.svg\", format=\"svg\", bbox_inches='tight')\n",
    "meta[dataset_index]"
   ]
  },
  {
   "cell_type": "markdown",
   "id": "25ddffad-612f-4586-a505-2008ddbc9d98",
   "metadata": {
    "jp-MarkdownHeadingCollapsed": true,
    "tags": []
   },
   "source": [
    "# 3. Histogram reduced number of steps"
   ]
  },
  {
   "cell_type": "markdown",
   "id": "00781523-7b04-453a-bfa4-43c840596cc5",
   "metadata": {},
   "source": [
    "❗Query different from before!"
   ]
  },
  {
   "cell_type": "code",
   "execution_count": 31,
   "id": "9f1cc9f9-dfb5-4318-802a-fe6d1ebfc6c4",
   "metadata": {},
   "outputs": [],
   "source": [
    "# load datasets\n",
    "query = \"NumberOfInstances > 500000 &\\\n",
    "         NumberOfInstances < 10000000 &\\\n",
    "         NumberOfNumericFeatures > 5 &\\\n",
    "         NumberOfNumericFeatures < 50 &\\\n",
    "         NumberOfMissingValues == 0 &\\\n",
    "         NumberOfSymbolicFeatures == 0\"\n",
    "\n",
    "X_list, meta = load_datasets(query, n_datasets = 10, search = True, return_meta=True)"
   ]
  },
  {
   "cell_type": "code",
   "execution_count": 35,
   "id": "e20a8a56-a100-4b48-8584-4b6ba26f1076",
   "metadata": {},
   "outputs": [
    {
     "data": {
      "text/plain": [
       "[OpenML Dataset\n",
       " ==============\n",
       " Name..........: COMET_MC\n",
       " Version.......: 1\n",
       " Format........: ARFF\n",
       " Upload Date...: 2016-03-17 12:30:24\n",
       " Licence.......: CC_BY-SA\n",
       " Download URL..: https://api.openml.org/data/v1/download/1835237/COMET_MC.arff\n",
       " OpenML URL....: https://www.openml.org/d/5587\n",
       " # of features.: 6\n",
       " # of instances: 7619400,\n",
       " OpenML Dataset\n",
       " ==============\n",
       " Name..........: French-Motor-Claims-Datasets-freMTPL2freq\n",
       " Version.......: 1\n",
       " Format........: arff\n",
       " Upload Date...: 2022-03-24 00:32:44\n",
       " Licence.......: GPL 2\n",
       " Download URL..: https://api.openml.org/data/v1/download/22102418/French-Motor-Claims-Datasets-freMTPL2freq.arff\n",
       " OpenML URL....: https://www.openml.org/d/43593\n",
       " # of features.: 12\n",
       " # of instances: 678013,\n",
       " OpenML Dataset\n",
       " ==============\n",
       " Name..........: Radar-Traffic-Data\n",
       " Version.......: 1\n",
       " Format........: arff\n",
       " Upload Date...: 2022-03-23 12:35:19\n",
       " Licence.......: CC0: Public Domain\n",
       " Download URL..: https://api.openml.org/data/v1/download/22102179/Radar-Traffic-Data.arff\n",
       " OpenML URL....: https://www.openml.org/d/43354\n",
       " # of features.: 12\n",
       " # of instances: 4603861,\n",
       " OpenML Dataset\n",
       " ==============\n",
       " Name..........: nyc-taxi-green-dec-2016\n",
       " Version.......: 10\n",
       " Format........: arff\n",
       " Upload Date...: 2022-07-05 20:52:41\n",
       " Licence.......: Public\n",
       " Download URL..: https://api.openml.org/data/v1/download/22103268/nyc-taxi-green-dec-2016.arff\n",
       " OpenML URL....: https://www.openml.org/d/44143\n",
       " # of features.: 10\n",
       " # of instances: 581835,\n",
       " OpenML Dataset\n",
       " ==============\n",
       " Name..........: poker\n",
       " Version.......: 2\n",
       " Format........: Sparse_ARFF\n",
       " Upload Date...: 2015-06-18 12:24:07\n",
       " Licence.......: Public\n",
       " Download URL..: https://api.openml.org/data/v1/download/1595697/poker.sparse_arff\n",
       " OpenML URL....: https://www.openml.org/d/1595\n",
       " # of features.: 11\n",
       " # of instances: 1025010,\n",
       " OpenML Dataset\n",
       " ==============\n",
       " Name..........: BNG(wine_quality)\n",
       " Version.......: 1\n",
       " Format........: ARFF\n",
       " Upload Date...: 2014-11-12 13:54:10\n",
       " Licence.......: public domain\n",
       " Download URL..: https://api.openml.org/data/v1/download/150766/BNG(wine_quality).arff\n",
       " OpenML URL....: https://www.openml.org/d/1204\n",
       " # of features.: 12\n",
       " # of instances: 531441,\n",
       " OpenML Dataset\n",
       " ==============\n",
       " Name..........: BNG(cpu_small)\n",
       " Version.......: 1\n",
       " Format........: ARFF\n",
       " Upload Date...: 2014-11-12 12:25:04\n",
       " Licence.......: public domain\n",
       " Download URL..: https://api.openml.org/data/v1/download/150696/BNG(cpu_small).arff\n",
       " OpenML URL....: https://www.openml.org/d/1202\n",
       " # of features.: 13\n",
       " # of instances: 1000000,\n",
       " OpenML Dataset\n",
       " ==============\n",
       " Name..........: BNG(autoPrice)\n",
       " Version.......: 1\n",
       " Format........: ARFF\n",
       " Upload Date...: 2014-11-12 12:23:27\n",
       " Licence.......: public domain\n",
       " Download URL..: https://api.openml.org/data/v1/download/150689/BNG(autoPrice).arff\n",
       " OpenML URL....: https://www.openml.org/d/1195\n",
       " # of features.: 16\n",
       " # of instances: 1000000,\n",
       " OpenML Dataset\n",
       " ==============\n",
       " Name..........: SDSS-16\n",
       " Version.......: 1\n",
       " Format........: arff\n",
       " Upload Date...: 2022-03-24 01:01:43\n",
       " Licence.......: CC0: Public Domain\n",
       " Download URL..: https://api.openml.org/data/v1/download/22102477/SDSS-16.arff\n",
       " OpenML URL....: https://www.openml.org/d/43652\n",
       " # of features.: 18\n",
       " # of instances: 732977,\n",
       " OpenML Dataset\n",
       " ==============\n",
       " Name..........: BNG(elevators)\n",
       " Version.......: 1\n",
       " Format........: ARFF\n",
       " Upload Date...: 2014-11-12 12:24:25\n",
       " Licence.......: public domain\n",
       " Download URL..: https://api.openml.org/data/v1/download/150692/BNG(elevators).arff\n",
       " OpenML URL....: https://www.openml.org/d/1198\n",
       " # of features.: 19\n",
       " # of instances: 1000000]"
      ]
     },
     "execution_count": 35,
     "metadata": {},
     "output_type": "execute_result"
    }
   ],
   "source": [
    "meta"
   ]
  },
  {
   "cell_type": "code",
   "execution_count": null,
   "id": "3a60df07-a4cf-40fe-a8e5-fd996e00fda5",
   "metadata": {},
   "outputs": [],
   "source": [
    "# Set seed\n",
    "seed = 0\n",
    "subsample_size = 0.01\n",
    "run = True\n",
    "num_iter = 50\n",
    "tol = 1e-3\n",
    "measurements = []\n",
    "\n",
    "# Real datasets\n",
    "for i, X in enumerate(X_list):\n",
    "    # Set parameters\n",
    "    n, d = X.shape\n",
    "    print(f'\\nDataset {i}°:', end =\"\")\n",
    "    for j, k in enumerate(range(3,11)):\n",
    "        print(f' {k}', end = \"\")\n",
    "        \n",
    "        # Compute initial centroids\n",
    "        np.random.seed(seed)\n",
    "        initial_centroids = X[np.random.choice(n, k, replace=False)]  # (k, d)\n",
    "              \n",
    "        path = f'./data/report/histogram_steps_vanilla_id_{i}_k_{k}.csv'\n",
    "\n",
    "        # Vanilla K-Means\n",
    "        _, centroids_vanilla, steps_vanilla = KMeans_sketching(X, k, num_iter=num_iter, seed=seed, subsample_size=subsample_size, save=True, path=path, measure=True, choose_best=False, tol=tol, centroids=initial_centroids, return_steps = True)\n",
    "        inertia_vanilla = getAvgDist(X, centroids_vanilla)\n",
    "\n",
    "        path = f'./data/report/histogram_steps_speculative_id_{i}_k_{k}.csv'\n",
    "        # Speculative K-Means\n",
    "        _, centroids_speculation, steps_speculation = KMeans_sketching(X, k, num_iter=num_iter, seed=seed, subsample_size=subsample_size, return_steps = True, save=True, path=path, measure=True, choose_best=True, resampling=True, trace=True, tol=tol, resample_centroid=False, centroids=initial_centroids, p = 0.5, q = 0.5)\n",
    "        inertia_speculation = getAvgDist(X, centroids_speculation)\n",
    "\n",
    "        measurements.append({'n':n, 'd':d, 'k': k, 'i': i,'steps_vanilla':steps_vanilla, 'steps_speculation':steps_speculation, 'subsample_size':subsample_size, 'seed':seed, 'inertia_vanilla':inertia_vanilla, 'inertia_speculation':inertia_speculation})\n",
    "        \n",
    "# Save measurements to CSV file and compute ratio of steps for Speculative K-Means and Vanilla K-Means\n",
    "df = pd.DataFrame(measurements)\n",
    "df.to_csv('./data/report/histogram_steps.csv', index=False)"
   ]
  },
  {
   "cell_type": "code",
   "execution_count": 55,
   "id": "b130d8ff-2422-4bef-b8a2-703e7a1a2692",
   "metadata": {},
   "outputs": [
    {
     "data": {
      "image/png": "[encoded data removed]",
      "text/plain": [
       "<Figure size 504x360 with 1 Axes>"
      ]
     },
     "metadata": {
      "needs_background": "light"
     },
     "output_type": "display_data"
    }
   ],
   "source": [
    "df = pd.read_csv('./data/report/histogram_steps.csv')\n",
    "df['Ratio #stages_speculation/#stages_vanilla'] = df['steps_speculation'] / df['steps_vanilla']\n",
    "df['Ratio inertia_speculation/inertia_vanilla'] = df['inertia_speculation'] / df['inertia_vanilla']\n",
    "\n",
    "fig, ax = plt.subplots(figsize = (7,5))\n",
    "sns.histplot(data=df[['Ratio inertia_speculation/inertia_vanilla', 'Ratio #stages_speculation/#stages_vanilla']], bins=30, element = 'step')\n",
    "ax.set_xlabel('Ratio')\n",
    "ax.set_ylabel('Count')\n",
    "ax.set_title(\"Histogram of ratio between speculation and vanilla K-Means of #stages and inertia\")\n",
    "plt.savefig(\"plot_3.svg\", format=\"svg\", bbox_inches='tight')"
   ]
  },
  {
   "cell_type": "markdown",
   "id": "806d4b21-a2a6-4023-b466-19065ae047a0",
   "metadata": {
    "jp-MarkdownHeadingCollapsed": true,
    "tags": []
   },
   "source": [
    "# 4. Histogram escape local minima"
   ]
  },
  {
   "cell_type": "code",
   "execution_count": 7,
   "id": "bfb5c83f-e10a-41e6-a648-b465c35b1501",
   "metadata": {},
   "outputs": [],
   "source": [
    "# load datasets\n",
    "query = \"NumberOfInstances > 500000 &\\\n",
    "         NumberOfInstances < 10000000 &\\\n",
    "         NumberOfNumericFeatures > 5 &\\\n",
    "         NumberOfNumericFeatures < 50 &\\\n",
    "         NumberOfMissingValues == 0 &\\\n",
    "         NumberOfSymbolicFeatures == 0\"\n",
    "\n",
    "X_list, meta = load_datasets(query, n_datasets = 10, search = True, return_meta=True)"
   ]
  },
  {
   "cell_type": "code",
   "execution_count": null,
   "id": "7ac30a5f-00ea-466f-8cc0-3b79aa9d5c7f",
   "metadata": {},
   "outputs": [],
   "source": [
    "# Set seed\n",
    "seed = 0\n",
    "subsample_size = 0.01\n",
    "run = True\n",
    "num_iter = 50\n",
    "tol = 1e-3\n",
    "measurements = []\n",
    "\n",
    "# Real datasets\n",
    "for i, X in enumerate(X_list):\n",
    "    # Set parameters\n",
    "    n, d = X.shape\n",
    "    print(f'\\nDataset {i}°:', end =\"\")\n",
    "    for j, k in enumerate(range(3,11)):\n",
    "        print(f' {k}', end = \"\")\n",
    "        \n",
    "        # Compute initial centroids\n",
    "        np.random.seed(seed)\n",
    "        initial_centroids = X[np.random.choice(n, k, replace=False)]  # (k, d)\n",
    "              \n",
    "        # Vanilla K-Means\n",
    "        _, centroids_vanilla, steps_vanilla = KMeans(X, k, num_iter = num_iter, seed = seed, kmeans_pp = False, tol = tol, centroids = initial_centroids, return_steps = True)\n",
    "        inertia_vanilla = getAvgDist(X, centroids_vanilla)\n",
    "        \n",
    "        # K-Means++\n",
    "        _, centroids_pp, steps_pp = KMeans(X, k, num_iter = num_iter, seed = seed, kmeans_pp = True, tol = tol, return_steps = True)\n",
    "        inertia_pp = getAvgDist(X, centroids_pp)\n",
    "        \n",
    "        # Speculative K-Means\n",
    "        _, centroids_speculation, steps_speculation = KMeans_sketching(X, k, num_iter=num_iter, seed=seed, subsample_size=subsample_size, choose_best=True, resampling=True, trace=False, tol=tol, resample_centroid=True, return_steps = True, centroids=initial_centroids, p = 0.5, q = 0.5)\n",
    "        inertia_speculation = getAvgDist(X, centroids_speculation)\n",
    "        \n",
    "        # Estimate optimal inertia\n",
    "        opt_centroids = estimate_optimal_centroids(X, k, seed=seed, n_init=50, tol=1e-6)\n",
    "        inertia_optimal = getAvgDist(X, opt_centroids)\n",
    "        \n",
    "        measurements.append({'n':n, 'd':d, 'k': k, 'i': i, 'steps_vanilla':steps_vanilla, 'steps_speculation':steps_speculation, 'steps_pp': steps_pp, 'subsample_size':subsample_size, 'seed':seed, 'inertia_vanilla':inertia_vanilla, 'inertia_pp':inertia_pp, 'inertia_speculation':inertia_speculation, 'inertia_optimal':inertia_optimal})\n",
    "        \n",
    "# Save measurements to CSV file and compute ratio of steps for Speculative K-Means and Vanilla K-Means\n",
    "df = pd.DataFrame(measurements)\n",
    "df.to_csv('./data/report/histogram_escape_local_minima.csv', index=False)"
   ]
  },
  {
   "cell_type": "code",
   "execution_count": 57,
   "id": "42290004-9f66-4439-bf9f-533db9bf7a4c",
   "metadata": {},
   "outputs": [
    {
     "data": {
      "image/png": "[encoded data removed]",
      "text/plain": [
       "<Figure size 504x360 with 1 Axes>"
      ]
     },
     "metadata": {
      "needs_background": "light"
     },
     "output_type": "display_data"
    }
   ],
   "source": [
    "df = pd.read_csv('./data/report/histogram_escape_local_minima.csv')\n",
    "df['ratio_vanilla'] = df['inertia_vanilla'] / df['inertia_optimal']\n",
    "df['ratio_pp'] = df['inertia_pp'] / df['inertia_optimal']\n",
    "df['ratio_speculation'] = df['inertia_speculation'] / df['inertia_optimal']\n",
    "\n",
    "fig, ax = plt.subplots(figsize = (7,5))\n",
    "sns.histplot(data=df[['ratio_vanilla', 'ratio_pp', 'ratio_speculation']], bins=40, element = 'step')\n",
    "ax.set_xlabel('Ratio Inertia')\n",
    "ax.set_ylabel('Count')\n",
    "ax.set_title(\"Histogram of ratio inertia Vanilla, K-Means++, Speculative K-Means\")\n",
    "plt.savefig(\"plot_4.svg\", format=\"svg\", bbox_inches='tight')"
   ]
  },
  {
   "cell_type": "code",
   "execution_count": 58,
   "id": "a29c12e7-ed77-46e0-8124-bb1769809ce2",
   "metadata": {},
   "outputs": [
    {
     "data": {
      "image/png": "[encoded data removed]",
      "text/plain": [
       "<Figure size 504x360 with 1 Axes>"
      ]
     },
     "metadata": {
      "needs_background": "light"
     },
     "output_type": "display_data"
    }
   ],
   "source": [
    "df = pd.read_csv('./data/report/histogram_escape_local_minima.csv')\n",
    "\n",
    "fig, ax = plt.subplots(figsize = (7,5))\n",
    "sns.histplot(data=df[['steps_vanilla', 'steps_pp','steps_speculation']], bins=40, element = 'step')\n",
    "ax.set_xlabel('#Stages')\n",
    "ax.set_ylabel('Count')\n",
    "ax.set_title(\"Histogram of #stages Vanilla, K-Means++, Speculative K-Means\")\n",
    "plt.savefig(\"plot_5.svg\", format=\"svg\", bbox_inches='tight')"
   ]
  },
  {
   "cell_type": "markdown",
   "id": "d289d313-b7e1-4b59-9fa4-9a12fde59f4a",
   "metadata": {
    "jp-MarkdownHeadingCollapsed": true,
    "tags": []
   },
   "source": [
    "# 5. Adversarial datasets"
   ]
  },
  {
   "cell_type": "markdown",
   "id": "849c79e0-9867-4e66-9e74-4a5fd01e6e0c",
   "metadata": {},
   "source": [
    "We take as reference for finding complex datasets this page https://scikit-learn.org/stable/auto_examples/cluster/plot_cluster_comparison.html, where performance of different clustering methods is compared on different datasets.\n",
    "\n",
    "We will use the same datasets for measuring the performance of Speculative K-means:\n",
    "- Concentric circles distributions\n",
    "- Moon shaped (i.e: **not convex**) distributions\n",
    "- Anisotropic distributions\n",
    "- Gaussian distributions with different std for each cluster\n",
    "- Simple Gaussian distributions\n",
    "- Not structured distribution\n",
    "\n",
    "In the following experiment, both Vanilla K-means and Speculative K-means **start from the same initial centroids**."
   ]
  },
  {
   "cell_type": "code",
   "execution_count": 38,
   "id": "04dc4d0c-c789-4dab-8cb0-09ad490f318e",
   "metadata": {},
   "outputs": [],
   "source": [
    "def measurements_complex_datasets(dataset_list, seed, k, num_iter, tol, subsample_size, p, q):\n",
    "    results = []\n",
    "    for i, dataset in enumerate(dataset_list):\n",
    "        name = dataset['name']\n",
    "        X, y = dataset['dataset']\n",
    "        parameters = dataset['parameters']\n",
    "        n, d = X.shape\n",
    "        \n",
    "        print(f'Dataset: {i}')\n",
    "        \n",
    "        # Compute initial centroids\n",
    "        np.random.seed(seed)\n",
    "        initial_centroids = X[np.random.choice(n, k, replace=False)]  # (k, d)\n",
    "\n",
    "        # Vanilla K-means \n",
    "        labels, centroids, steps = KMeans(X, k, num_iter = num_iter, seed = seed, kmeans_pp = False, tol = tol, centroids = initial_centroids, return_steps = True)\n",
    "        results.append({'Dataset Type':name, 'Inertia' : getAvgDist(X, centroids), 'labels' : labels, 'dataset_index' : i, 'method': 'Vanilla K-means', 'Steps':steps})\n",
    "\n",
    "        # K-Means++\n",
    "        labels, centroids, steps = KMeans(X, k, num_iter = num_iter, seed = seed, kmeans_pp = True, tol = tol, return_steps = True)\n",
    "        results.append({'Dataset Type':name, 'Inertia' : getAvgDist(X, centroids), 'labels' : labels, 'dataset_index' : i, 'method': 'K-means++', 'Steps':steps})\n",
    "\n",
    "        # Speculative K-means with centroid resampling\n",
    "        labels, centroids, steps = KMeans_sketching(X, k, num_iter=num_iter, seed=seed, subsample_size=subsample_size, choose_best=True, resampling=True, trace=False, tol=tol, resample_centroid=True, return_steps = True, centroids=initial_centroids, p = p, q = q)\n",
    "        results.append({'Dataset Type':name, 'Inertia' : getAvgDist(X, centroids), 'labels' : labels, 'dataset_index' : i, 'method': 'Speculative K-means', 'Steps':steps})\n",
    "    \n",
    "    return results"
   ]
  },
  {
   "cell_type": "code",
   "execution_count": 39,
   "id": "abd7db99-7c39-42e2-9df1-2ba6b382c1c1",
   "metadata": {},
   "outputs": [],
   "source": [
    "def plot_performances_complex_datasets(df, n_samples):\n",
    "    fig, (ax1, ax2) = plt.subplots(1, 2, figsize = (18, 6))\n",
    "    fig.suptitle(f'Inertia/#Steps Vanilla K-means, K-means++ Speculative K-means, n_datapoints = {n_samples}')\n",
    "    sns.barplot(data=df, x=\"Dataset Type\", y=\"Inertia\", hue = \"method\", ax = ax1)\n",
    "    sns.barplot(data=df, x=\"Dataset Type\", y=\"Steps\", hue = \"method\", ax = ax2)"
   ]
  },
  {
   "cell_type": "code",
   "execution_count": 40,
   "id": "51206140-cc68-4d8e-95ad-3b0edf6b28cb",
   "metadata": {},
   "outputs": [],
   "source": [
    "def plot_clustering(dataset_list, results):\n",
    "    fig, axs = plt.subplots(len(dataset_list), 3, figsize = (12, 30))\n",
    "    fig.suptitle('Clustering comparison - Vanilla K-means, K-means++, Speculative K-means', y = 0.9, fontsize = 16)\n",
    "    for i, method in enumerate(['Vanilla K-means', 'K-means++', 'Speculative K-means']):\n",
    "        specific_results = [result for result in results if result['method'] == method]\n",
    "        for j, result in enumerate(specific_results):\n",
    "            X = dataset_list[j][\"dataset\"][0]\n",
    "            sns.scatterplot(x = X[:, 0], y = X[:, 1], hue = result['labels'], ax = axs[j, i])\n",
    "            axs[j, i].set_title(f'{dataset_list[j][\"name\"]} - {method}')"
   ]
  },
  {
   "cell_type": "code",
   "execution_count": 41,
   "id": "3042b3b2-1df9-459a-8876-cf3bcae6d607",
   "metadata": {},
   "outputs": [
    {
     "name": "stdout",
     "output_type": "stream",
     "text": [
      "Dataset: 0\n",
      "Dataset: 1\n",
      "Dataset: 2\n",
      "Dataset: 3\n",
      "Dataset: 4\n",
      "Dataset: 5\n"
     ]
    },
    {
     "data": {
      "image/png": "[encoded data removed]",
      "text/plain": [
       "<Figure size 1296x432 with 2 Axes>"
      ]
     },
     "metadata": {
      "needs_background": "light"
     },
     "output_type": "display_data"
    }
   ],
   "source": [
    "# set parameters\n",
    "run = True\n",
    "\n",
    "seed = 0\n",
    "n_samples = 500000\n",
    "k = 10\n",
    "subsample_size = 0.01\n",
    "num_iter = 50\n",
    "tol = 1e-3\n",
    "p = 0.5\n",
    "q = 0.5\n",
    "\n",
    "# generate datasets\n",
    "dataset_list = generate_complex_datasets(n_samples = n_samples, seed = seed)\n",
    "\n",
    "if run:\n",
    "    # run measurements\n",
    "    results = measurements_complex_datasets(dataset_list, seed=seed, k=k, num_iter=num_iter, tol=tol, subsample_size=subsample_size, p=p, q=q)\n",
    "\n",
    "    df = pd.DataFrame(results)\n",
    "\n",
    "    df.to_csv('./data/report/adversarial_datasets.csv', index=False)\n",
    "    \n",
    "df = pd.read_csv('./data/report/adversarial_datasets.csv')\n",
    "\n",
    "# plot performances\n",
    "plot_performances_complex_datasets(df, n_samples)\n",
    "\n",
    "# plot clusters\n",
    "#plot_clustering(dataset_list, results)"
   ]
  },
  {
   "cell_type": "markdown",
   "id": "81fc4bb7-c8d6-44e1-bd38-3b5089f58a0d",
   "metadata": {
    "tags": []
   },
   "source": [
    "# 6. Increasing number of dimensions"
   ]
  },
  {
   "cell_type": "markdown",
   "id": "9b85ce71-3489-47f2-ace5-7acca49dd553",
   "metadata": {},
   "source": [
    "In this section we aim to study the impact of the number of dimension of the dataset.\n",
    "\n",
    "In particular, in high dimensions the datapoints are more sparse in the space (curse of dimensionality), which may lead to some problems when subsampling for the fast-execution.\n",
    "\n",
    "We want therefore to see if high dimensions really impact on the performance and the accuracy of Speculative K-means."
   ]
  },
  {
   "cell_type": "code",
   "execution_count": 20,
   "id": "0e37504b-bd13-492d-8d9f-899d9b2dfc5d",
   "metadata": {},
   "outputs": [],
   "source": [
    "def load_increasing_d_datasets(min_d, max_d, n_datasets, search, return_meta, dimensions = None):\n",
    "    \"\"\" Return datasets from OpenML with increasing dimensions.\n",
    "    \n",
    "    min_d -- the minimum dimension\n",
    "    max_d -- the maximum dimension\n",
    "    n_datasets -- the number of datasets to retrieve\n",
    "    search -- boolean if perform a new query at OpenML instead of using cashed datasets\n",
    "    return_meta -- boolean if you want also the metadata describing the datasets\n",
    "    \n",
    "    Datasets have a minimum number of datapoints of 1'000.\n",
    "    \"\"\"\n",
    "    \n",
    "    # generate target dimensions to be found\n",
    "    if dimensions is None:\n",
    "        dimensions = np.linspace(min_d, max_d, n_datasets, dtype='int32')\n",
    "    total_list = []\n",
    "    if return_meta:\n",
    "        total_meta = []\n",
    "    print(f'Dimensions to be searched: {dimensions}')\n",
    "    for i, d in enumerate(dimensions):\n",
    "        while True:\n",
    "            \n",
    "            query = f\"NumberOfInstances > 100000 &\\\n",
    "                      NumberOfNumericFeatures == {d} &\\\n",
    "                      NumberOfMissingValues == 0 &\\\n",
    "                      NumberOfSymbolicFeatures == 0\"\n",
    "            if return_meta:\n",
    "                X_list, meta = load_datasets(query, n_datasets = 1, search = search, return_meta = return_meta)\n",
    "            else:\n",
    "                X_list = load_datasets(query, n_datasets = 1, search = search, return_meta = return_meta)\n",
    "            if len(X_list)>0:\n",
    "                print(f'\\tDimension {d} found.')\n",
    "                total_list.append(X_list[0])\n",
    "                if return_meta:\n",
    "                    total_meta.append(meta[0])\n",
    "                break\n",
    "            else:\n",
    "                # try with d+1, and shift the remaining dimensions by +1\n",
    "                print(f'\\tDimension {d} not found.')\n",
    "                d = d + 1\n",
    "                # shift\n",
    "                for j in range(i+1, len(dimensions)):\n",
    "                    dimensions[j] = dimensions[j] + 1\n",
    "    if return_meta:\n",
    "        return total_list, total_meta\n",
    "    return total_list"
   ]
  },
  {
   "cell_type": "code",
   "execution_count": 4,
   "id": "8070520e-dfe1-4a04-9d07-34b5b5cb54dd",
   "metadata": {},
   "outputs": [],
   "source": [
    "def measurements_increasing_d_datasets(X_list, seed, k, num_iter, tol, subsample_size, p, q):\n",
    "    results = []\n",
    "    for i, X in enumerate(X_list):\n",
    "        n, d = X.shape\n",
    "        \n",
    "        print(f'Dataset: {i}')\n",
    "        \n",
    "        # Compute initial centroids\n",
    "        np.random.seed(seed)\n",
    "        initial_centroids = X[np.random.choice(n, k, replace=False)]  # (k, d)\n",
    "\n",
    "        # Vanilla K-means \n",
    "        labels, centroids, steps = KMeans(X, k, num_iter = num_iter, seed = seed, kmeans_pp = False, tol = tol, centroids = initial_centroids, return_steps = True)\n",
    "        results.append({'Dimension' : d, 'Inertia' : getAvgDist(X, centroids), 'labels' : labels, 'dataset_index' : i, 'method': 'Vanilla K-means', 'Steps':steps})\n",
    "\n",
    "        # K-Means++\n",
    "        labels, centroids, steps = KMeans(X, k, num_iter = num_iter, seed = seed, kmeans_pp = True, tol = tol, return_steps = True)\n",
    "        results.append({'Dimension' : d, 'Inertia' : getAvgDist(X, centroids), 'labels' : labels, 'dataset_index' : i, 'method': 'K-means++', 'Steps':steps})\n",
    "\n",
    "        # Speculative K-means with centroid resampling\n",
    "        labels, centroids, steps = KMeans_sketching(X, k, num_iter=num_iter, seed=seed, subsample_size=subsample_size, choose_best=True, resampling=True, trace=False, tol=tol, resample_centroid=True, return_steps = True, centroids=initial_centroids, p = p, q = q)\n",
    "        results.append({'Dimension': d, 'Inertia' : getAvgDist(X, centroids), 'labels' : labels, 'dataset_index' : i, 'method': 'Speculative K-means', 'Steps':steps})\n",
    "    \n",
    "    return results"
   ]
  },
  {
   "cell_type": "code",
   "execution_count": 5,
   "id": "71adec93-d163-49bc-80d8-ded24eb202d9",
   "metadata": {},
   "outputs": [],
   "source": [
    "def plot_increasing_d_datasets(df):\n",
    "    fig, (ax1, ax2) = plt.subplots(1, 2, figsize = (18, 6))\n",
    "    fig.suptitle(f'Inertia/#Steps Vanilla K-means, K-means++ Speculative K-means')\n",
    "    sns.barplot(data=df, x=\"Dimension\", y=\"Inertia\", hue = \"method\", ax = ax1)\n",
    "    sns.barplot(data=df, x=\"Dimension\", y=\"Steps\", hue = \"method\", ax = ax2)"
   ]
  },
  {
   "cell_type": "code",
   "execution_count": 3,
   "id": "2bfbab7e-7b05-4bc5-9924-d6bbcb3db4cc",
   "metadata": {},
   "outputs": [],
   "source": [
    "import json"
   ]
  },
  {
   "cell_type": "code",
   "execution_count": 4,
   "id": "e5c35373-9414-4194-b525-50fa14b06905",
   "metadata": {},
   "outputs": [],
   "source": [
    "# Opening JSON file\n",
    "f = open('datasets/types.json')\n",
    "  \n",
    "# returns JSON object as \n",
    "# a dictionary\n",
    "data = json.load(f)"
   ]
  },
  {
   "cell_type": "code",
   "execution_count": 8,
   "id": "80487474-8b4d-46d6-9b0f-789588e6a14d",
   "metadata": {},
   "outputs": [],
   "source": [
    "from numpy import genfromtxt\n",
    "my_data = genfromtxt(data['G2'][10], delimiter=',')"
   ]
  },
  {
   "cell_type": "code",
   "execution_count": 11,
   "id": "e06615b2-b96e-4f7a-a4b4-f2bafce340fb",
   "metadata": {},
   "outputs": [],
   "source": [
    "X_list = [genfromtxt(d, delimiter=',') for d in data['G2']];"
   ]
  },
  {
   "cell_type": "code",
   "execution_count": null,
   "id": "e1b1bba9-7f1c-4d27-8db3-3ee1a9928ccd",
   "metadata": {},
   "outputs": [
    {
     "name": "stdout",
     "output_type": "stream",
     "text": [
      "Dimensions to be searched: [10, 20, 30, 41, 59, 78, 91, 101, 129, 224]\n",
      "\tDimension 10 found.\n",
      "\tDimension 20 found.\n",
      "\tDimension 30 found.\n",
      "\tDimension 41 found.\n",
      "\tDimension 59 found.\n",
      "\tDimension 78 found.\n",
      "\tDimension 91 found.\n",
      "\tDimension 101 found.\n",
      "\tDimension 129 found.\n",
      "\tDimension 224 found.\n",
      "Dataset: 0\n",
      "Dataset: 1\n",
      "Dataset: 2\n",
      "Dataset: 3\n",
      "Dataset: 4\n",
      "Dataset: 5\n",
      "Dataset: 6\n"
     ]
    }
   ],
   "source": [
    "# set parameters\n",
    "run = True\n",
    "\n",
    "min_d = 10\n",
    "max_d = 100\n",
    "n_datasets = 10\n",
    "\n",
    "seed = 0\n",
    "k = 5\n",
    "subsample_size = 0.01\n",
    "num_iter = 50\n",
    "tol = 1e-3\n",
    "p = 0.7\n",
    "q = 0.5\n",
    "\n",
    "dimensions = [10, 20, 30, 41, 59, 78, 91, 101, 129, 224]\n",
    "\n",
    "# generate datasets\n",
    "X_list, meta = load_increasing_d_datasets(min_d, max_d, n_datasets, search = True, return_meta = True, dimensions = dimensions)\n",
    "\n",
    "if run:\n",
    "    # run measurements\n",
    "    results = measurements_increasing_d_datasets(X_list, seed=seed, k=20, num_iter=num_iter, tol=tol, subsample_size=subsample_size, p=p, q=q)\n",
    "\n",
    "    df = pd.DataFrame(results)\n",
    "\n",
    "    df.to_csv('./data/report/increasing_dimension.csv', index=False)\n",
    "    \n",
    "df = pd.read_csv('./data/report/increasing_dimension.csv')\n",
    "\n",
    "# plot performances\n",
    "plot_increasing_d_datasets(df)"
   ]
  },
  {
   "cell_type": "code",
   "execution_count": 10,
   "id": "1a018b34-9695-4b45-882d-53944303bfcc",
   "metadata": {},
   "outputs": [
    {
     "data": {
      "image/png": "[encoded data removed]",
      "text/plain": [
       "<Figure size 1296x432 with 2 Axes>"
      ]
     },
     "metadata": {
      "needs_background": "light"
     },
     "output_type": "display_data"
    }
   ],
   "source": [
    "df = pd.read_csv('./data/report/increasing_dimension.csv')\n",
    "\n",
    "# plot performances\n",
    "plot_increasing_d_datasets(df)"
   ]
  },
  {
   "cell_type": "markdown",
   "id": "30fff182-cf65-4751-bd93-960f3e5d23fd",
   "metadata": {},
   "source": [
    "# 7. Sampling overhead"
   ]
  },
  {
   "cell_type": "code",
   "execution_count": 184,
   "id": "af4b9177-2b53-4ace-8144-cbbbad70dbd1",
   "metadata": {},
   "outputs": [],
   "source": [
    "n = 100000000\n",
    "x = np.arange(n)\n",
    "k = 5"
   ]
  },
  {
   "cell_type": "code",
   "execution_count": 185,
   "id": "9ddf1c3d-f722-4c3e-9554-72a1e3be5890",
   "metadata": {},
   "outputs": [
    {
     "name": "stdout",
     "output_type": "stream",
     "text": [
      "First sample: [14012627 22304571 21556383 16693736 80819237]\n",
      "Second sample: [75975424 13856024 19513153 11614969 83794627]\n",
      "Third sample: [27026105 66257653 32574766 82520678 60671449]\n",
      "Wall time: 5.43 s\n"
     ]
    }
   ],
   "source": [
    "%%time\n",
    "x = np.random.permutation(x)\n",
    "print(f'First sample: {x[:k]}')\n",
    "print(f'Second sample: {x[k:2*k]}')\n",
    "print(f'Third sample: {x[2*k:3*k]}')"
   ]
  },
  {
   "cell_type": "code",
   "execution_count": 186,
   "id": "bd4ad9b3-1a22-4010-932f-721db5367066",
   "metadata": {},
   "outputs": [
    {
     "name": "stdout",
     "output_type": "stream",
     "text": [
      "First sample: [95518949 25354370 59264672 46371046 62987415]\n",
      "Second sample: [76945409 85506438 61573269 63620932 21359620]\n",
      "Third sample: [40711002 64836812 82602192 90737364 24030354]\n",
      "Wall time: 16.3 s\n"
     ]
    }
   ],
   "source": [
    "%%time\n",
    "print(f'First sample: {x[np.random.choice(n, k, replace=False)]}')\n",
    "print(f'Second sample: {x[np.random.choice(n, k, replace=False)]}')\n",
    "print(f'Third sample: {x[np.random.choice(n, k, replace=False)]}')"
   ]
  },
  {
   "cell_type": "markdown",
   "id": "1d55d307-b56d-4bc6-a52a-6db1c467a1ed",
   "metadata": {
    "tags": []
   },
   "source": [
    "# 5. Overall time execution"
   ]
  },
  {
   "cell_type": "code",
   "execution_count": null,
   "id": "a7a04bcf-7826-48ce-804f-579408263e45",
   "metadata": {},
   "outputs": [],
   "source": [
    "# load datasets\n",
    "query = \"NumberOfInstances > 500000 &\\\n",
    "         NumberOfInstances < 10000000 &\\\n",
    "         NumberOfNumericFeatures > 5 &\\\n",
    "         NumberOfNumericFeatures < 50 &\\\n",
    "         NumberOfMissingValues == 0 &\\\n",
    "         NumberOfSymbolicFeatures == 0\"\n",
    "\n",
    "X_list, meta = load_datasets(query, n_datasets = 10, search = True, return_meta=True)"
   ]
  },
  {
   "cell_type": "code",
   "execution_count": null,
   "id": "d5d1c951-518c-4561-a875-f80c012500f3",
   "metadata": {},
   "outputs": [],
   "source": [
    "# Set seed\n",
    "seed = 0\n",
    "subsample_size = 0.01\n",
    "run = True\n",
    "num_iter = 50\n",
    "tol = 1e-3\n",
    "measurements = []\n",
    "\n",
    "# Real datasets\n",
    "for i, X in enumerate(X_list):\n",
    "    # Set parameters\n",
    "    n, d = X.shape\n",
    "    print(f'\\nDataset {i}°:', end =\"\")\n",
    "    for j, k in enumerate(range(3,11)):\n",
    "        print(f' {k}', end = \"\")\n",
    "        \n",
    "        # Compute initial centroids\n",
    "        np.random.seed(seed)\n",
    "        initial_centroids = X[np.random.choice(n, k, replace=False)]  # (k, d)\n",
    "              \n",
    "        # Vanilla K-Means\n",
    "        _, centroids_vanilla, t_A_array, t_B_array, steps_vanilla = KMeans(X, k, num_iter = num_iter, seed = seed, kmeans_pp = False, tol = tol, centroids = initial_centroids, measure = True, return_steps = True)\n",
    "        time_execution_vanilla = t_A_array.sum() + t_B_array.sum()\n",
    "        inertia_vanilla = getAvgDist(X, centroids_vanilla)\n",
    "        \n",
    "        # Speculative K-Means\n",
    "        path = f'./data/report/histogram_time_execution_id_{i}_k_{k}.csv'\n",
    "        _, centroids_speculation, steps_speculation = KMeans_sketching(X, k, num_iter=num_iter, seed=seed, subsample_size=subsample_size, save=True, path=path, measure=True, choose_best=True, resampling=True, trace=True, tol=tol, resample_centroid=False, measure_time = True,centroids=initial_centroids, p = 0.5, q = 0.5, return_steps = True)\n",
    "        df_speculation = pd.read_csv(path)\n",
    "        time_execution_speculation = df_speculation[['t_A', 't_B','t_sampling','t_choose_best','t_get_avg','t_permutation']].to_numpy().sum()\n",
    "        inertia_speculation = getAvgDist(X, centroids_speculation)\n",
    "        \n",
    "        measurements.append({'n':n, 'd':d, 'k': k, 'i': i, 'time_execution_vanilla':time_execution_vanilla, 'time_execution_speculation':time_execution_speculation, 'subsample_size':subsample_size, 'seed':seed, 'steps_vanilla':steps_vanilla, 'steps_speculation':steps_speculation, 'inertia_vanilla':inertia_vanilla, 'inertia_speculation':inertia_speculation})\n",
    "        \n",
    "# Save measurements to CSV file and compute ratio of steps for Speculative K-Means and Vanilla K-Means\n",
    "df = pd.DataFrame(measurements)\n",
    "df.to_csv('./data/report/histogram_time_execution.csv', index=False)"
   ]
  },
  {
   "cell_type": "code",
   "execution_count": 46,
   "id": "167ac6a2-788c-42bb-bd38-94a5a850ae99",
   "metadata": {},
   "outputs": [
    {
     "data": {
      "text/html": [
       "<div>\n",
       "<style scoped>\n",
       "    .dataframe tbody tr th:only-of-type {\n",
       "        vertical-align: middle;\n",
       "    }\n",
       "\n",
       "    .dataframe tbody tr th {\n",
       "        vertical-align: top;\n",
       "    }\n",
       "\n",
       "    .dataframe thead th {\n",
       "        text-align: right;\n",
       "    }\n",
       "</style>\n",
       "<table border=\"1\" class=\"dataframe\">\n",
       "  <thead>\n",
       "    <tr style=\"text-align: right;\">\n",
       "      <th></th>\n",
       "      <th>L_slow</th>\n",
       "      <th>L_fast</th>\n",
       "      <th>L_diff</th>\n",
       "      <th>n</th>\n",
       "      <th>d</th>\n",
       "      <th>k</th>\n",
       "      <th>seed</th>\n",
       "      <th>subsample_size</th>\n",
       "      <th>steps</th>\n",
       "      <th>t_A</th>\n",
       "      <th>t_B</th>\n",
       "      <th>t_sketching</th>\n",
       "      <th>t_sampling</th>\n",
       "      <th>t_choose_best</th>\n",
       "      <th>t_sampling_centroids</th>\n",
       "      <th>t_get_avg</th>\n",
       "      <th>t_permutation</th>\n",
       "    </tr>\n",
       "  </thead>\n",
       "  <tbody>\n",
       "    <tr>\n",
       "      <th>0</th>\n",
       "      <td>8.596836e+06</td>\n",
       "      <td>369769.505036</td>\n",
       "      <td>-8.227066e+06</td>\n",
       "      <td>678013</td>\n",
       "      <td>7</td>\n",
       "      <td>7</td>\n",
       "      <td>0</td>\n",
       "      <td>0.01</td>\n",
       "      <td>12</td>\n",
       "      <td>140.625</td>\n",
       "      <td>0.000</td>\n",
       "      <td>203.125</td>\n",
       "      <td>0.0</td>\n",
       "      <td>0.0</td>\n",
       "      <td>0.0</td>\n",
       "      <td>281.250</td>\n",
       "      <td>187.5</td>\n",
       "    </tr>\n",
       "    <tr>\n",
       "      <th>1</th>\n",
       "      <td>3.692853e+05</td>\n",
       "      <td>369986.835934</td>\n",
       "      <td>7.015285e+02</td>\n",
       "      <td>678013</td>\n",
       "      <td>7</td>\n",
       "      <td>7</td>\n",
       "      <td>0</td>\n",
       "      <td>0.01</td>\n",
       "      <td>12</td>\n",
       "      <td>0.000</td>\n",
       "      <td>15.625</td>\n",
       "      <td>187.500</td>\n",
       "      <td>0.0</td>\n",
       "      <td>0.0</td>\n",
       "      <td>0.0</td>\n",
       "      <td>265.625</td>\n",
       "      <td>0.0</td>\n",
       "    </tr>\n",
       "    <tr>\n",
       "      <th>2</th>\n",
       "      <td>3.691184e+05</td>\n",
       "      <td>354186.693890</td>\n",
       "      <td>-1.493166e+04</td>\n",
       "      <td>678013</td>\n",
       "      <td>7</td>\n",
       "      <td>7</td>\n",
       "      <td>0</td>\n",
       "      <td>0.01</td>\n",
       "      <td>12</td>\n",
       "      <td>0.000</td>\n",
       "      <td>31.250</td>\n",
       "      <td>203.125</td>\n",
       "      <td>0.0</td>\n",
       "      <td>0.0</td>\n",
       "      <td>0.0</td>\n",
       "      <td>265.625</td>\n",
       "      <td>0.0</td>\n",
       "    </tr>\n",
       "    <tr>\n",
       "      <th>3</th>\n",
       "      <td>3.402286e+05</td>\n",
       "      <td>255223.194102</td>\n",
       "      <td>-8.500539e+04</td>\n",
       "      <td>678013</td>\n",
       "      <td>7</td>\n",
       "      <td>7</td>\n",
       "      <td>0</td>\n",
       "      <td>0.01</td>\n",
       "      <td>12</td>\n",
       "      <td>0.000</td>\n",
       "      <td>15.625</td>\n",
       "      <td>203.125</td>\n",
       "      <td>0.0</td>\n",
       "      <td>0.0</td>\n",
       "      <td>0.0</td>\n",
       "      <td>265.625</td>\n",
       "      <td>0.0</td>\n",
       "    </tr>\n",
       "    <tr>\n",
       "      <th>4</th>\n",
       "      <td>1.958917e+05</td>\n",
       "      <td>207213.925780</td>\n",
       "      <td>1.132225e+04</td>\n",
       "      <td>678013</td>\n",
       "      <td>7</td>\n",
       "      <td>7</td>\n",
       "      <td>0</td>\n",
       "      <td>0.01</td>\n",
       "      <td>12</td>\n",
       "      <td>0.000</td>\n",
       "      <td>15.625</td>\n",
       "      <td>187.500</td>\n",
       "      <td>0.0</td>\n",
       "      <td>0.0</td>\n",
       "      <td>0.0</td>\n",
       "      <td>281.250</td>\n",
       "      <td>0.0</td>\n",
       "    </tr>\n",
       "    <tr>\n",
       "      <th>5</th>\n",
       "      <td>1.905837e+05</td>\n",
       "      <td>190859.879258</td>\n",
       "      <td>2.762277e+02</td>\n",
       "      <td>678013</td>\n",
       "      <td>7</td>\n",
       "      <td>7</td>\n",
       "      <td>0</td>\n",
       "      <td>0.01</td>\n",
       "      <td>12</td>\n",
       "      <td>0.000</td>\n",
       "      <td>15.625</td>\n",
       "      <td>203.125</td>\n",
       "      <td>0.0</td>\n",
       "      <td>0.0</td>\n",
       "      <td>0.0</td>\n",
       "      <td>265.625</td>\n",
       "      <td>0.0</td>\n",
       "    </tr>\n",
       "    <tr>\n",
       "      <th>6</th>\n",
       "      <td>1.894678e+05</td>\n",
       "      <td>190103.463709</td>\n",
       "      <td>6.357121e+02</td>\n",
       "      <td>678013</td>\n",
       "      <td>7</td>\n",
       "      <td>7</td>\n",
       "      <td>0</td>\n",
       "      <td>0.01</td>\n",
       "      <td>12</td>\n",
       "      <td>0.000</td>\n",
       "      <td>15.625</td>\n",
       "      <td>203.125</td>\n",
       "      <td>0.0</td>\n",
       "      <td>0.0</td>\n",
       "      <td>0.0</td>\n",
       "      <td>265.625</td>\n",
       "      <td>0.0</td>\n",
       "    </tr>\n",
       "    <tr>\n",
       "      <th>7</th>\n",
       "      <td>1.890787e+05</td>\n",
       "      <td>184079.263121</td>\n",
       "      <td>-4.999414e+03</td>\n",
       "      <td>678013</td>\n",
       "      <td>7</td>\n",
       "      <td>7</td>\n",
       "      <td>0</td>\n",
       "      <td>0.01</td>\n",
       "      <td>12</td>\n",
       "      <td>0.000</td>\n",
       "      <td>0.000</td>\n",
       "      <td>218.750</td>\n",
       "      <td>0.0</td>\n",
       "      <td>0.0</td>\n",
       "      <td>0.0</td>\n",
       "      <td>265.625</td>\n",
       "      <td>0.0</td>\n",
       "    </tr>\n",
       "    <tr>\n",
       "      <th>8</th>\n",
       "      <td>1.792912e+05</td>\n",
       "      <td>179306.397105</td>\n",
       "      <td>1.523462e+01</td>\n",
       "      <td>678013</td>\n",
       "      <td>7</td>\n",
       "      <td>7</td>\n",
       "      <td>0</td>\n",
       "      <td>0.01</td>\n",
       "      <td>12</td>\n",
       "      <td>0.000</td>\n",
       "      <td>15.625</td>\n",
       "      <td>203.125</td>\n",
       "      <td>0.0</td>\n",
       "      <td>0.0</td>\n",
       "      <td>0.0</td>\n",
       "      <td>265.625</td>\n",
       "      <td>0.0</td>\n",
       "    </tr>\n",
       "    <tr>\n",
       "      <th>9</th>\n",
       "      <td>1.776454e+05</td>\n",
       "      <td>178314.967577</td>\n",
       "      <td>6.695275e+02</td>\n",
       "      <td>678013</td>\n",
       "      <td>7</td>\n",
       "      <td>7</td>\n",
       "      <td>0</td>\n",
       "      <td>0.01</td>\n",
       "      <td>12</td>\n",
       "      <td>0.000</td>\n",
       "      <td>15.625</td>\n",
       "      <td>187.500</td>\n",
       "      <td>0.0</td>\n",
       "      <td>0.0</td>\n",
       "      <td>0.0</td>\n",
       "      <td>281.250</td>\n",
       "      <td>0.0</td>\n",
       "    </tr>\n",
       "    <tr>\n",
       "      <th>10</th>\n",
       "      <td>1.772724e+05</td>\n",
       "      <td>177663.335720</td>\n",
       "      <td>3.909016e+02</td>\n",
       "      <td>678013</td>\n",
       "      <td>7</td>\n",
       "      <td>7</td>\n",
       "      <td>0</td>\n",
       "      <td>0.01</td>\n",
       "      <td>12</td>\n",
       "      <td>0.000</td>\n",
       "      <td>15.625</td>\n",
       "      <td>203.125</td>\n",
       "      <td>0.0</td>\n",
       "      <td>0.0</td>\n",
       "      <td>0.0</td>\n",
       "      <td>250.000</td>\n",
       "      <td>0.0</td>\n",
       "    </tr>\n",
       "    <tr>\n",
       "      <th>11</th>\n",
       "      <td>1.771131e+05</td>\n",
       "      <td>176870.983737</td>\n",
       "      <td>-2.420736e+02</td>\n",
       "      <td>678013</td>\n",
       "      <td>7</td>\n",
       "      <td>7</td>\n",
       "      <td>0</td>\n",
       "      <td>0.01</td>\n",
       "      <td>12</td>\n",
       "      <td>0.000</td>\n",
       "      <td>31.250</td>\n",
       "      <td>203.125</td>\n",
       "      <td>0.0</td>\n",
       "      <td>0.0</td>\n",
       "      <td>0.0</td>\n",
       "      <td>265.625</td>\n",
       "      <td>0.0</td>\n",
       "    </tr>\n",
       "    <tr>\n",
       "      <th>12</th>\n",
       "      <td>1.767443e+05</td>\n",
       "      <td>177018.023271</td>\n",
       "      <td>2.737515e+02</td>\n",
       "      <td>678013</td>\n",
       "      <td>7</td>\n",
       "      <td>7</td>\n",
       "      <td>0</td>\n",
       "      <td>0.01</td>\n",
       "      <td>12</td>\n",
       "      <td>0.000</td>\n",
       "      <td>15.625</td>\n",
       "      <td>203.125</td>\n",
       "      <td>0.0</td>\n",
       "      <td>0.0</td>\n",
       "      <td>0.0</td>\n",
       "      <td>265.625</td>\n",
       "      <td>0.0</td>\n",
       "    </tr>\n",
       "  </tbody>\n",
       "</table>\n",
       "</div>"
      ],
      "text/plain": [
       "          L_slow         L_fast        L_diff       n  d  k  seed  \\\n",
       "0   8.596836e+06  369769.505036 -8.227066e+06  678013  7  7     0   \n",
       "1   3.692853e+05  369986.835934  7.015285e+02  678013  7  7     0   \n",
       "2   3.691184e+05  354186.693890 -1.493166e+04  678013  7  7     0   \n",
       "3   3.402286e+05  255223.194102 -8.500539e+04  678013  7  7     0   \n",
       "4   1.958917e+05  207213.925780  1.132225e+04  678013  7  7     0   \n",
       "5   1.905837e+05  190859.879258  2.762277e+02  678013  7  7     0   \n",
       "6   1.894678e+05  190103.463709  6.357121e+02  678013  7  7     0   \n",
       "7   1.890787e+05  184079.263121 -4.999414e+03  678013  7  7     0   \n",
       "8   1.792912e+05  179306.397105  1.523462e+01  678013  7  7     0   \n",
       "9   1.776454e+05  178314.967577  6.695275e+02  678013  7  7     0   \n",
       "10  1.772724e+05  177663.335720  3.909016e+02  678013  7  7     0   \n",
       "11  1.771131e+05  176870.983737 -2.420736e+02  678013  7  7     0   \n",
       "12  1.767443e+05  177018.023271  2.737515e+02  678013  7  7     0   \n",
       "\n",
       "    subsample_size  steps      t_A     t_B  t_sketching  t_sampling  \\\n",
       "0             0.01     12  140.625   0.000      203.125         0.0   \n",
       "1             0.01     12    0.000  15.625      187.500         0.0   \n",
       "2             0.01     12    0.000  31.250      203.125         0.0   \n",
       "3             0.01     12    0.000  15.625      203.125         0.0   \n",
       "4             0.01     12    0.000  15.625      187.500         0.0   \n",
       "5             0.01     12    0.000  15.625      203.125         0.0   \n",
       "6             0.01     12    0.000  15.625      203.125         0.0   \n",
       "7             0.01     12    0.000   0.000      218.750         0.0   \n",
       "8             0.01     12    0.000  15.625      203.125         0.0   \n",
       "9             0.01     12    0.000  15.625      187.500         0.0   \n",
       "10            0.01     12    0.000  15.625      203.125         0.0   \n",
       "11            0.01     12    0.000  31.250      203.125         0.0   \n",
       "12            0.01     12    0.000  15.625      203.125         0.0   \n",
       "\n",
       "    t_choose_best  t_sampling_centroids  t_get_avg  t_permutation  \n",
       "0             0.0                   0.0    281.250          187.5  \n",
       "1             0.0                   0.0    265.625            0.0  \n",
       "2             0.0                   0.0    265.625            0.0  \n",
       "3             0.0                   0.0    265.625            0.0  \n",
       "4             0.0                   0.0    281.250            0.0  \n",
       "5             0.0                   0.0    265.625            0.0  \n",
       "6             0.0                   0.0    265.625            0.0  \n",
       "7             0.0                   0.0    265.625            0.0  \n",
       "8             0.0                   0.0    265.625            0.0  \n",
       "9             0.0                   0.0    281.250            0.0  \n",
       "10            0.0                   0.0    250.000            0.0  \n",
       "11            0.0                   0.0    265.625            0.0  \n",
       "12            0.0                   0.0    265.625            0.0  "
      ]
     },
     "execution_count": 46,
     "metadata": {},
     "output_type": "execute_result"
    }
   ],
   "source": [
    "pd.read_csv( f'./data/report/histogram_time_execution_id_{1}_k_{7}.csv')"
   ]
  },
  {
   "cell_type": "code",
   "execution_count": 5,
   "id": "2de7013c-65d8-4f71-9e70-e4942749e7ac",
   "metadata": {
    "collapsed": true,
    "jupyter": {
     "outputs_hidden": true
    },
    "tags": []
   },
   "outputs": [
    {
     "data": {
      "text/plain": [
       "Text(0.5, 1.0, 'Histogram of ratio \\\\#stages and time, between Speculative and Vanilla K-Means')"
      ]
     },
     "execution_count": 5,
     "metadata": {},
     "output_type": "execute_result"
    },
    {
     "data": {
      "image/png": "[encoded data removed]",
      "text/plain": [
       "<Figure size 504x360 with 1 Axes>"
      ]
     },
     "metadata": {
      "needs_background": "light"
     },
     "output_type": "display_data"
    }
   ],
   "source": [
    "df = pd.read_csv('./data/report/histogram_time_execution.csv')\n",
    "df['ratio_time'] = df['time_execution_speculation'] / df['time_execution_vanilla']\n",
    "df['ratio_stages'] = df['steps_speculation'] / df['steps_vanilla']\n",
    "\n",
    "fig, ax = plt.subplots(figsize = (7,5))\n",
    "sns.histplot(data=df[['ratio_time','ratio_stages']], bins=30, element=\"step\")\n",
    "ax.set_xlabel('Ratio')\n",
    "ax.set_ylabel('Count')\n",
    "ax.set_title(\"Histogram of ratio \\#stages and time, between Speculative and Vanilla K-Means\")"
   ]
  }
 ],
 "metadata": {
  "kernelspec": {
   "display_name": "Python 3 (ipykernel)",
   "language": "python",
   "name": "python3"
  },
  "language_info": {
   "codemirror_mode": {
    "name": "ipython",
    "version": 3
   },
   "file_extension": ".py",
   "mimetype": "text/x-python",
   "name": "python",
   "nbconvert_exporter": "python",
   "pygments_lexer": "ipython3",
   "version": "3.8.12"
  }
 },
 "nbformat": 4,
 "nbformat_minor": 5
}
